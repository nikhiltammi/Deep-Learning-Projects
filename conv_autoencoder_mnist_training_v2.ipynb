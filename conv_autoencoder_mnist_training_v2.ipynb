{
  "cells": [
    {
      "cell_type": "markdown",
      "metadata": {
        "id": "DR9YpfzgD061"
      },
      "source": [
        "# Convolutional Autoencoder"
      ]
    },
    {
      "cell_type": "markdown",
      "metadata": {
        "id": "MkoGLH_Tj5wn"
      },
      "source": [
        "## Imports"
      ]
    },
    {
      "cell_type": "code",
      "execution_count": null,
      "metadata": {
        "id": "ORj09gnrj5wp"
      },
      "outputs": [],
      "source": [
        "import torch\n",
        "import torch.nn as nn\n",
        "import matplotlib.pyplot as plt"
      ]
    },
    {
      "cell_type": "code",
      "source": [
        "%env CUBLAS_WORKSPACE_CONFIG=:4096:8"
      ],
      "metadata": {
        "colab": {
          "base_uri": "https://localhost:8080/"
        },
        "id": "NlSA3Kl6Ek1E",
        "outputId": "e20fb52b-137f-4923-8cda-f2dd302ceb1c"
      },
      "execution_count": null,
      "outputs": [
        {
          "output_type": "stream",
          "name": "stdout",
          "text": [
            "env: CUBLAS_WORKSPACE_CONFIG=:4096:8\n"
          ]
        }
      ]
    },
    {
      "cell_type": "markdown",
      "metadata": {
        "id": "JnJpJ_RrD065"
      },
      "source": [
        "#### Import utility functions"
      ]
    },
    {
      "cell_type": "code",
      "execution_count": null,
      "metadata": {
        "id": "xIv3ZGrZD065"
      },
      "outputs": [],
      "source": [
        "from helper_data import get_dataloaders_mnist\n",
        "from helper_train import train_autoencoder_v1\n",
        "from helper_utils import set_deterministic, set_all_seeds\n",
        "from helper_plotting import plot_training_loss\n",
        "from helper_plotting import plot_generated_images\n",
        "from helper_plotting import plot_latent_space_with_labels"
      ]
    },
    {
      "cell_type": "code",
      "execution_count": null,
      "metadata": {
        "colab": {
          "base_uri": "https://localhost:8080/"
        },
        "id": "NnT0sZIwj5wu",
        "outputId": "e092d919-d9b3-48d8-d55e-ef07849c0746"
      },
      "outputs": [
        {
          "output_type": "stream",
          "name": "stdout",
          "text": [
            "Device: cuda:0\n"
          ]
        }
      ],
      "source": [
        "##########################\n",
        "### SETTINGS\n",
        "##########################\n",
        "\n",
        "# Device\n",
        "CUDA_DEVICE_NUM = 0\n",
        "DEVICE = torch.device(f'cuda:{CUDA_DEVICE_NUM}' if torch.cuda.is_available() else 'cpu')\n",
        "print('Device:', DEVICE)\n",
        "\n",
        "# Hyperparameters\n",
        "RANDOM_SEED = 123\n",
        "LEARNING_RATE = 0.0005\n",
        "BATCH_SIZE = 32\n",
        "NUM_EPOCHS = 20"
      ]
    },
    {
      "cell_type": "code",
      "execution_count": null,
      "metadata": {
        "id": "3BRioVYoD067"
      },
      "outputs": [],
      "source": [
        "set_deterministic\n",
        "set_all_seeds(RANDOM_SEED)"
      ]
    },
    {
      "cell_type": "markdown",
      "metadata": {
        "id": "eKaNR0kxD067"
      },
      "source": [
        "## Dataset"
      ]
    },
    {
      "cell_type": "code",
      "execution_count": null,
      "metadata": {
        "id": "JLNpg1PvD068",
        "colab": {
          "base_uri": "https://localhost:8080/",
          "height": 423,
          "referenced_widgets": [
            "3d0754a820c74fb0b1f01467a23ec800",
            "e97d10358cf7421d8df426096bd903c0",
            "b4b387e4b56a4f64be0fc438886cb626",
            "1ee96decbf6745049fb50e1bca056803",
            "db0d18ff62324e3d9827ed59daeffd47",
            "9359d3e3f24a4173b53e4c5d70c712a4",
            "1126faaf89e046d29716286c6d4d37e4",
            "e791322f60e442b48387b821cb2fe2ac",
            "3ea37547285443388917e6823c392d87",
            "2aa8bfab5e20479083c1337ab488b480",
            "902a626a151f491d8caf1e431a858d45",
            "e87dcfb8371f4c48b7e9f49edd7a0e2b",
            "0ad6e48fdd144536ae09baf44828bc76",
            "7edf5a5250e2418a87c4da1c3ade869e",
            "520b8b9e9d974cd2b5a95064406c0e8b",
            "964154ee8f6640e9bf1f3adf83ebef53",
            "3865147d02124502a7ec9e7d9e84be92",
            "d9b8b5a816b94bf89b20320752cd8599",
            "4611e2e9aec04a18810ef78c21698bcf",
            "079f5c79f8b14885b3d7a6dcc72ec929",
            "fde4065c96a74947b60e66190cdc0950",
            "88e1304999b4493ba724b6dda62aedaf",
            "a003f57c90da4e0fa7eab5c0dcc96f80",
            "b0bafb115022421ea4a3ef7e1bbfa244",
            "ee7902bdf813473aa7a79ffb7f7129bb",
            "7e7f6fc234204a91aa3a80792b5c44a1",
            "80949731f5ba493b844c03b8aa280e67",
            "564d1669a13a4105ba2ca0201ed37cab",
            "a624a01ca388427b9cad476518473e7e",
            "5d08fe8d02f1491296f9e0e0ccdb9c58",
            "52817a9699b34f29bb39d5caf28c17b8",
            "e0bc02c0cd2e4ed581f88ff85b95ffc0",
            "c334bc360e844dfa902e4941485d8589",
            "eb2f7003a99140578cc56cdc91699fcb",
            "25c9539d998f46719ec82f2057752d4f",
            "97a8435c52bc4707be54518abffce34d",
            "6841f41a19b94bddb9de117b16db7ec6",
            "60f359775b204efeb94d6ca16d57e472",
            "b400df83efcb443097fe1560aa938d50",
            "9eb3f2bb382a4f329dd55ee84aff0660",
            "fcee97c10e0f4003a99e83a5eb4de034",
            "0105e572fedd4eb39ae1684abfcfaa71",
            "a4baeedc729b46ac9d044e7e152a15cd",
            "88a567f878bb4d29b00c2eba628b556a"
          ]
        },
        "outputId": "0b539ea9-0606-451e-b204-4ba2fb994da0"
      },
      "outputs": [
        {
          "output_type": "stream",
          "name": "stdout",
          "text": [
            "Downloading http://yann.lecun.com/exdb/mnist/train-images-idx3-ubyte.gz\n",
            "Downloading http://yann.lecun.com/exdb/mnist/train-images-idx3-ubyte.gz to data/MNIST/raw/train-images-idx3-ubyte.gz\n"
          ]
        },
        {
          "output_type": "display_data",
          "data": {
            "text/plain": [
              "  0%|          | 0/9912422 [00:00<?, ?it/s]"
            ],
            "application/vnd.jupyter.widget-view+json": {
              "version_major": 2,
              "version_minor": 0,
              "model_id": "3d0754a820c74fb0b1f01467a23ec800"
            }
          },
          "metadata": {}
        },
        {
          "output_type": "stream",
          "name": "stdout",
          "text": [
            "Extracting data/MNIST/raw/train-images-idx3-ubyte.gz to data/MNIST/raw\n",
            "\n",
            "Downloading http://yann.lecun.com/exdb/mnist/train-labels-idx1-ubyte.gz\n",
            "Downloading http://yann.lecun.com/exdb/mnist/train-labels-idx1-ubyte.gz to data/MNIST/raw/train-labels-idx1-ubyte.gz\n"
          ]
        },
        {
          "output_type": "display_data",
          "data": {
            "text/plain": [
              "  0%|          | 0/28881 [00:00<?, ?it/s]"
            ],
            "application/vnd.jupyter.widget-view+json": {
              "version_major": 2,
              "version_minor": 0,
              "model_id": "e87dcfb8371f4c48b7e9f49edd7a0e2b"
            }
          },
          "metadata": {}
        },
        {
          "output_type": "stream",
          "name": "stdout",
          "text": [
            "Extracting data/MNIST/raw/train-labels-idx1-ubyte.gz to data/MNIST/raw\n",
            "\n",
            "Downloading http://yann.lecun.com/exdb/mnist/t10k-images-idx3-ubyte.gz\n",
            "Downloading http://yann.lecun.com/exdb/mnist/t10k-images-idx3-ubyte.gz to data/MNIST/raw/t10k-images-idx3-ubyte.gz\n"
          ]
        },
        {
          "output_type": "display_data",
          "data": {
            "text/plain": [
              "  0%|          | 0/1648877 [00:00<?, ?it/s]"
            ],
            "application/vnd.jupyter.widget-view+json": {
              "version_major": 2,
              "version_minor": 0,
              "model_id": "a003f57c90da4e0fa7eab5c0dcc96f80"
            }
          },
          "metadata": {}
        },
        {
          "output_type": "stream",
          "name": "stdout",
          "text": [
            "Extracting data/MNIST/raw/t10k-images-idx3-ubyte.gz to data/MNIST/raw\n",
            "\n",
            "Downloading http://yann.lecun.com/exdb/mnist/t10k-labels-idx1-ubyte.gz\n",
            "Downloading http://yann.lecun.com/exdb/mnist/t10k-labels-idx1-ubyte.gz to data/MNIST/raw/t10k-labels-idx1-ubyte.gz\n"
          ]
        },
        {
          "output_type": "display_data",
          "data": {
            "text/plain": [
              "  0%|          | 0/4542 [00:00<?, ?it/s]"
            ],
            "application/vnd.jupyter.widget-view+json": {
              "version_major": 2,
              "version_minor": 0,
              "model_id": "eb2f7003a99140578cc56cdc91699fcb"
            }
          },
          "metadata": {}
        },
        {
          "output_type": "stream",
          "name": "stdout",
          "text": [
            "Extracting data/MNIST/raw/t10k-labels-idx1-ubyte.gz to data/MNIST/raw\n",
            "\n"
          ]
        }
      ],
      "source": [
        "##########################\n",
        "### Dataset\n",
        "##########################\n",
        "\n",
        "train_loader, valid_loader, test_loader = get_dataloaders_mnist(\n",
        "    batch_size=BATCH_SIZE,\n",
        "    num_workers=2,\n",
        "    validation_fraction=0.)"
      ]
    },
    {
      "cell_type": "code",
      "execution_count": null,
      "metadata": {
        "colab": {
          "base_uri": "https://localhost:8080/"
        },
        "id": "sMuNc7ebD068",
        "outputId": "1b154dfa-f1be-4d20-e632-e5f46ab48b6e"
      },
      "outputs": [
        {
          "output_type": "stream",
          "name": "stdout",
          "text": [
            "Training Set:\n",
            "\n",
            "Image batch dimensions: torch.Size([32, 1, 28, 28])\n",
            "Image label dimensions: torch.Size([32])\n",
            "tensor([1, 2, 1, 9, 0, 6, 9, 8, 0, 1])\n",
            "\n",
            "Validation Set:\n",
            "\n",
            "Testing Set:\n",
            "Image batch dimensions: torch.Size([32, 1, 28, 28])\n",
            "Image label dimensions: torch.Size([32])\n",
            "tensor([7, 2, 1, 0, 4, 1, 4, 9, 5, 9])\n"
          ]
        }
      ],
      "source": [
        "# Checking the dataset\n",
        "print('Training Set:\\n')\n",
        "for images, labels in train_loader:\n",
        "    print('Image batch dimensions:', images.size())\n",
        "    print('Image label dimensions:', labels.size())\n",
        "    print(labels[:10])\n",
        "    break\n",
        "\n",
        "# Checking the dataset\n",
        "print('\\nValidation Set:')\n",
        "for images, labels in valid_loader:\n",
        "    print('Image batch dimensions:', images.size())\n",
        "    print('Image label dimensions:', labels.size())\n",
        "    print(labels[:10])\n",
        "    break\n",
        "\n",
        "# Checking the dataset\n",
        "print('\\nTesting Set:')\n",
        "for images, labels in test_loader:\n",
        "    print('Image batch dimensions:', images.size())\n",
        "    print('Image label dimensions:', labels.size())\n",
        "    print(labels[:10])\n",
        "    break"
      ]
    },
    {
      "cell_type": "markdown",
      "metadata": {
        "id": "LS6GVthhD069"
      },
      "source": [
        "## Model"
      ]
    },
    {
      "cell_type": "code",
      "execution_count": null,
      "metadata": {
        "id": "b4O96GgoD069"
      },
      "outputs": [],
      "source": [
        "##########################\n",
        "### MODEL\n",
        "##########################\n",
        "\n",
        "\n",
        "class Reshape(nn.Module):\n",
        "    def __init__(self, *args):\n",
        "        super().__init__()\n",
        "        self.shape = args\n",
        "\n",
        "    def forward(self, x):\n",
        "        return x.view(self.shape)\n",
        "\n",
        "\n",
        "class Trim(nn.Module):\n",
        "    def __init__(self, *args):\n",
        "        super().__init__()\n",
        "\n",
        "    def forward(self, x):\n",
        "        return x[:, :, :28, :28]\n",
        "\n",
        "\n",
        "class AutoEncoder(nn.Module):\n",
        "    def __init__(self):\n",
        "        super().__init__()\n",
        "\n",
        "        self.encoder = nn.Sequential( #784\n",
        "                nn.Conv2d(1, 32, stride=(1, 1), kernel_size=(3, 3), padding=1),\n",
        "                nn.LeakyReLU(0.01),\n",
        "                nn.Conv2d(32, 64, stride=(2, 2), kernel_size=(3, 3), padding=1),\n",
        "                nn.LeakyReLU(0.01),\n",
        "                nn.Conv2d(64, 64, stride=(2, 2), kernel_size=(3, 3), padding=1),\n",
        "                nn.LeakyReLU(0.01),\n",
        "                nn.Conv2d(64, 64, stride=(1, 1), kernel_size=(3, 3), padding=1),\n",
        "                nn.Flatten(),\n",
        "                nn.Linear(3136, 8)\n",
        "        )\n",
        "        self.decoder = nn.Sequential(\n",
        "                torch.nn.Linear(8, 3136),\n",
        "                Reshape(-1, 64, 7, 7),\n",
        "                nn.ConvTranspose2d(64, 64, stride=(1, 1), kernel_size=(3, 3), padding=1),\n",
        "                nn.LeakyReLU(0.01),\n",
        "                nn.ConvTranspose2d(64, 64, stride=(2, 2), kernel_size=(3, 3), padding=1),\n",
        "                nn.LeakyReLU(0.01),\n",
        "                nn.ConvTranspose2d(64, 32, stride=(2, 2), kernel_size=(3, 3), padding=0),\n",
        "                nn.LeakyReLU(0.01),\n",
        "                nn.ConvTranspose2d(32, 1, stride=(1, 1), kernel_size=(3, 3), padding=0),\n",
        "                Trim(),  # 1x29x29 -> 1x28x28\n",
        "                nn.Sigmoid()\n",
        "                )\n",
        "\n",
        "    def forward(self, x):\n",
        "        x = self.encoder(x)\n",
        "        x = self.decoder(x)\n",
        "        return x"
      ]
    },
    {
      "cell_type": "code",
      "execution_count": null,
      "metadata": {
        "id": "_lza9t_uj5w1"
      },
      "outputs": [],
      "source": [
        "set_all_seeds(RANDOM_SEED)\n",
        "\n",
        "model = AutoEncoder()\n",
        "model.to(DEVICE)\n",
        "\n",
        "optimizer = torch.optim.Adam(model.parameters(), lr=LEARNING_RATE)"
      ]
    },
    {
      "cell_type": "markdown",
      "metadata": {
        "id": "RAodboScj5w6"
      },
      "source": [
        "## Training"
      ]
    },
    {
      "cell_type": "code",
      "execution_count": null,
      "metadata": {
        "colab": {
          "base_uri": "https://localhost:8080/"
        },
        "id": "Dzh3ROmRj5w7",
        "outputId": "3ee4e7a4-7c50-4e6d-d122-5dcde0ec4df3"
      },
      "outputs": [
        {
          "output_type": "stream",
          "name": "stdout",
          "text": [
            "Epoch: 001/020 | Batch 0000/1875 | Loss: 0.2619\n",
            "Epoch: 001/020 | Batch 0250/1875 | Loss: 0.0630\n",
            "Epoch: 001/020 | Batch 0500/1875 | Loss: 0.0335\n",
            "Epoch: 001/020 | Batch 0750/1875 | Loss: 0.0289\n",
            "Epoch: 001/020 | Batch 1000/1875 | Loss: 0.0267\n",
            "Epoch: 001/020 | Batch 1250/1875 | Loss: 0.0228\n",
            "Epoch: 001/020 | Batch 1500/1875 | Loss: 0.0235\n",
            "Epoch: 001/020 | Batch 1750/1875 | Loss: 0.0229\n",
            "Time elapsed: 0.83 min\n",
            "Epoch: 002/020 | Batch 0000/1875 | Loss: 0.0214\n",
            "Epoch: 002/020 | Batch 0250/1875 | Loss: 0.0226\n",
            "Epoch: 002/020 | Batch 0500/1875 | Loss: 0.0214\n",
            "Epoch: 002/020 | Batch 0750/1875 | Loss: 0.0188\n",
            "Epoch: 002/020 | Batch 1000/1875 | Loss: 0.0201\n",
            "Epoch: 002/020 | Batch 1250/1875 | Loss: 0.0207\n",
            "Epoch: 002/020 | Batch 1500/1875 | Loss: 0.0210\n",
            "Epoch: 002/020 | Batch 1750/1875 | Loss: 0.0208\n",
            "Time elapsed: 1.56 min\n",
            "Epoch: 003/020 | Batch 0000/1875 | Loss: 0.0203\n",
            "Epoch: 003/020 | Batch 0250/1875 | Loss: 0.0207\n",
            "Epoch: 003/020 | Batch 0500/1875 | Loss: 0.0176\n",
            "Epoch: 003/020 | Batch 0750/1875 | Loss: 0.0194\n",
            "Epoch: 003/020 | Batch 1000/1875 | Loss: 0.0176\n",
            "Epoch: 003/020 | Batch 1250/1875 | Loss: 0.0201\n",
            "Epoch: 003/020 | Batch 1500/1875 | Loss: 0.0174\n",
            "Epoch: 003/020 | Batch 1750/1875 | Loss: 0.0156\n",
            "Time elapsed: 2.31 min\n",
            "Epoch: 004/020 | Batch 0000/1875 | Loss: 0.0212\n",
            "Epoch: 004/020 | Batch 0250/1875 | Loss: 0.0165\n",
            "Epoch: 004/020 | Batch 0500/1875 | Loss: 0.0164\n",
            "Epoch: 004/020 | Batch 0750/1875 | Loss: 0.0169\n",
            "Epoch: 004/020 | Batch 1000/1875 | Loss: 0.0189\n",
            "Epoch: 004/020 | Batch 1250/1875 | Loss: 0.0159\n",
            "Epoch: 004/020 | Batch 1500/1875 | Loss: 0.0179\n",
            "Epoch: 004/020 | Batch 1750/1875 | Loss: 0.0166\n",
            "Time elapsed: 3.05 min\n",
            "Epoch: 005/020 | Batch 0000/1875 | Loss: 0.0151\n",
            "Epoch: 005/020 | Batch 0250/1875 | Loss: 0.0160\n",
            "Epoch: 005/020 | Batch 0500/1875 | Loss: 0.0166\n",
            "Epoch: 005/020 | Batch 0750/1875 | Loss: 0.0172\n",
            "Epoch: 005/020 | Batch 1000/1875 | Loss: 0.0190\n",
            "Epoch: 005/020 | Batch 1250/1875 | Loss: 0.0186\n",
            "Epoch: 005/020 | Batch 1500/1875 | Loss: 0.0150\n",
            "Epoch: 005/020 | Batch 1750/1875 | Loss: 0.0196\n",
            "Time elapsed: 3.77 min\n",
            "Epoch: 006/020 | Batch 0000/1875 | Loss: 0.0196\n",
            "Epoch: 006/020 | Batch 0250/1875 | Loss: 0.0181\n",
            "Epoch: 006/020 | Batch 0500/1875 | Loss: 0.0203\n",
            "Epoch: 006/020 | Batch 0750/1875 | Loss: 0.0185\n",
            "Epoch: 006/020 | Batch 1000/1875 | Loss: 0.0142\n",
            "Epoch: 006/020 | Batch 1250/1875 | Loss: 0.0158\n",
            "Epoch: 006/020 | Batch 1500/1875 | Loss: 0.0156\n",
            "Epoch: 006/020 | Batch 1750/1875 | Loss: 0.0166\n",
            "Time elapsed: 4.51 min\n",
            "Epoch: 007/020 | Batch 0000/1875 | Loss: 0.0169\n",
            "Epoch: 007/020 | Batch 0250/1875 | Loss: 0.0146\n",
            "Epoch: 007/020 | Batch 0500/1875 | Loss: 0.0142\n",
            "Epoch: 007/020 | Batch 0750/1875 | Loss: 0.0143\n",
            "Epoch: 007/020 | Batch 1000/1875 | Loss: 0.0178\n",
            "Epoch: 007/020 | Batch 1250/1875 | Loss: 0.0144\n",
            "Epoch: 007/020 | Batch 1500/1875 | Loss: 0.0186\n",
            "Epoch: 007/020 | Batch 1750/1875 | Loss: 0.0180\n",
            "Time elapsed: 5.26 min\n",
            "Epoch: 008/020 | Batch 0000/1875 | Loss: 0.0168\n",
            "Epoch: 008/020 | Batch 0250/1875 | Loss: 0.0176\n",
            "Epoch: 008/020 | Batch 0500/1875 | Loss: 0.0163\n",
            "Epoch: 008/020 | Batch 0750/1875 | Loss: 0.0156\n",
            "Epoch: 008/020 | Batch 1000/1875 | Loss: 0.0160\n",
            "Epoch: 008/020 | Batch 1250/1875 | Loss: 0.0144\n",
            "Epoch: 008/020 | Batch 1500/1875 | Loss: 0.0155\n",
            "Epoch: 008/020 | Batch 1750/1875 | Loss: 0.0155\n",
            "Time elapsed: 5.99 min\n",
            "Epoch: 009/020 | Batch 0000/1875 | Loss: 0.0148\n",
            "Epoch: 009/020 | Batch 0250/1875 | Loss: 0.0139\n",
            "Epoch: 009/020 | Batch 0500/1875 | Loss: 0.0165\n",
            "Epoch: 009/020 | Batch 0750/1875 | Loss: 0.0152\n",
            "Epoch: 009/020 | Batch 1000/1875 | Loss: 0.0147\n",
            "Epoch: 009/020 | Batch 1250/1875 | Loss: 0.0157\n",
            "Epoch: 009/020 | Batch 1500/1875 | Loss: 0.0161\n",
            "Epoch: 009/020 | Batch 1750/1875 | Loss: 0.0163\n",
            "Time elapsed: 6.74 min\n",
            "Epoch: 010/020 | Batch 0000/1875 | Loss: 0.0185\n",
            "Epoch: 010/020 | Batch 0250/1875 | Loss: 0.0123\n",
            "Epoch: 010/020 | Batch 0500/1875 | Loss: 0.0145\n",
            "Epoch: 010/020 | Batch 0750/1875 | Loss: 0.0160\n",
            "Epoch: 010/020 | Batch 1000/1875 | Loss: 0.0140\n",
            "Epoch: 010/020 | Batch 1250/1875 | Loss: 0.0136\n",
            "Epoch: 010/020 | Batch 1500/1875 | Loss: 0.0156\n",
            "Epoch: 010/020 | Batch 1750/1875 | Loss: 0.0133\n",
            "Time elapsed: 7.47 min\n",
            "Epoch: 011/020 | Batch 0000/1875 | Loss: 0.0134\n",
            "Epoch: 011/020 | Batch 0250/1875 | Loss: 0.0147\n",
            "Epoch: 011/020 | Batch 0500/1875 | Loss: 0.0146\n",
            "Epoch: 011/020 | Batch 0750/1875 | Loss: 0.0155\n",
            "Epoch: 011/020 | Batch 1000/1875 | Loss: 0.0127\n",
            "Epoch: 011/020 | Batch 1250/1875 | Loss: 0.0150\n",
            "Epoch: 011/020 | Batch 1500/1875 | Loss: 0.0173\n",
            "Epoch: 011/020 | Batch 1750/1875 | Loss: 0.0158\n",
            "Time elapsed: 8.20 min\n",
            "Epoch: 012/020 | Batch 0000/1875 | Loss: 0.0129\n",
            "Epoch: 012/020 | Batch 0250/1875 | Loss: 0.0144\n",
            "Epoch: 012/020 | Batch 0500/1875 | Loss: 0.0137\n",
            "Epoch: 012/020 | Batch 0750/1875 | Loss: 0.0176\n",
            "Epoch: 012/020 | Batch 1000/1875 | Loss: 0.0160\n",
            "Epoch: 012/020 | Batch 1250/1875 | Loss: 0.0195\n",
            "Epoch: 012/020 | Batch 1500/1875 | Loss: 0.0158\n",
            "Epoch: 012/020 | Batch 1750/1875 | Loss: 0.0127\n",
            "Time elapsed: 8.93 min\n",
            "Epoch: 013/020 | Batch 0000/1875 | Loss: 0.0161\n",
            "Epoch: 013/020 | Batch 0250/1875 | Loss: 0.0139\n",
            "Epoch: 013/020 | Batch 0500/1875 | Loss: 0.0141\n",
            "Epoch: 013/020 | Batch 0750/1875 | Loss: 0.0143\n",
            "Epoch: 013/020 | Batch 1000/1875 | Loss: 0.0153\n",
            "Epoch: 013/020 | Batch 1250/1875 | Loss: 0.0134\n",
            "Epoch: 013/020 | Batch 1500/1875 | Loss: 0.0124\n",
            "Epoch: 013/020 | Batch 1750/1875 | Loss: 0.0156\n",
            "Time elapsed: 9.66 min\n",
            "Epoch: 014/020 | Batch 0000/1875 | Loss: 0.0144\n",
            "Epoch: 014/020 | Batch 0250/1875 | Loss: 0.0100\n",
            "Epoch: 014/020 | Batch 0500/1875 | Loss: 0.0141\n",
            "Epoch: 014/020 | Batch 0750/1875 | Loss: 0.0157\n",
            "Epoch: 014/020 | Batch 1000/1875 | Loss: 0.0140\n",
            "Epoch: 014/020 | Batch 1250/1875 | Loss: 0.0149\n",
            "Epoch: 014/020 | Batch 1500/1875 | Loss: 0.0137\n",
            "Epoch: 014/020 | Batch 1750/1875 | Loss: 0.0132\n",
            "Time elapsed: 10.39 min\n",
            "Epoch: 015/020 | Batch 0000/1875 | Loss: 0.0166\n",
            "Epoch: 015/020 | Batch 0250/1875 | Loss: 0.0138\n",
            "Epoch: 015/020 | Batch 0500/1875 | Loss: 0.0127\n",
            "Epoch: 015/020 | Batch 0750/1875 | Loss: 0.0140\n",
            "Epoch: 015/020 | Batch 1000/1875 | Loss: 0.0147\n",
            "Epoch: 015/020 | Batch 1250/1875 | Loss: 0.0138\n",
            "Epoch: 015/020 | Batch 1500/1875 | Loss: 0.0130\n",
            "Epoch: 015/020 | Batch 1750/1875 | Loss: 0.0162\n",
            "Time elapsed: 11.13 min\n",
            "Epoch: 016/020 | Batch 0000/1875 | Loss: 0.0152\n",
            "Epoch: 016/020 | Batch 0250/1875 | Loss: 0.0138\n",
            "Epoch: 016/020 | Batch 0500/1875 | Loss: 0.0129\n",
            "Epoch: 016/020 | Batch 0750/1875 | Loss: 0.0132\n",
            "Epoch: 016/020 | Batch 1000/1875 | Loss: 0.0131\n",
            "Epoch: 016/020 | Batch 1250/1875 | Loss: 0.0140\n",
            "Epoch: 016/020 | Batch 1500/1875 | Loss: 0.0164\n",
            "Epoch: 016/020 | Batch 1750/1875 | Loss: 0.0141\n",
            "Time elapsed: 11.85 min\n",
            "Epoch: 017/020 | Batch 0000/1875 | Loss: 0.0119\n",
            "Epoch: 017/020 | Batch 0250/1875 | Loss: 0.0141\n",
            "Epoch: 017/020 | Batch 0500/1875 | Loss: 0.0131\n",
            "Epoch: 017/020 | Batch 0750/1875 | Loss: 0.0130\n",
            "Epoch: 017/020 | Batch 1000/1875 | Loss: 0.0159\n",
            "Epoch: 017/020 | Batch 1250/1875 | Loss: 0.0145\n",
            "Epoch: 017/020 | Batch 1500/1875 | Loss: 0.0124\n",
            "Epoch: 017/020 | Batch 1750/1875 | Loss: 0.0148\n",
            "Time elapsed: 12.57 min\n",
            "Epoch: 018/020 | Batch 0000/1875 | Loss: 0.0125\n",
            "Epoch: 018/020 | Batch 0250/1875 | Loss: 0.0122\n",
            "Epoch: 018/020 | Batch 0500/1875 | Loss: 0.0144\n",
            "Epoch: 018/020 | Batch 0750/1875 | Loss: 0.0149\n",
            "Epoch: 018/020 | Batch 1000/1875 | Loss: 0.0158\n",
            "Epoch: 018/020 | Batch 1250/1875 | Loss: 0.0138\n",
            "Epoch: 018/020 | Batch 1500/1875 | Loss: 0.0136\n",
            "Epoch: 018/020 | Batch 1750/1875 | Loss: 0.0173\n",
            "Time elapsed: 13.29 min\n",
            "Epoch: 019/020 | Batch 0000/1875 | Loss: 0.0129\n",
            "Epoch: 019/020 | Batch 0250/1875 | Loss: 0.0148\n",
            "Epoch: 019/020 | Batch 0500/1875 | Loss: 0.0176\n",
            "Epoch: 019/020 | Batch 0750/1875 | Loss: 0.0158\n",
            "Epoch: 019/020 | Batch 1000/1875 | Loss: 0.0126\n",
            "Epoch: 019/020 | Batch 1250/1875 | Loss: 0.0133\n",
            "Epoch: 019/020 | Batch 1500/1875 | Loss: 0.0143\n",
            "Epoch: 019/020 | Batch 1750/1875 | Loss: 0.0136\n",
            "Time elapsed: 14.01 min\n",
            "Epoch: 020/020 | Batch 0000/1875 | Loss: 0.0137\n",
            "Epoch: 020/020 | Batch 0250/1875 | Loss: 0.0123\n",
            "Epoch: 020/020 | Batch 0500/1875 | Loss: 0.0141\n",
            "Epoch: 020/020 | Batch 0750/1875 | Loss: 0.0146\n",
            "Epoch: 020/020 | Batch 1000/1875 | Loss: 0.0133\n",
            "Epoch: 020/020 | Batch 1250/1875 | Loss: 0.0148\n",
            "Epoch: 020/020 | Batch 1500/1875 | Loss: 0.0150\n",
            "Epoch: 020/020 | Batch 1750/1875 | Loss: 0.0133\n",
            "Time elapsed: 14.73 min\n",
            "Total Training Time: 14.73 min\n"
          ]
        }
      ],
      "source": [
        "log_dict = train_autoencoder_v1(num_epochs=NUM_EPOCHS, model=model,\n",
        "                                optimizer=optimizer, device=DEVICE,\n",
        "                                train_loader=train_loader,\n",
        "                                skip_epoch_stats=True,\n",
        "                                logging_interval=250)"
      ]
    },
    {
      "cell_type": "markdown",
      "metadata": {
        "id": "9ePcBi5sD06_"
      },
      "source": [
        "## Evaluation"
      ]
    },
    {
      "cell_type": "code",
      "execution_count": null,
      "metadata": {
        "colab": {
          "base_uri": "https://localhost:8080/",
          "height": 297
        },
        "id": "4f60j0fpD06_",
        "outputId": "1a6bf23d-b738-4d32-e94c-ccbf0200a836"
      },
      "outputs": [
        {
          "output_type": "display_data",
          "data": {
            "text/plain": [
              "<Figure size 432x288 with 2 Axes>"
            ],
            "image/png": "[encoded data removed]"
          },
          "metadata": {
            "needs_background": "light"
          }
        }
      ],
      "source": [
        "plot_training_loss(log_dict['train_loss_per_batch'], NUM_EPOCHS)\n",
        "plt.show()"
      ]
    },
    {
      "cell_type": "code",
      "execution_count": null,
      "metadata": {
        "colab": {
          "base_uri": "https://localhost:8080/",
          "height": 157
        },
        "id": "ATuWv-VpD06_",
        "outputId": "79619c3d-d1d9-44f8-c7ba-7e0cff70a50f"
      },
      "outputs": [
        {
          "output_type": "display_data",
          "data": {
            "text/plain": [
              "<Figure size 1440x180 with 30 Axes>"
            ],
            "image/png": "[encoded data removed]"
          },
          "metadata": {
            "needs_background": "light"
          }
        }
      ],
      "source": [
        "plot_generated_images(data_loader=train_loader, model=model, device=DEVICE)"
      ]
    }
  ],
  "metadata": {
    "accelerator": "GPU",
    "colab": {
      "provenance": []
    },
    "kernelspec": {
      "display_name": "Python 3 (ipykernel)",
      "language": "python",
      "name": "python3"
    },
    "language_info": {
      "codemirror_mode": {
        "name": "ipython",
        "version": 3
      },
      "file_extension": ".py",
      "mimetype": "text/x-python",
      "name": "python",
      "nbconvert_exporter": "python",
      "pygments_lexer": "ipython3",
      "version": "3.10.6"
    },
    "toc": {
      "nav_menu": {},
      "number_sections": true,
      "sideBar": true,
      "skip_h1_title": false,
      "title_cell": "Table of Contents",
      "title_sidebar": "Contents",
      "toc_cell": true,
      "toc_position": {
        "height": "calc(100% - 180px)",
        "left": "10px",
        "top": "150px",
        "width": "371px"
      },
      "toc_section_display": true,
      "toc_window_display": true
    },
    "widgets": {
      "application/vnd.jupyter.widget-state+json": {
        "3d0754a820c74fb0b1f01467a23ec800": {
          "model_module": "@jupyter-widgets/controls",
          "model_name": "HBoxModel",
          "model_module_version": "1.5.0",
          "state": {
            "_dom_classes": [],
            "_model_module": "@jupyter-widgets/controls",
            "_model_module_version": "1.5.0",
            "_model_name": "HBoxModel",
            "_view_count": null,
            "_view_module": "@jupyter-widgets/controls",
            "_view_module_version": "1.5.0",
            "_view_name": "HBoxView",
            "box_style": "",
            "children": [
              "IPY_MODEL_e97d10358cf7421d8df426096bd903c0",
              "IPY_MODEL_b4b387e4b56a4f64be0fc438886cb626",
              "IPY_MODEL_1ee96decbf6745049fb50e1bca056803"
            ],
            "layout": "IPY_MODEL_db0d18ff62324e3d9827ed59daeffd47"
          }
        },
        "e97d10358cf7421d8df426096bd903c0": {
          "model_module": "@jupyter-widgets/controls",
          "model_name": "HTMLModel",
          "model_module_version": "1.5.0",
          "state": {
            "_dom_classes": [],
            "_model_module": "@jupyter-widgets/controls",
            "_model_module_version": "1.5.0",
            "_model_name": "HTMLModel",
            "_view_count": null,
            "_view_module": "@jupyter-widgets/controls",
            "_view_module_version": "1.5.0",
            "_view_name": "HTMLView",
            "description": "",
            "description_tooltip": null,
            "layout": "IPY_MODEL_9359d3e3f24a4173b53e4c5d70c712a4",
            "placeholder": "​",
            "style": "IPY_MODEL_1126faaf89e046d29716286c6d4d37e4",
            "value": "100%"
          }
        },
        "b4b387e4b56a4f64be0fc438886cb626": {
          "model_module": "@jupyter-widgets/controls",
          "model_name": "FloatProgressModel",
          "model_module_version": "1.5.0",
          "state": {
            "_dom_classes": [],
            "_model_module": "@jupyter-widgets/controls",
            "_model_module_version": "1.5.0",
            "_model_name": "FloatProgressModel",
            "_view_count": null,
            "_view_module": "@jupyter-widgets/controls",
            "_view_module_version": "1.5.0",
            "_view_name": "ProgressView",
            "bar_style": "success",
            "description": "",
            "description_tooltip": null,
            "layout": "IPY_MODEL_e791322f60e442b48387b821cb2fe2ac",
            "max": 9912422,
            "min": 0,
            "orientation": "horizontal",
            "style": "IPY_MODEL_3ea37547285443388917e6823c392d87",
            "value": 9912422
          }
        },
        "1ee96decbf6745049fb50e1bca056803": {
          "model_module": "@jupyter-widgets/controls",
          "model_name": "HTMLModel",
          "model_module_version": "1.5.0",
          "state": {
            "_dom_classes": [],
            "_model_module": "@jupyter-widgets/controls",
            "_model_module_version": "1.5.0",
            "_model_name": "HTMLModel",
            "_view_count": null,
            "_view_module": "@jupyter-widgets/controls",
            "_view_module_version": "1.5.0",
            "_view_name": "HTMLView",
            "description": "",
            "description_tooltip": null,
            "layout": "IPY_MODEL_2aa8bfab5e20479083c1337ab488b480",
            "placeholder": "​",
            "style": "IPY_MODEL_902a626a151f491d8caf1e431a858d45",
            "value": " 9912422/9912422 [00:00&lt;00:00, 17968787.84it/s]"
          }
        },
        "db0d18ff62324e3d9827ed59daeffd47": {
          "model_module": "@jupyter-widgets/base",
          "model_name": "LayoutModel",
          "model_module_version": "1.2.0",
          "state": {
            "_model_module": "@jupyter-widgets/base",
            "_model_module_version": "1.2.0",
            "_model_name": "LayoutModel",
            "_view_count": null,
            "_view_module": "@jupyter-widgets/base",
            "_view_module_version": "1.2.0",
            "_view_name": "LayoutView",
            "align_content": null,
            "align_items": null,
            "align_self": null,
            "border": null,
            "bottom": null,
            "display": null,
            "flex": null,
            "flex_flow": null,
            "grid_area": null,
            "grid_auto_columns": null,
            "grid_auto_flow": null,
            "grid_auto_rows": null,
            "grid_column": null,
            "grid_gap": null,
            "grid_row": null,
            "grid_template_areas": null,
            "grid_template_columns": null,
            "grid_template_rows": null,
            "height": null,
            "justify_content": null,
            "justify_items": null,
            "left": null,
            "margin": null,
            "max_height": null,
            "max_width": null,
            "min_height": null,
            "min_width": null,
            "object_fit": null,
            "object_position": null,
            "order": null,
            "overflow": null,
            "overflow_x": null,
            "overflow_y": null,
            "padding": null,
            "right": null,
            "top": null,
            "visibility": null,
            "width": null
          }
        },
        "9359d3e3f24a4173b53e4c5d70c712a4": {
          "model_module": "@jupyter-widgets/base",
          "model_name": "LayoutModel",
          "model_module_version": "1.2.0",
          "state": {
            "_model_module": "@jupyter-widgets/base",
            "_model_module_version": "1.2.0",
            "_model_name": "LayoutModel",
            "_view_count": null,
            "_view_module": "@jupyter-widgets/base",
            "_view_module_version": "1.2.0",
            "_view_name": "LayoutView",
            "align_content": null,
            "align_items": null,
            "align_self": null,
            "border": null,
            "bottom": null,
            "display": null,
            "flex": null,
            "flex_flow": null,
            "grid_area": null,
            "grid_auto_columns": null,
            "grid_auto_flow": null,
            "grid_auto_rows": null,
            "grid_column": null,
            "grid_gap": null,
            "grid_row": null,
            "grid_template_areas": null,
            "grid_template_columns": null,
            "grid_template_rows": null,
            "height": null,
            "justify_content": null,
            "justify_items": null,
            "left": null,
            "margin": null,
            "max_height": null,
            "max_width": null,
            "min_height": null,
            "min_width": null,
            "object_fit": null,
            "object_position": null,
            "order": null,
            "overflow": null,
            "overflow_x": null,
            "overflow_y": null,
            "padding": null,
            "right": null,
            "top": null,
            "visibility": null,
            "width": null
          }
        },
        "1126faaf89e046d29716286c6d4d37e4": {
          "model_module": "@jupyter-widgets/controls",
          "model_name": "DescriptionStyleModel",
          "model_module_version": "1.5.0",
          "state": {
            "_model_module": "@jupyter-widgets/controls",
            "_model_module_version": "1.5.0",
            "_model_name": "DescriptionStyleModel",
            "_view_count": null,
            "_view_module": "@jupyter-widgets/base",
            "_view_module_version": "1.2.0",
            "_view_name": "StyleView",
            "description_width": ""
          }
        },
        "e791322f60e442b48387b821cb2fe2ac": {
          "model_module": "@jupyter-widgets/base",
          "model_name": "LayoutModel",
          "model_module_version": "1.2.0",
          "state": {
            "_model_module": "@jupyter-widgets/base",
            "_model_module_version": "1.2.0",
            "_model_name": "LayoutModel",
            "_view_count": null,
            "_view_module": "@jupyter-widgets/base",
            "_view_module_version": "1.2.0",
            "_view_name": "LayoutView",
            "align_content": null,
            "align_items": null,
            "align_self": null,
            "border": null,
            "bottom": null,
            "display": null,
            "flex": null,
            "flex_flow": null,
            "grid_area": null,
            "grid_auto_columns": null,
            "grid_auto_flow": null,
            "grid_auto_rows": null,
            "grid_column": null,
            "grid_gap": null,
            "grid_row": null,
            "grid_template_areas": null,
            "grid_template_columns": null,
            "grid_template_rows": null,
            "height": null,
            "justify_content": null,
            "justify_items": null,
            "left": null,
            "margin": null,
            "max_height": null,
            "max_width": null,
            "min_height": null,
            "min_width": null,
            "object_fit": null,
            "object_position": null,
            "order": null,
            "overflow": null,
            "overflow_x": null,
            "overflow_y": null,
            "padding": null,
            "right": null,
            "top": null,
            "visibility": null,
            "width": null
          }
        },
        "3ea37547285443388917e6823c392d87": {
          "model_module": "@jupyter-widgets/controls",
          "model_name": "ProgressStyleModel",
          "model_module_version": "1.5.0",
          "state": {
            "_model_module": "@jupyter-widgets/controls",
            "_model_module_version": "1.5.0",
            "_model_name": "ProgressStyleModel",
            "_view_count": null,
            "_view_module": "@jupyter-widgets/base",
            "_view_module_version": "1.2.0",
            "_view_name": "StyleView",
            "bar_color": null,
            "description_width": ""
          }
        },
        "2aa8bfab5e20479083c1337ab488b480": {
          "model_module": "@jupyter-widgets/base",
          "model_name": "LayoutModel",
          "model_module_version": "1.2.0",
          "state": {
            "_model_module": "@jupyter-widgets/base",
            "_model_module_version": "1.2.0",
            "_model_name": "LayoutModel",
            "_view_count": null,
            "_view_module": "@jupyter-widgets/base",
            "_view_module_version": "1.2.0",
            "_view_name": "LayoutView",
            "align_content": null,
            "align_items": null,
            "align_self": null,
            "border": null,
            "bottom": null,
            "display": null,
            "flex": null,
            "flex_flow": null,
            "grid_area": null,
            "grid_auto_columns": null,
            "grid_auto_flow": null,
            "grid_auto_rows": null,
            "grid_column": null,
            "grid_gap": null,
            "grid_row": null,
            "grid_template_areas": null,
            "grid_template_columns": null,
            "grid_template_rows": null,
            "height": null,
            "justify_content": null,
            "justify_items": null,
            "left": null,
            "margin": null,
            "max_height": null,
            "max_width": null,
            "min_height": null,
            "min_width": null,
            "object_fit": null,
            "object_position": null,
            "order": null,
            "overflow": null,
            "overflow_x": null,
            "overflow_y": null,
            "padding": null,
            "right": null,
            "top": null,
            "visibility": null,
            "width": null
          }
        },
        "902a626a151f491d8caf1e431a858d45": {
          "model_module": "@jupyter-widgets/controls",
          "model_name": "DescriptionStyleModel",
          "model_module_version": "1.5.0",
          "state": {
            "_model_module": "@jupyter-widgets/controls",
            "_model_module_version": "1.5.0",
            "_model_name": "DescriptionStyleModel",
            "_view_count": null,
            "_view_module": "@jupyter-widgets/base",
            "_view_module_version": "1.2.0",
            "_view_name": "StyleView",
            "description_width": ""
          }
        },
        "e87dcfb8371f4c48b7e9f49edd7a0e2b": {
          "model_module": "@jupyter-widgets/controls",
          "model_name": "HBoxModel",
          "model_module_version": "1.5.0",
          "state": {
            "_dom_classes": [],
            "_model_module": "@jupyter-widgets/controls",
            "_model_module_version": "1.5.0",
            "_model_name": "HBoxModel",
            "_view_count": null,
            "_view_module": "@jupyter-widgets/controls",
            "_view_module_version": "1.5.0",
            "_view_name": "HBoxView",
            "box_style": "",
            "children": [
              "IPY_MODEL_0ad6e48fdd144536ae09baf44828bc76",
              "IPY_MODEL_7edf5a5250e2418a87c4da1c3ade869e",
              "IPY_MODEL_520b8b9e9d974cd2b5a95064406c0e8b"
            ],
            "layout": "IPY_MODEL_964154ee8f6640e9bf1f3adf83ebef53"
          }
        },
        "0ad6e48fdd144536ae09baf44828bc76": {
          "model_module": "@jupyter-widgets/controls",
          "model_name": "HTMLModel",
          "model_module_version": "1.5.0",
          "state": {
            "_dom_classes": [],
            "_model_module": "@jupyter-widgets/controls",
            "_model_module_version": "1.5.0",
            "_model_name": "HTMLModel",
            "_view_count": null,
            "_view_module": "@jupyter-widgets/controls",
            "_view_module_version": "1.5.0",
            "_view_name": "HTMLView",
            "description": "",
            "description_tooltip": null,
            "layout": "IPY_MODEL_3865147d02124502a7ec9e7d9e84be92",
            "placeholder": "​",
            "style": "IPY_MODEL_d9b8b5a816b94bf89b20320752cd8599",
            "value": "100%"
          }
        },
        "7edf5a5250e2418a87c4da1c3ade869e": {
          "model_module": "@jupyter-widgets/controls",
          "model_name": "FloatProgressModel",
          "model_module_version": "1.5.0",
          "state": {
            "_dom_classes": [],
            "_model_module": "@jupyter-widgets/controls",
            "_model_module_version": "1.5.0",
            "_model_name": "FloatProgressModel",
            "_view_count": null,
            "_view_module": "@jupyter-widgets/controls",
            "_view_module_version": "1.5.0",
            "_view_name": "ProgressView",
            "bar_style": "success",
            "description": "",
            "description_tooltip": null,
            "layout": "IPY_MODEL_4611e2e9aec04a18810ef78c21698bcf",
            "max": 28881,
            "min": 0,
            "orientation": "horizontal",
            "style": "IPY_MODEL_079f5c79f8b14885b3d7a6dcc72ec929",
            "value": 28881
          }
        },
        "520b8b9e9d974cd2b5a95064406c0e8b": {
          "model_module": "@jupyter-widgets/controls",
          "model_name": "HTMLModel",
          "model_module_version": "1.5.0",
          "state": {
            "_dom_classes": [],
            "_model_module": "@jupyter-widgets/controls",
            "_model_module_version": "1.5.0",
            "_model_name": "HTMLModel",
            "_view_count": null,
            "_view_module": "@jupyter-widgets/controls",
            "_view_module_version": "1.5.0",
            "_view_name": "HTMLView",
            "description": "",
            "description_tooltip": null,
            "layout": "IPY_MODEL_fde4065c96a74947b60e66190cdc0950",
            "placeholder": "​",
            "style": "IPY_MODEL_88e1304999b4493ba724b6dda62aedaf",
            "value": " 28881/28881 [00:00&lt;00:00, 255429.05it/s]"
          }
        },
        "964154ee8f6640e9bf1f3adf83ebef53": {
          "model_module": "@jupyter-widgets/base",
          "model_name": "LayoutModel",
          "model_module_version": "1.2.0",
          "state": {
            "_model_module": "@jupyter-widgets/base",
            "_model_module_version": "1.2.0",
            "_model_name": "LayoutModel",
            "_view_count": null,
            "_view_module": "@jupyter-widgets/base",
            "_view_module_version": "1.2.0",
            "_view_name": "LayoutView",
            "align_content": null,
            "align_items": null,
            "align_self": null,
            "border": null,
            "bottom": null,
            "display": null,
            "flex": null,
            "flex_flow": null,
            "grid_area": null,
            "grid_auto_columns": null,
            "grid_auto_flow": null,
            "grid_auto_rows": null,
            "grid_column": null,
            "grid_gap": null,
            "grid_row": null,
            "grid_template_areas": null,
            "grid_template_columns": null,
            "grid_template_rows": null,
            "height": null,
            "justify_content": null,
            "justify_items": null,
            "left": null,
            "margin": null,
            "max_height": null,
            "max_width": null,
            "min_height": null,
            "min_width": null,
            "object_fit": null,
            "object_position": null,
            "order": null,
            "overflow": null,
            "overflow_x": null,
            "overflow_y": null,
            "padding": null,
            "right": null,
            "top": null,
            "visibility": null,
            "width": null
          }
        },
        "3865147d02124502a7ec9e7d9e84be92": {
          "model_module": "@jupyter-widgets/base",
          "model_name": "LayoutModel",
          "model_module_version": "1.2.0",
          "state": {
            "_model_module": "@jupyter-widgets/base",
            "_model_module_version": "1.2.0",
            "_model_name": "LayoutModel",
            "_view_count": null,
            "_view_module": "@jupyter-widgets/base",
            "_view_module_version": "1.2.0",
            "_view_name": "LayoutView",
            "align_content": null,
            "align_items": null,
            "align_self": null,
            "border": null,
            "bottom": null,
            "display": null,
            "flex": null,
            "flex_flow": null,
            "grid_area": null,
            "grid_auto_columns": null,
            "grid_auto_flow": null,
            "grid_auto_rows": null,
            "grid_column": null,
            "grid_gap": null,
            "grid_row": null,
            "grid_template_areas": null,
            "grid_template_columns": null,
            "grid_template_rows": null,
            "height": null,
            "justify_content": null,
            "justify_items": null,
            "left": null,
            "margin": null,
            "max_height": null,
            "max_width": null,
            "min_height": null,
            "min_width": null,
            "object_fit": null,
            "object_position": null,
            "order": null,
            "overflow": null,
            "overflow_x": null,
            "overflow_y": null,
            "padding": null,
            "right": null,
            "top": null,
            "visibility": null,
            "width": null
          }
        },
        "d9b8b5a816b94bf89b20320752cd8599": {
          "model_module": "@jupyter-widgets/controls",
          "model_name": "DescriptionStyleModel",
          "model_module_version": "1.5.0",
          "state": {
            "_model_module": "@jupyter-widgets/controls",
            "_model_module_version": "1.5.0",
            "_model_name": "DescriptionStyleModel",
            "_view_count": null,
            "_view_module": "@jupyter-widgets/base",
            "_view_module_version": "1.2.0",
            "_view_name": "StyleView",
            "description_width": ""
          }
        },
        "4611e2e9aec04a18810ef78c21698bcf": {
          "model_module": "@jupyter-widgets/base",
          "model_name": "LayoutModel",
          "model_module_version": "1.2.0",
          "state": {
            "_model_module": "@jupyter-widgets/base",
            "_model_module_version": "1.2.0",
            "_model_name": "LayoutModel",
            "_view_count": null,
            "_view_module": "@jupyter-widgets/base",
            "_view_module_version": "1.2.0",
            "_view_name": "LayoutView",
            "align_content": null,
            "align_items": null,
            "align_self": null,
            "border": null,
            "bottom": null,
            "display": null,
            "flex": null,
            "flex_flow": null,
            "grid_area": null,
            "grid_auto_columns": null,
            "grid_auto_flow": null,
            "grid_auto_rows": null,
            "grid_column": null,
            "grid_gap": null,
            "grid_row": null,
            "grid_template_areas": null,
            "grid_template_columns": null,
            "grid_template_rows": null,
            "height": null,
            "justify_content": null,
            "justify_items": null,
            "left": null,
            "margin": null,
            "max_height": null,
            "max_width": null,
            "min_height": null,
            "min_width": null,
            "object_fit": null,
            "object_position": null,
            "order": null,
            "overflow": null,
            "overflow_x": null,
            "overflow_y": null,
            "padding": null,
            "right": null,
            "top": null,
            "visibility": null,
            "width": null
          }
        },
        "079f5c79f8b14885b3d7a6dcc72ec929": {
          "model_module": "@jupyter-widgets/controls",
          "model_name": "ProgressStyleModel",
          "model_module_version": "1.5.0",
          "state": {
            "_model_module": "@jupyter-widgets/controls",
            "_model_module_version": "1.5.0",
            "_model_name": "ProgressStyleModel",
            "_view_count": null,
            "_view_module": "@jupyter-widgets/base",
            "_view_module_version": "1.2.0",
            "_view_name": "StyleView",
            "bar_color": null,
            "description_width": ""
          }
        },
        "fde4065c96a74947b60e66190cdc0950": {
          "model_module": "@jupyter-widgets/base",
          "model_name": "LayoutModel",
          "model_module_version": "1.2.0",
          "state": {
            "_model_module": "@jupyter-widgets/base",
            "_model_module_version": "1.2.0",
            "_model_name": "LayoutModel",
            "_view_count": null,
            "_view_module": "@jupyter-widgets/base",
            "_view_module_version": "1.2.0",
            "_view_name": "LayoutView",
            "align_content": null,
            "align_items": null,
            "align_self": null,
            "border": null,
            "bottom": null,
            "display": null,
            "flex": null,
            "flex_flow": null,
            "grid_area": null,
            "grid_auto_columns": null,
            "grid_auto_flow": null,
            "grid_auto_rows": null,
            "grid_column": null,
            "grid_gap": null,
            "grid_row": null,
            "grid_template_areas": null,
            "grid_template_columns": null,
            "grid_template_rows": null,
            "height": null,
            "justify_content": null,
            "justify_items": null,
            "left": null,
            "margin": null,
            "max_height": null,
            "max_width": null,
            "min_height": null,
            "min_width": null,
            "object_fit": null,
            "object_position": null,
            "order": null,
            "overflow": null,
            "overflow_x": null,
            "overflow_y": null,
            "padding": null,
            "right": null,
            "top": null,
            "visibility": null,
            "width": null
          }
        },
        "88e1304999b4493ba724b6dda62aedaf": {
          "model_module": "@jupyter-widgets/controls",
          "model_name": "DescriptionStyleModel",
          "model_module_version": "1.5.0",
          "state": {
            "_model_module": "@jupyter-widgets/controls",
            "_model_module_version": "1.5.0",
            "_model_name": "DescriptionStyleModel",
            "_view_count": null,
            "_view_module": "@jupyter-widgets/base",
            "_view_module_version": "1.2.0",
            "_view_name": "StyleView",
            "description_width": ""
          }
        },
        "a003f57c90da4e0fa7eab5c0dcc96f80": {
          "model_module": "@jupyter-widgets/controls",
          "model_name": "HBoxModel",
          "model_module_version": "1.5.0",
          "state": {
            "_dom_classes": [],
            "_model_module": "@jupyter-widgets/controls",
            "_model_module_version": "1.5.0",
            "_model_name": "HBoxModel",
            "_view_count": null,
            "_view_module": "@jupyter-widgets/controls",
            "_view_module_version": "1.5.0",
            "_view_name": "HBoxView",
            "box_style": "",
            "children": [
              "IPY_MODEL_b0bafb115022421ea4a3ef7e1bbfa244",
              "IPY_MODEL_ee7902bdf813473aa7a79ffb7f7129bb",
              "IPY_MODEL_7e7f6fc234204a91aa3a80792b5c44a1"
            ],
            "layout": "IPY_MODEL_80949731f5ba493b844c03b8aa280e67"
          }
        },
        "b0bafb115022421ea4a3ef7e1bbfa244": {
          "model_module": "@jupyter-widgets/controls",
          "model_name": "HTMLModel",
          "model_module_version": "1.5.0",
          "state": {
            "_dom_classes": [],
            "_model_module": "@jupyter-widgets/controls",
            "_model_module_version": "1.5.0",
            "_model_name": "HTMLModel",
            "_view_count": null,
            "_view_module": "@jupyter-widgets/controls",
            "_view_module_version": "1.5.0",
            "_view_name": "HTMLView",
            "description": "",
            "description_tooltip": null,
            "layout": "IPY_MODEL_564d1669a13a4105ba2ca0201ed37cab",
            "placeholder": "​",
            "style": "IPY_MODEL_a624a01ca388427b9cad476518473e7e",
            "value": "100%"
          }
        },
        "ee7902bdf813473aa7a79ffb7f7129bb": {
          "model_module": "@jupyter-widgets/controls",
          "model_name": "FloatProgressModel",
          "model_module_version": "1.5.0",
          "state": {
            "_dom_classes": [],
            "_model_module": "@jupyter-widgets/controls",
            "_model_module_version": "1.5.0",
            "_model_name": "FloatProgressModel",
            "_view_count": null,
            "_view_module": "@jupyter-widgets/controls",
            "_view_module_version": "1.5.0",
            "_view_name": "ProgressView",
            "bar_style": "success",
            "description": "",
            "description_tooltip": null,
            "layout": "IPY_MODEL_5d08fe8d02f1491296f9e0e0ccdb9c58",
            "max": 1648877,
            "min": 0,
            "orientation": "horizontal",
            "style": "IPY_MODEL_52817a9699b34f29bb39d5caf28c17b8",
            "value": 1648877
          }
        },
        "7e7f6fc234204a91aa3a80792b5c44a1": {
          "model_module": "@jupyter-widgets/controls",
          "model_name": "HTMLModel",
          "model_module_version": "1.5.0",
          "state": {
            "_dom_classes": [],
            "_model_module": "@jupyter-widgets/controls",
            "_model_module_version": "1.5.0",
            "_model_name": "HTMLModel",
            "_view_count": null,
            "_view_module": "@jupyter-widgets/controls",
            "_view_module_version": "1.5.0",
            "_view_name": "HTMLView",
            "description": "",
            "description_tooltip": null,
            "layout": "IPY_MODEL_e0bc02c0cd2e4ed581f88ff85b95ffc0",
            "placeholder": "​",
            "style": "IPY_MODEL_c334bc360e844dfa902e4941485d8589",
            "value": " 1648877/1648877 [00:00&lt;00:00, 5409195.79it/s]"
          }
        },
        "80949731f5ba493b844c03b8aa280e67": {
          "model_module": "@jupyter-widgets/base",
          "model_name": "LayoutModel",
          "model_module_version": "1.2.0",
          "state": {
            "_model_module": "@jupyter-widgets/base",
            "_model_module_version": "1.2.0",
            "_model_name": "LayoutModel",
            "_view_count": null,
            "_view_module": "@jupyter-widgets/base",
            "_view_module_version": "1.2.0",
            "_view_name": "LayoutView",
            "align_content": null,
            "align_items": null,
            "align_self": null,
            "border": null,
            "bottom": null,
            "display": null,
            "flex": null,
            "flex_flow": null,
            "grid_area": null,
            "grid_auto_columns": null,
            "grid_auto_flow": null,
            "grid_auto_rows": null,
            "grid_column": null,
            "grid_gap": null,
            "grid_row": null,
            "grid_template_areas": null,
            "grid_template_columns": null,
            "grid_template_rows": null,
            "height": null,
            "justify_content": null,
            "justify_items": null,
            "left": null,
            "margin": null,
            "max_height": null,
            "max_width": null,
            "min_height": null,
            "min_width": null,
            "object_fit": null,
            "object_position": null,
            "order": null,
            "overflow": null,
            "overflow_x": null,
            "overflow_y": null,
            "padding": null,
            "right": null,
            "top": null,
            "visibility": null,
            "width": null
          }
        },
        "564d1669a13a4105ba2ca0201ed37cab": {
          "model_module": "@jupyter-widgets/base",
          "model_name": "LayoutModel",
          "model_module_version": "1.2.0",
          "state": {
            "_model_module": "@jupyter-widgets/base",
            "_model_module_version": "1.2.0",
            "_model_name": "LayoutModel",
            "_view_count": null,
            "_view_module": "@jupyter-widgets/base",
            "_view_module_version": "1.2.0",
            "_view_name": "LayoutView",
            "align_content": null,
            "align_items": null,
            "align_self": null,
            "border": null,
            "bottom": null,
            "display": null,
            "flex": null,
            "flex_flow": null,
            "grid_area": null,
            "grid_auto_columns": null,
            "grid_auto_flow": null,
            "grid_auto_rows": null,
            "grid_column": null,
            "grid_gap": null,
            "grid_row": null,
            "grid_template_areas": null,
            "grid_template_columns": null,
            "grid_template_rows": null,
            "height": null,
            "justify_content": null,
            "justify_items": null,
            "left": null,
            "margin": null,
            "max_height": null,
            "max_width": null,
            "min_height": null,
            "min_width": null,
            "object_fit": null,
            "object_position": null,
            "order": null,
            "overflow": null,
            "overflow_x": null,
            "overflow_y": null,
            "padding": null,
            "right": null,
            "top": null,
            "visibility": null,
            "width": null
          }
        },
        "a624a01ca388427b9cad476518473e7e": {
          "model_module": "@jupyter-widgets/controls",
          "model_name": "DescriptionStyleModel",
          "model_module_version": "1.5.0",
          "state": {
            "_model_module": "@jupyter-widgets/controls",
            "_model_module_version": "1.5.0",
            "_model_name": "DescriptionStyleModel",
            "_view_count": null,
            "_view_module": "@jupyter-widgets/base",
            "_view_module_version": "1.2.0",
            "_view_name": "StyleView",
            "description_width": ""
          }
        },
        "5d08fe8d02f1491296f9e0e0ccdb9c58": {
          "model_module": "@jupyter-widgets/base",
          "model_name": "LayoutModel",
          "model_module_version": "1.2.0",
          "state": {
            "_model_module": "@jupyter-widgets/base",
            "_model_module_version": "1.2.0",
            "_model_name": "LayoutModel",
            "_view_count": null,
            "_view_module": "@jupyter-widgets/base",
            "_view_module_version": "1.2.0",
            "_view_name": "LayoutView",
            "align_content": null,
            "align_items": null,
            "align_self": null,
            "border": null,
            "bottom": null,
            "display": null,
            "flex": null,
            "flex_flow": null,
            "grid_area": null,
            "grid_auto_columns": null,
            "grid_auto_flow": null,
            "grid_auto_rows": null,
            "grid_column": null,
            "grid_gap": null,
            "grid_row": null,
            "grid_template_areas": null,
            "grid_template_columns": null,
            "grid_template_rows": null,
            "height": null,
            "justify_content": null,
            "justify_items": null,
            "left": null,
            "margin": null,
            "max_height": null,
            "max_width": null,
            "min_height": null,
            "min_width": null,
            "object_fit": null,
            "object_position": null,
            "order": null,
            "overflow": null,
            "overflow_x": null,
            "overflow_y": null,
            "padding": null,
            "right": null,
            "top": null,
            "visibility": null,
            "width": null
          }
        },
        "52817a9699b34f29bb39d5caf28c17b8": {
          "model_module": "@jupyter-widgets/controls",
          "model_name": "ProgressStyleModel",
          "model_module_version": "1.5.0",
          "state": {
            "_model_module": "@jupyter-widgets/controls",
            "_model_module_version": "1.5.0",
            "_model_name": "ProgressStyleModel",
            "_view_count": null,
            "_view_module": "@jupyter-widgets/base",
            "_view_module_version": "1.2.0",
            "_view_name": "StyleView",
            "bar_color": null,
            "description_width": ""
          }
        },
        "e0bc02c0cd2e4ed581f88ff85b95ffc0": {
          "model_module": "@jupyter-widgets/base",
          "model_name": "LayoutModel",
          "model_module_version": "1.2.0",
          "state": {
            "_model_module": "@jupyter-widgets/base",
            "_model_module_version": "1.2.0",
            "_model_name": "LayoutModel",
            "_view_count": null,
            "_view_module": "@jupyter-widgets/base",
            "_view_module_version": "1.2.0",
            "_view_name": "LayoutView",
            "align_content": null,
            "align_items": null,
            "align_self": null,
            "border": null,
            "bottom": null,
            "display": null,
            "flex": null,
            "flex_flow": null,
            "grid_area": null,
            "grid_auto_columns": null,
            "grid_auto_flow": null,
            "grid_auto_rows": null,
            "grid_column": null,
            "grid_gap": null,
            "grid_row": null,
            "grid_template_areas": null,
            "grid_template_columns": null,
            "grid_template_rows": null,
            "height": null,
            "justify_content": null,
            "justify_items": null,
            "left": null,
            "margin": null,
            "max_height": null,
            "max_width": null,
            "min_height": null,
            "min_width": null,
            "object_fit": null,
            "object_position": null,
            "order": null,
            "overflow": null,
            "overflow_x": null,
            "overflow_y": null,
            "padding": null,
            "right": null,
            "top": null,
            "visibility": null,
            "width": null
          }
        },
        "c334bc360e844dfa902e4941485d8589": {
          "model_module": "@jupyter-widgets/controls",
          "model_name": "DescriptionStyleModel",
          "model_module_version": "1.5.0",
          "state": {
            "_model_module": "@jupyter-widgets/controls",
            "_model_module_version": "1.5.0",
            "_model_name": "DescriptionStyleModel",
            "_view_count": null,
            "_view_module": "@jupyter-widgets/base",
            "_view_module_version": "1.2.0",
            "_view_name": "StyleView",
            "description_width": ""
          }
        },
        "eb2f7003a99140578cc56cdc91699fcb": {
          "model_module": "@jupyter-widgets/controls",
          "model_name": "HBoxModel",
          "model_module_version": "1.5.0",
          "state": {
            "_dom_classes": [],
            "_model_module": "@jupyter-widgets/controls",
            "_model_module_version": "1.5.0",
            "_model_name": "HBoxModel",
            "_view_count": null,
            "_view_module": "@jupyter-widgets/controls",
            "_view_module_version": "1.5.0",
            "_view_name": "HBoxView",
            "box_style": "",
            "children": [
              "IPY_MODEL_25c9539d998f46719ec82f2057752d4f",
              "IPY_MODEL_97a8435c52bc4707be54518abffce34d",
              "IPY_MODEL_6841f41a19b94bddb9de117b16db7ec6"
            ],
            "layout": "IPY_MODEL_60f359775b204efeb94d6ca16d57e472"
          }
        },
        "25c9539d998f46719ec82f2057752d4f": {
          "model_module": "@jupyter-widgets/controls",
          "model_name": "HTMLModel",
          "model_module_version": "1.5.0",
          "state": {
            "_dom_classes": [],
            "_model_module": "@jupyter-widgets/controls",
            "_model_module_version": "1.5.0",
            "_model_name": "HTMLModel",
            "_view_count": null,
            "_view_module": "@jupyter-widgets/controls",
            "_view_module_version": "1.5.0",
            "_view_name": "HTMLView",
            "description": "",
            "description_tooltip": null,
            "layout": "IPY_MODEL_b400df83efcb443097fe1560aa938d50",
            "placeholder": "​",
            "style": "IPY_MODEL_9eb3f2bb382a4f329dd55ee84aff0660",
            "value": "100%"
          }
        },
        "97a8435c52bc4707be54518abffce34d": {
          "model_module": "@jupyter-widgets/controls",
          "model_name": "FloatProgressModel",
          "model_module_version": "1.5.0",
          "state": {
            "_dom_classes": [],
            "_model_module": "@jupyter-widgets/controls",
            "_model_module_version": "1.5.0",
            "_model_name": "FloatProgressModel",
            "_view_count": null,
            "_view_module": "@jupyter-widgets/controls",
            "_view_module_version": "1.5.0",
            "_view_name": "ProgressView",
            "bar_style": "success",
            "description": "",
            "description_tooltip": null,
            "layout": "IPY_MODEL_fcee97c10e0f4003a99e83a5eb4de034",
            "max": 4542,
            "min": 0,
            "orientation": "horizontal",
            "style": "IPY_MODEL_0105e572fedd4eb39ae1684abfcfaa71",
            "value": 4542
          }
        },
        "6841f41a19b94bddb9de117b16db7ec6": {
          "model_module": "@jupyter-widgets/controls",
          "model_name": "HTMLModel",
          "model_module_version": "1.5.0",
          "state": {
            "_dom_classes": [],
            "_model_module": "@jupyter-widgets/controls",
            "_model_module_version": "1.5.0",
            "_model_name": "HTMLModel",
            "_view_count": null,
            "_view_module": "@jupyter-widgets/controls",
            "_view_module_version": "1.5.0",
            "_view_name": "HTMLView",
            "description": "",
            "description_tooltip": null,
            "layout": "IPY_MODEL_a4baeedc729b46ac9d044e7e152a15cd",
            "placeholder": "​",
            "style": "IPY_MODEL_88a567f878bb4d29b00c2eba628b556a",
            "value": " 4542/4542 [00:00&lt;00:00, 114701.42it/s]"
          }
        },
        "60f359775b204efeb94d6ca16d57e472": {
          "model_module": "@jupyter-widgets/base",
          "model_name": "LayoutModel",
          "model_module_version": "1.2.0",
          "state": {
            "_model_module": "@jupyter-widgets/base",
            "_model_module_version": "1.2.0",
            "_model_name": "LayoutModel",
            "_view_count": null,
            "_view_module": "@jupyter-widgets/base",
            "_view_module_version": "1.2.0",
            "_view_name": "LayoutView",
            "align_content": null,
            "align_items": null,
            "align_self": null,
            "border": null,
            "bottom": null,
            "display": null,
            "flex": null,
            "flex_flow": null,
            "grid_area": null,
            "grid_auto_columns": null,
            "grid_auto_flow": null,
            "grid_auto_rows": null,
            "grid_column": null,
            "grid_gap": null,
            "grid_row": null,
            "grid_template_areas": null,
            "grid_template_columns": null,
            "grid_template_rows": null,
            "height": null,
            "justify_content": null,
            "justify_items": null,
            "left": null,
            "margin": null,
            "max_height": null,
            "max_width": null,
            "min_height": null,
            "min_width": null,
            "object_fit": null,
            "object_position": null,
            "order": null,
            "overflow": null,
            "overflow_x": null,
            "overflow_y": null,
            "padding": null,
            "right": null,
            "top": null,
            "visibility": null,
            "width": null
          }
        },
        "b400df83efcb443097fe1560aa938d50": {
          "model_module": "@jupyter-widgets/base",
          "model_name": "LayoutModel",
          "model_module_version": "1.2.0",
          "state": {
            "_model_module": "@jupyter-widgets/base",
            "_model_module_version": "1.2.0",
            "_model_name": "LayoutModel",
            "_view_count": null,
            "_view_module": "@jupyter-widgets/base",
            "_view_module_version": "1.2.0",
            "_view_name": "LayoutView",
            "align_content": null,
            "align_items": null,
            "align_self": null,
            "border": null,
            "bottom": null,
            "display": null,
            "flex": null,
            "flex_flow": null,
            "grid_area": null,
            "grid_auto_columns": null,
            "grid_auto_flow": null,
            "grid_auto_rows": null,
            "grid_column": null,
            "grid_gap": null,
            "grid_row": null,
            "grid_template_areas": null,
            "grid_template_columns": null,
            "grid_template_rows": null,
            "height": null,
            "justify_content": null,
            "justify_items": null,
            "left": null,
            "margin": null,
            "max_height": null,
            "max_width": null,
            "min_height": null,
            "min_width": null,
            "object_fit": null,
            "object_position": null,
            "order": null,
            "overflow": null,
            "overflow_x": null,
            "overflow_y": null,
            "padding": null,
            "right": null,
            "top": null,
            "visibility": null,
            "width": null
          }
        },
        "9eb3f2bb382a4f329dd55ee84aff0660": {
          "model_module": "@jupyter-widgets/controls",
          "model_name": "DescriptionStyleModel",
          "model_module_version": "1.5.0",
          "state": {
            "_model_module": "@jupyter-widgets/controls",
            "_model_module_version": "1.5.0",
            "_model_name": "DescriptionStyleModel",
            "_view_count": null,
            "_view_module": "@jupyter-widgets/base",
            "_view_module_version": "1.2.0",
            "_view_name": "StyleView",
            "description_width": ""
          }
        },
        "fcee97c10e0f4003a99e83a5eb4de034": {
          "model_module": "@jupyter-widgets/base",
          "model_name": "LayoutModel",
          "model_module_version": "1.2.0",
          "state": {
            "_model_module": "@jupyter-widgets/base",
            "_model_module_version": "1.2.0",
            "_model_name": "LayoutModel",
            "_view_count": null,
            "_view_module": "@jupyter-widgets/base",
            "_view_module_version": "1.2.0",
            "_view_name": "LayoutView",
            "align_content": null,
            "align_items": null,
            "align_self": null,
            "border": null,
            "bottom": null,
            "display": null,
            "flex": null,
            "flex_flow": null,
            "grid_area": null,
            "grid_auto_columns": null,
            "grid_auto_flow": null,
            "grid_auto_rows": null,
            "grid_column": null,
            "grid_gap": null,
            "grid_row": null,
            "grid_template_areas": null,
            "grid_template_columns": null,
            "grid_template_rows": null,
            "height": null,
            "justify_content": null,
            "justify_items": null,
            "left": null,
            "margin": null,
            "max_height": null,
            "max_width": null,
            "min_height": null,
            "min_width": null,
            "object_fit": null,
            "object_position": null,
            "order": null,
            "overflow": null,
            "overflow_x": null,
            "overflow_y": null,
            "padding": null,
            "right": null,
            "top": null,
            "visibility": null,
            "width": null
          }
        },
        "0105e572fedd4eb39ae1684abfcfaa71": {
          "model_module": "@jupyter-widgets/controls",
          "model_name": "ProgressStyleModel",
          "model_module_version": "1.5.0",
          "state": {
            "_model_module": "@jupyter-widgets/controls",
            "_model_module_version": "1.5.0",
            "_model_name": "ProgressStyleModel",
            "_view_count": null,
            "_view_module": "@jupyter-widgets/base",
            "_view_module_version": "1.2.0",
            "_view_name": "StyleView",
            "bar_color": null,
            "description_width": ""
          }
        },
        "a4baeedc729b46ac9d044e7e152a15cd": {
          "model_module": "@jupyter-widgets/base",
          "model_name": "LayoutModel",
          "model_module_version": "1.2.0",
          "state": {
            "_model_module": "@jupyter-widgets/base",
            "_model_module_version": "1.2.0",
            "_model_name": "LayoutModel",
            "_view_count": null,
            "_view_module": "@jupyter-widgets/base",
            "_view_module_version": "1.2.0",
            "_view_name": "LayoutView",
            "align_content": null,
            "align_items": null,
            "align_self": null,
            "border": null,
            "bottom": null,
            "display": null,
            "flex": null,
            "flex_flow": null,
            "grid_area": null,
            "grid_auto_columns": null,
            "grid_auto_flow": null,
            "grid_auto_rows": null,
            "grid_column": null,
            "grid_gap": null,
            "grid_row": null,
            "grid_template_areas": null,
            "grid_template_columns": null,
            "grid_template_rows": null,
            "height": null,
            "justify_content": null,
            "justify_items": null,
            "left": null,
            "margin": null,
            "max_height": null,
            "max_width": null,
            "min_height": null,
            "min_width": null,
            "object_fit": null,
            "object_position": null,
            "order": null,
            "overflow": null,
            "overflow_x": null,
            "overflow_y": null,
            "padding": null,
            "right": null,
            "top": null,
            "visibility": null,
            "width": null
          }
        },
        "88a567f878bb4d29b00c2eba628b556a": {
          "model_module": "@jupyter-widgets/controls",
          "model_name": "DescriptionStyleModel",
          "model_module_version": "1.5.0",
          "state": {
            "_model_module": "@jupyter-widgets/controls",
            "_model_module_version": "1.5.0",
            "_model_name": "DescriptionStyleModel",
            "_view_count": null,
            "_view_module": "@jupyter-widgets/base",
            "_view_module_version": "1.2.0",
            "_view_name": "StyleView",
            "description_width": ""
          }
        }
      }
    }
  },
  "nbformat": 4,
  "nbformat_minor": 0
}