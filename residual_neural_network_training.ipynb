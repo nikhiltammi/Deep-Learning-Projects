{
  "metadata": {
    "colab": {
      "provenance": []
    },
    "kernelspec": {
      "name": "python3",
      "display_name": "Python 3",
      "language": "python"
    },
    "language_info": {
      "name": "python",
      "version": "3.7.12",
      "mimetype": "text/x-python",
      "codemirror_mode": {
        "name": "ipython",
        "version": 3
      },
      "pygments_lexer": "ipython3",
      "nbconvert_exporter": "python",
      "file_extension": ".py"
    },
    "accelerator": "GPU",
    "gpuClass": "standard"
  },
  "nbformat_minor": 0,
  "nbformat": 4,
  "cells": [
    {
      "cell_type": "code",
      "source": [
        "import torch\n",
        "import numpy as np\n",
        "import matplotlib.pyplot as pl\n",
        "import time"
      ],
      "metadata": {
        "id": "9BpoR1VYQmax",
        "execution": {
          "iopub.status.busy": "2022-12-03T09:55:29.943337Z",
          "iopub.execute_input": "2022-12-03T09:55:29.944206Z",
          "iopub.status.idle": "2022-12-03T09:55:31.634722Z",
          "shell.execute_reply.started": "2022-12-03T09:55:29.944167Z",
          "shell.execute_reply": "2022-12-03T09:55:31.633747Z"
        },
        "trusted": true
      },
      "execution_count": null,
      "outputs": []
    },
    {
      "cell_type": "code",
      "source": [
        "from google.colab import drive\n",
        "drive.mount('/content/drive')"
      ],
      "metadata": {
        "colab": {
          "base_uri": "https://localhost:8080/"
        },
        "id": "_WMFbwIr1qjm",
        "outputId": "ba3dc8a5-6917-458c-e06c-1a14d31d555b"
      },
      "execution_count": 1,
      "outputs": [
        {
          "output_type": "stream",
          "name": "stdout",
          "text": [
            "Mounted at /content/drive\n"
          ]
        }
      ]
    },
    {
      "cell_type": "code",
      "source": [
        "from project_utilities import efficiency\n",
        "from project_utilities import Loss\n",
        "from project_utilities import ValueSet\n",
        "from sklearn.model_selection import train_test_split"
      ],
      "metadata": {
        "id": "TzxFgYZwRTBK",
        "execution": {
          "iopub.status.busy": "2022-12-03T09:55:36.453662Z",
          "iopub.execute_input": "2022-12-03T09:55:36.454174Z",
          "iopub.status.idle": "2022-12-03T09:55:39.308839Z",
          "shell.execute_reply.started": "2022-12-03T09:55:36.454142Z",
          "shell.execute_reply": "2022-12-03T09:55:39.307821Z"
        },
        "trusted": true
      },
      "execution_count": null,
      "outputs": []
    },
    {
      "cell_type": "code",
      "source": [
        "random_seed=156\n",
        "learning_rate=0.01\n",
        "num_epochs=5\n",
        "batch_size=256"
      ],
      "metadata": {
        "id": "gJ9aAb1OBvSV",
        "execution": {
          "iopub.status.busy": "2022-12-03T09:55:51.233799Z",
          "iopub.execute_input": "2022-12-03T09:55:51.234170Z",
          "iopub.status.idle": "2022-12-03T09:55:51.239322Z",
          "shell.execute_reply.started": "2022-12-03T09:55:51.234138Z",
          "shell.execute_reply": "2022-12-03T09:55:51.238327Z"
        },
        "trusted": true
      },
      "execution_count": null,
      "outputs": []
    },
    {
      "cell_type": "code",
      "source": [
        "class MyDataset(torch.utils.data.Dataset): \n",
        "  def __init__(self, setID): \n",
        "        'Initialization' \n",
        "        npz_files_content = np.load(\"./drive/MyDrive/data/Set_\"+str(setID)+\".npz\")  \n",
        "         \n",
        "        self.X_set = torch.tensor(npz_files_content['X'])    \n",
        "        self.y_set = torch.tensor(npz_files_content['y']) \n",
        "  def __len__(self): \n",
        "        'Denotes the total number of samples' \n",
        "        return len(self.y_set) \n",
        "  def __getitem__(self, index): \n",
        "        'Generates one sample of data' \n",
        "        # Select sample \n",
        "        X = self.X_set[index] \n",
        "        y = self.y_set[index] \n",
        "        return X, y"
      ],
      "metadata": {
        "id": "CsFMg0c2Tk4H",
        "execution": {
          "iopub.status.busy": "2022-12-03T09:56:05.980603Z",
          "iopub.execute_input": "2022-12-03T09:56:05.980986Z",
          "iopub.status.idle": "2022-12-03T09:56:05.988668Z",
          "shell.execute_reply.started": "2022-12-03T09:56:05.980955Z",
          "shell.execute_reply": "2022-12-03T09:56:05.987514Z"
        },
        "trusted": true
      },
      "execution_count": null,
      "outputs": []
    },
    {
      "cell_type": "code",
      "source": [
        "##########################\n",
        "### MODEL\n",
        "##########################\n",
        "\n",
        "\n",
        "class Residual_Net(torch.nn.Module):\n",
        "\n",
        "    def __init__(self):\n",
        "        super(Residual_Net, self).__init__()\n",
        "        \n",
        "        #########################\n",
        "        ### 1st residual block\n",
        "        #########################\n",
        "        \n",
        "        self.block_1 = torch.nn.Sequential(\n",
        "                torch.nn.Conv2d(in_channels=4,\n",
        "                                out_channels=8,\n",
        "                                kernel_size=3,\n",
        "                                stride=1,\n",
        "                                padding=1),\n",
        "                torch.nn.BatchNorm2d(8),\n",
        "                torch.nn.ReLU(inplace=True),\n",
        "                torch.nn.Conv2d(in_channels=8,\n",
        "                                out_channels=4,\n",
        "                                kernel_size=3,\n",
        "                                stride=1,\n",
        "                                padding=1),\n",
        "                torch.nn.BatchNorm2d(4)\n",
        "        )\n",
        "        \n",
        "        \n",
        "        #########################\n",
        "        ### 2nd residual block\n",
        "        #########################\n",
        "        \n",
        "        self.block_2 = torch.nn.Sequential(\n",
        "                torch.nn.Conv2d(in_channels=4,\n",
        "                                out_channels=8,\n",
        "                                kernel_size=3,\n",
        "                                stride=1,\n",
        "                                padding=1),\n",
        "                torch.nn.BatchNorm2d(8),\n",
        "                torch.nn.ReLU(inplace=True),\n",
        "                torch.nn.Conv2d(in_channels=8,\n",
        "                                out_channels=1,\n",
        "                                kernel_size=3,\n",
        "                                stride=1,\n",
        "                                padding=1),\n",
        "                torch.nn.BatchNorm2d(1)\n",
        "        )\n",
        "\n",
        "        \n",
        "    def forward(self, x):\n",
        "       \n",
        "        x=x.view(batch_size,4,1,4000)\n",
        "        shortcut = x\n",
        "        x = self.block_1(x)\n",
        "        x = torch.nn.functional.relu(x + shortcut)\n",
        "        shortcut = x\n",
        "        x = self.block_2(x)\n",
        "        logits = torch.nn.functional.relu(x)\n",
        "        logits=logits.view(batch_size,4000)\n",
        "        return logits\n",
        "\n",
        "    \n",
        "torch.manual_seed(random_seed)"
      ],
      "metadata": {
        "id": "pu3pdpNBYpE2",
        "execution": {
          "iopub.status.busy": "2022-12-03T09:57:18.638836Z",
          "iopub.execute_input": "2022-12-03T09:57:18.639210Z",
          "iopub.status.idle": "2022-12-03T09:57:18.659221Z",
          "shell.execute_reply.started": "2022-12-03T09:57:18.639178Z",
          "shell.execute_reply": "2022-12-03T09:57:18.658167Z"
        },
        "trusted": true,
        "outputId": "15d47bdb-2ced-43b2-9cc5-9c730253eccf"
      },
      "execution_count": null,
      "outputs": [
        {
          "execution_count": 9,
          "output_type": "execute_result",
          "data": {
            "text/plain": "<torch._C.Generator at 0x7fc4635f0af0>"
          },
          "metadata": {}
        }
      ]
    },
    {
      "cell_type": "code",
      "source": [
        "def train(model, num_epochs, \n",
        "          learning_rate=0.01, seed=156, batch_size=256): \n",
        "    cost = [] \n",
        "     \n",
        "    torch.manual_seed(seed) \n",
        "     \n",
        "    optimizer = torch.optim.SGD(model.parameters(), lr=learning_rate) \n",
        "     \n",
        "    for e in range(1,num_epochs): \n",
        "      batch_num = 0 \n",
        "      for setID in train_set_idx: \n",
        "          train_set = MyDataset(setID+1) \n",
        "          train_generator = torch.utils.data.DataLoader(train_set,  \n",
        "                                                        batch_size=batch_size,  \n",
        "                                                        shuffle=True,  drop_last=True) \n",
        "          for X_train, y_train in train_generator: \n",
        "            batch_num = batch_num + 1 \n",
        "            #### Compute outputs #### \n",
        "            yhat = model(X_train) \n",
        "            loss = loss_model.forward(yhat, y_train) \n",
        "            #### Reset gradients from previous iteration #### \n",
        "            optimizer.zero_grad() \n",
        "             \n",
        "            #### Compute gradients #### \n",
        "            loss.backward() \n",
        "             \n",
        "            #### Update weights #### \n",
        "            optimizer.step() \n",
        "            #### Logging #### \n",
        "            with torch.no_grad(): \n",
        "                yhat = model.forward(X_train) \n",
        "                curr_loss = loss_model.forward(yhat, y_train) \n",
        "                cost.append(curr_loss) \n",
        "    return cost"
      ],
      "metadata": {
        "id": "HLI5yB4Yr0qS",
        "execution": {
          "iopub.status.busy": "2022-12-03T09:57:53.965751Z",
          "iopub.execute_input": "2022-12-03T09:57:53.966132Z",
          "iopub.status.idle": "2022-12-03T09:57:53.974975Z",
          "shell.execute_reply.started": "2022-12-03T09:57:53.966101Z",
          "shell.execute_reply": "2022-12-03T09:57:53.973914Z"
        },
        "trusted": true
      },
      "execution_count": null,
      "outputs": []
    },
    {
      "cell_type": "code",
      "source": [
        "def validate(model): \n",
        "    loss_val = [] \n",
        "    eff = ValueSet(0, 0, 0, 0) \n",
        "    # switch to evaluate mode \n",
        "    model.eval() \n",
        "    with torch.no_grad():\n",
        "        for setID in val_set_idx: \n",
        "          val_set = MyDataset(setID+1) \n",
        "          val_generator = torch.utils.data.DataLoader(val_set,  \n",
        "                                                      batch_size=5000,  \n",
        "                                                      shuffle=True,  drop_last=True) \n",
        "          for X_val, y_val in val_generator:\n",
        "            # Forward pass \n",
        "            val_outputs = model(X_val) \n",
        "            loss_output = loss_model.forward(val_outputs, y_val) \n",
        "            loss_val.append(loss_output) \n",
        "            for label, output in zip(y_val.cpu().numpy(), val_outputs.cpu().numpy()):\n",
        "                eff += efficiency(label, output, difference = 5.0,  \n",
        "                                  threshold = 1e-2, integral_threshold = 0.2,  \n",
        "                                  min_width = 3) \n",
        "    return sum(loss_val)/len(loss_val), eff.eff_rate, eff.fp_rate"
      ],
      "metadata": {
        "id": "7WnLZKg1uMKf",
        "execution": {
          "iopub.status.busy": "2022-12-03T09:58:03.568099Z",
          "iopub.execute_input": "2022-12-03T09:58:03.568592Z",
          "iopub.status.idle": "2022-12-03T09:58:03.577409Z",
          "shell.execute_reply.started": "2022-12-03T09:58:03.568548Z",
          "shell.execute_reply": "2022-12-03T09:58:03.576322Z"
        },
        "trusted": true
      },
      "execution_count": null,
      "outputs": []
    },
    {
      "cell_type": "code",
      "source": [
        "samp_dim=[10, 20, 25, 35, 45]\n",
        "batch_size=5000\n",
        "val_loss=[]\n",
        "tr_loss=[]\n",
        "params=[]\n",
        "c_list=[]\n",
        "for val in range(len(samp_dim)):\n",
        "    model = Residual_Net()  \n",
        "    loss_model = Loss(0.00001)\n",
        "    batch_size=256\n",
        "    train_set_idx, val_set_idx = train_test_split(list(range(1,80)), test_size=samp_dim[val])\n",
        "    c_list=train(model, num_epochs=5, seed=random_seed, batch_size=256)\n",
        "    tr_loss.append(float(c_list[-1]))\n",
        "    batch_size=5000\n",
        "    loss_val, eff_rate, fp_rate = validate(model)\n",
        "    print('Training Loss for Sample size : %d ' % samp_dim[val],'is: %0.5f ' % float(c_list[-1]))\n",
        "    print('Validation Loss for Sample size : %d' % samp_dim[val],'is: %0.5f ' % float(loss_val))\n",
        "    val_loss.append(float(loss_val))   "
      ],
      "metadata": {
        "execution": {
          "iopub.status.busy": "2022-12-03T08:11:36.060733Z",
          "iopub.execute_input": "2022-12-03T08:11:36.061160Z",
          "iopub.status.idle": "2022-12-03T09:08:36.659424Z",
          "shell.execute_reply.started": "2022-12-03T08:11:36.061085Z",
          "shell.execute_reply": "2022-12-03T09:08:36.658177Z"
        },
        "trusted": true,
        "id": "tMnIwyhJgxJz",
        "outputId": "ba0d57cf-947c-495b-ecad-fcd142f886e0"
      },
      "execution_count": null,
      "outputs": [
        {
          "name": "stdout",
          "text": "Training Loss for Sample size : 10  is: 0.06533 \nValidation Loss for Sample size : 10 is: 0.06735 \nTraining Loss for Sample size : 20  is: 0.05514 \nValidation Loss for Sample size : 20 is: 0.05592 \nTraining Loss for Sample size : 25  is: 0.09583 \nValidation Loss for Sample size : 25 is: 0.09574 \nTraining Loss for Sample size : 35  is: 0.07371 \nValidation Loss for Sample size : 35 is: 0.07326 \nTraining Loss for Sample size : 45  is: 0.07178 \nValidation Loss for Sample size : 45 is: 0.07090 \n",
          "output_type": "stream"
        }
      ]
    },
    {
      "cell_type": "code",
      "source": [
        "brWid=0.35\n",
        "fig = pl.subplots(figsize =(15,10))\n",
        "b1 = np.arange(5)\n",
        "b2 = [val + brWid for val in b1]\n",
        "\n",
        "pl.bar(b1, tr_loss, color ='m', width = brWid,\n",
        "        edgecolor ='black', label ='Train Loss')\n",
        "pl.bar(b2, val_loss, color ='g', width = brWid,\n",
        "        edgecolor ='black', label ='Validation Loss')\n",
        "\n",
        "pl.title('Loss on \"Training dataset\" and \"Validation dataset\"')\n",
        "pl.xlabel('Sample Size', fontweight ='bold', fontsize = 12)\n",
        "pl.ylabel('Loss', fontweight ='bold', fontsize = 12)\n",
        "pl.xticks([ival + brWid for ival in range(5)],\n",
        "        ['10', '20', '25', '35', '45'])\n",
        "pl.legend()\n",
        "pl.show()\n"
      ],
      "metadata": {
        "execution": {
          "iopub.status.busy": "2022-12-03T09:08:36.661238Z",
          "iopub.execute_input": "2022-12-03T09:08:36.661866Z",
          "iopub.status.idle": "2022-12-03T09:08:37.010926Z",
          "shell.execute_reply.started": "2022-12-03T09:08:36.661826Z",
          "shell.execute_reply": "2022-12-03T09:08:37.009773Z"
        },
        "trusted": true,
        "id": "JAgVLoT2gxJ0",
        "outputId": "ad8c9413-7e67-4e85-91d2-b309ed928fcc"
      },
      "execution_count": null,
      "outputs": [
        {
          "output_type": "display_data",
          "data": {
            "text/plain": "<Figure size 1080x720 with 1 Axes>",
            "image/png": "[encoded data removed]"
          },
          "metadata": {
            "needs_background": "light"
          }
        }
      ]
    },
    {
      "cell_type": "code",
      "source": [
        "c_list=[]\n",
        "model = Residual_Net()  \n",
        "loss_model = Loss(0.00001)\n",
        "batch_size=256\n",
        "train_set_idx, val_set_idx = train_test_split(list(range(1,80)), test_size=20)\n",
        "c_list=train(model, num_epochs=15, seed=random_seed, batch_size=256)\n",
        "batch_size=5000\n",
        "loss_val, eff_rate, fp_rate = validate(model)\n",
        "print('Training Loss is: %0.5f ' % float(c_list[-1]))\n",
        "print('Validation Loss is: %0.5f ' % float(loss_val)) "
      ],
      "metadata": {
        "execution": {
          "iopub.status.busy": "2022-12-03T09:11:17.786822Z",
          "iopub.execute_input": "2022-12-03T09:11:17.787217Z",
          "iopub.status.idle": "2022-12-03T09:51:45.459496Z",
          "shell.execute_reply.started": "2022-12-03T09:11:17.787183Z",
          "shell.execute_reply": "2022-12-03T09:51:45.458247Z"
        },
        "trusted": true,
        "id": "SX7F9qetgxJ0",
        "outputId": "45a0996e-ffc3-4175-8bc7-aebb87362ebc"
      },
      "execution_count": null,
      "outputs": [
        {
          "name": "stdout",
          "text": "Training Loss is: 0.09669 \nValidation Loss is: 0.09578 \n",
          "output_type": "stream"
        }
      ]
    },
    {
      "cell_type": "code",
      "source": [
        "c_list=[]\n",
        "model = Residual_Net()  \n",
        "loss_model = Loss(0.00001)\n",
        "batch_size=256\n",
        "train_set_idx, val_set_idx = train_test_split(list(range(1,80)), test_size=10)\n",
        "c_list=train(model, num_epochs=15, seed=random_seed, batch_size=256)\n",
        "batch_size=5000\n",
        "loss_val, eff_rate, fp_rate = validate(model)\n",
        "print('Training Loss is: %0.5f ' % float(c_list[-1]))\n",
        "print('Validation Loss is: %0.5f ' % float(loss_val))\n",
        "torch.save(model.state_dict(),'Parameters.pt')    "
      ],
      "metadata": {
        "execution": {
          "iopub.status.busy": "2022-12-03T09:58:18.893274Z",
          "iopub.execute_input": "2022-12-03T09:58:18.893656Z",
          "iopub.status.idle": "2022-12-03T10:52:49.984287Z",
          "shell.execute_reply.started": "2022-12-03T09:58:18.893625Z",
          "shell.execute_reply": "2022-12-03T10:52:49.983226Z"
        },
        "trusted": true,
        "id": "FPu-rjqsgxJ1",
        "outputId": "88b96917-4c1d-4e14-e060-f98d1572a28b"
      },
      "execution_count": null,
      "outputs": [
        {
          "name": "stdout",
          "text": "Training Loss is: 0.05325 \nValidation Loss is: 0.05660 \n",
          "output_type": "stream"
        }
      ]
    },
    {
      "cell_type": "code",
      "source": [
        "# For loading the weights\n",
        "model.load_state_dict(torch.load('Parameters.pt'))"
      ],
      "metadata": {
        "id": "viRKQA1O97Ak"
      },
      "execution_count": null,
      "outputs": []
    }
  ]
}