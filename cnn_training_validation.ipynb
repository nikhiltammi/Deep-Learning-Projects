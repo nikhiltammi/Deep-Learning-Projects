{
  "metadata": {
    "accelerator": "GPU",
    "colab": {
      "provenance": []
    },
    "gpuClass": "standard",
    "kernelspec": {
      "name": "python3",
      "display_name": "Python 3",
      "language": "python"
    },
    "language_info": {
      "name": "python",
      "version": "3.7.12",
      "mimetype": "text/x-python",
      "codemirror_mode": {
        "name": "ipython",
        "version": 3
      },
      "pygments_lexer": "ipython3",
      "nbconvert_exporter": "python",
      "file_extension": ".py"
    }
  },
  "nbformat_minor": 0,
  "nbformat": 4,
  "cells": [
    {
      "cell_type": "code",
      "source": [
        "import torch\n",
        "import time\n",
        "import matplotlib.pyplot as pl\n",
        "import numpy as np"
      ],
      "metadata": {
        "id": "9BpoR1VYQmax",
        "execution": {
          "iopub.status.busy": "2022-12-03T05:13:55.537665Z",
          "iopub.execute_input": "2022-12-03T05:13:55.537954Z",
          "iopub.status.idle": "2022-12-03T05:13:57.780457Z",
          "shell.execute_reply.started": "2022-12-03T05:13:55.537928Z",
          "shell.execute_reply": "2022-12-03T05:13:57.777811Z"
        },
        "trusted": true
      },
      "execution_count": null,
      "outputs": []
    },
    {
      "cell_type": "code",
      "source": [
        "from google.colab import drive\n",
        "drive.mount('/content/drive')"
      ],
      "metadata": {
        "colab": {
          "base_uri": "https://localhost:8080/"
        },
        "id": "kZOaEbnK2ITs",
        "outputId": "6fd1508a-a4e5-44ac-bf5d-adbd31461180"
      },
      "execution_count": 1,
      "outputs": [
        {
          "output_type": "stream",
          "name": "stdout",
          "text": [
            "Mounted at /content/drive\n"
          ]
        }
      ]
    },
    {
      "cell_type": "code",
      "source": [
        "from project_utilities import efficiency\n",
        "from project_utilities import Loss\n",
        "from project_utilities import ValueSet\n",
        "from sklearn.model_selection import train_test_split\n",
        "train_set_idx, val_set_idx = train_test_split(list(range(1,80)), test_size=20)"
      ],
      "metadata": {
        "id": "TzxFgYZwRTBK",
        "execution": {
          "iopub.status.busy": "2022-12-03T05:13:57.805241Z",
          "iopub.execute_input": "2022-12-03T05:13:57.805700Z",
          "iopub.status.idle": "2022-12-03T05:14:02.281597Z",
          "shell.execute_reply.started": "2022-12-03T05:13:57.805659Z",
          "shell.execute_reply": "2022-12-03T05:14:02.280434Z"
        },
        "trusted": true
      },
      "execution_count": null,
      "outputs": []
    },
    {
      "cell_type": "code",
      "source": [
        "random_seed=156\n",
        "learning_rate=0.002\n",
        "num_epochs=5\n",
        "batch_size=256"
      ],
      "metadata": {
        "id": "gJ9aAb1OBvSV",
        "execution": {
          "iopub.status.busy": "2022-12-03T05:14:02.410678Z",
          "iopub.execute_input": "2022-12-03T05:14:02.411856Z",
          "iopub.status.idle": "2022-12-03T05:14:02.421234Z",
          "shell.execute_reply.started": "2022-12-03T05:14:02.411815Z",
          "shell.execute_reply": "2022-12-03T05:14:02.420119Z"
        },
        "trusted": true
      },
      "execution_count": null,
      "outputs": []
    },
    {
      "cell_type": "code",
      "source": [
        "class MyDataset(torch.utils.data.Dataset): \n",
        "  def __init__(self, setID): \n",
        "        'Initialization' \n",
        "        npz_files_content = np.load(\"./drive/MyDrive/data/Set_\"+str(setID)+\".npz\")  \n",
        "         \n",
        "        self.X_set = torch.tensor(npz_files_content['X'])    \n",
        "        self.y_set = torch.tensor(npz_files_content['y']) \n",
        "  def __len__(self): \n",
        "        'Denotes the total number of samples' \n",
        "        return len(self.y_set) \n",
        "  def __getitem__(self, index): \n",
        "        'Generates one sample of data' \n",
        "        # Select sample \n",
        "        X = self.X_set[index] \n",
        "        y = self.y_set[index] \n",
        "        return X, y"
      ],
      "metadata": {
        "id": "CsFMg0c2Tk4H",
        "execution": {
          "iopub.status.busy": "2022-12-03T05:14:02.424692Z",
          "iopub.execute_input": "2022-12-03T05:14:02.425691Z",
          "iopub.status.idle": "2022-12-03T05:14:02.432951Z",
          "shell.execute_reply.started": "2022-12-03T05:14:02.425655Z",
          "shell.execute_reply": "2022-12-03T05:14:02.432308Z"
        },
        "trusted": true
      },
      "execution_count": null,
      "outputs": []
    },
    {
      "cell_type": "code",
      "source": [
        "class Reshape(torch.nn.Module):\n",
        "    def __init__(self, *args):\n",
        "        super().__init__()\n",
        "        self.shape = args\n",
        "\n",
        "    def forward(self, x):\n",
        "        return x.view(self.shape) \n",
        "    \n",
        "class Trim(torch.nn.Module):\n",
        "    def __init__(self, *args):\n",
        "        super().__init__()\n",
        "\n",
        "    def forward(self, x):\n",
        "        return x[:, :, :4, :4000]\n",
        "          \n",
        "class Conv_Network(torch.nn.Module):\n",
        "    def __init__(self):\n",
        "        super().__init__()\n",
        "        \n",
        "        self.block = torch.nn.Sequential( \n",
        "                torch.nn.Conv2d(4, 12, stride=(1, 1), kernel_size=(3, 3), padding=1),\n",
        "                torch.nn.ReLU(inplace=True),\n",
        "                torch.nn.Dropout2d(0.2),\n",
        "                \n",
        "                torch.nn.Conv2d(12, 16, stride=(2, 2), kernel_size=(3, 3), padding=1),\n",
        "                torch.nn.BatchNorm2d(16),\n",
        "                torch.nn.ReLU(inplace=True),                \n",
        "                torch.nn.Dropout2d(0.1),\n",
        "\n",
        "                torch.nn.Conv2d(16, 8, stride=(2, 2), kernel_size=(3, 3), padding=1),              \n",
        "                torch.nn.ReLU(inplace=True),\n",
        "                torch.nn.Dropout2d(0.2),\n",
        "\n",
        "                torch.nn.Conv2d(8, 6, stride=(1, 1), kernel_size=(3, 3), padding=1),\n",
        "                torch.nn.ReLU(inplace=True),\n",
        "                torch.nn.Dropout2d(0.1),\n",
        "\n",
        "                \n",
        "                torch.nn.Conv2d(6, 4, stride=(1, 1), kernel_size=(3, 3), padding=1),\n",
        "                torch.nn.BatchNorm2d(4),\n",
        "                torch.nn.ReLU(inplace=True),\n",
        "\n",
        "                torch.nn.Flatten()\n",
        "                \n",
        "                )\n",
        "\n",
        "    def forward(self, x):\n",
        "        x=x.view(batch_size,4,1,4000)\n",
        "        x = self.block(x)\n",
        "        x=x.view(batch_size,4000)\n",
        "        return x  "
      ],
      "metadata": {
        "id": "j_sgpwbKmHsQ",
        "execution": {
          "iopub.status.busy": "2022-12-03T05:14:02.434321Z",
          "iopub.execute_input": "2022-12-03T05:14:02.435404Z",
          "iopub.status.idle": "2022-12-03T05:14:02.450126Z",
          "shell.execute_reply.started": "2022-12-03T05:14:02.435359Z",
          "shell.execute_reply": "2022-12-03T05:14:02.448944Z"
        },
        "trusted": true
      },
      "execution_count": null,
      "outputs": []
    },
    {
      "cell_type": "code",
      "source": [
        "def train(model, num_epochs, \n",
        "          learning_rate=0.002, seed=156, batch_size=256): \n",
        "    cost = [] \n",
        "     \n",
        "    torch.manual_seed(seed) \n",
        "     \n",
        "    optimizer = torch.optim.SGD(model.parameters(), lr=learning_rate) \n",
        "     \n",
        "    for e in range(1,num_epochs): \n",
        "      batch_num = 0 \n",
        "      for setID in train_set_idx: \n",
        "          train_set = MyDataset(setID+1) \n",
        "          train_generator = torch.utils.data.DataLoader(train_set,  \n",
        "                                                        batch_size=batch_size,  \n",
        "                                                        shuffle=True,drop_last =True) \n",
        "           \n",
        "          for X_train, y_train in train_generator:\n",
        "            batch_num = batch_num + 1 \n",
        "            #### Compute outputs #### \n",
        "            yhat = model(X_train) \n",
        "            loss = loss_model.forward(yhat, y_train) \n",
        "            #### Reset gradients from previous iteration #### \n",
        "            optimizer.zero_grad() \n",
        "             \n",
        "            #### Compute gradients #### \n",
        "            loss.backward() \n",
        "             \n",
        "            #### Update weights #### \n",
        "            optimizer.step() \n",
        "            #### Logging #### \n",
        "            with torch.no_grad(): \n",
        "                yhat = model.forward(X_train) \n",
        "                curr_loss = loss_model.forward(yhat, y_train) \n",
        "                cost.append(curr_loss) \n",
        "    return cost"
      ],
      "metadata": {
        "id": "HLI5yB4Yr0qS",
        "execution": {
          "iopub.status.busy": "2022-12-03T05:14:02.453620Z",
          "iopub.execute_input": "2022-12-03T05:14:02.453988Z",
          "iopub.status.idle": "2022-12-03T05:14:02.465934Z",
          "shell.execute_reply.started": "2022-12-03T05:14:02.453949Z",
          "shell.execute_reply": "2022-12-03T05:14:02.465003Z"
        },
        "trusted": true
      },
      "execution_count": null,
      "outputs": []
    },
    {
      "cell_type": "code",
      "source": [
        "def validate(model): \n",
        "    loss_val = [] \n",
        "    eff = ValueSet(0, 0, 0, 0) \n",
        "    # switch to evaluate mode \n",
        "    model.eval() \n",
        "    with torch.no_grad():\n",
        "        for setID in val_set_idx: \n",
        "          val_set = MyDataset(setID+1) \n",
        "          val_generator = torch.utils.data.DataLoader(val_set,  \n",
        "                                                      batch_size=5000,  \n",
        "                                                      shuffle=True) \n",
        "          for X_val, y_val in val_generator:\n",
        "            # Forward pass \n",
        "            val_outputs = model(X_val) \n",
        "            loss_output = loss_model.forward(val_outputs, y_val) \n",
        "            loss_val.append(loss_output) \n",
        "            for label, output in zip(y_val.cpu().numpy(), val_outputs.cpu().numpy()):\n",
        "                eff += efficiency(label, output, difference = 5.0,  \n",
        "                                  threshold = 1e-2, integral_threshold = 0.2,  \n",
        "                                  min_width = 3) \n",
        "    return sum(loss_val)/len(loss_val), eff.eff_rate, eff.fp_rate"
      ],
      "metadata": {
        "id": "7WnLZKg1uMKf",
        "execution": {
          "iopub.status.busy": "2022-12-03T05:14:02.467511Z",
          "iopub.execute_input": "2022-12-03T05:14:02.467935Z",
          "iopub.status.idle": "2022-12-03T05:14:02.481452Z",
          "shell.execute_reply.started": "2022-12-03T05:14:02.467880Z",
          "shell.execute_reply": "2022-12-03T05:14:02.480126Z"
        },
        "trusted": true
      },
      "execution_count": null,
      "outputs": []
    },
    {
      "cell_type": "code",
      "source": [
        "samp_dim=[10, 20, 25, 35, 45]\n",
        "batch_size=5000\n",
        "val_loss=[]\n",
        "tr_loss=[]\n",
        "c_list=[]\n",
        "for val in range(len(samp_dim)):\n",
        "    model=Conv_Network()\n",
        "    loss_model = Loss(0.00001)\n",
        "    batch_size=256\n",
        "    train_set_idx, val_set_idx = train_test_split(list(range(1,80)), test_size=samp_dim[val])\n",
        "    c_list=train(model, num_epochs=5, seed=random_seed, batch_size=256)\n",
        "    tr_loss.append(float(c_list[-1]))\n",
        "    batch_size=5000\n",
        "    loss_val, eff_rate, fp_rate = validate(model) \n",
        "    print('Validation Loss for Sample size : %d' % samp_dim[val],'is: %0.5f ' % float(loss_val))\n",
        "    val_loss.append(float(loss_val))    "
      ],
      "metadata": {
        "execution": {
          "iopub.status.busy": "2022-12-03T05:14:02.485763Z",
          "iopub.execute_input": "2022-12-03T05:14:02.486437Z",
          "iopub.status.idle": "2022-12-03T06:08:39.081831Z",
          "shell.execute_reply.started": "2022-12-03T05:14:02.486410Z",
          "shell.execute_reply": "2022-12-03T06:08:39.080668Z"
        },
        "trusted": true,
        "id": "OhIuGmnrWDtO",
        "outputId": "2e7b1499-d543-47f8-9085-9260b349d45d"
      },
      "execution_count": null,
      "outputs": [
        {
          "name": "stdout",
          "text": "Validation Loss for Sample size : 10 is: 0.09574 \nValidation Loss for Sample size : 20 is: 0.09591 \nValidation Loss for Sample size : 25 is: 0.09756 \nValidation Loss for Sample size : 35 is: 0.09769 \nValidation Loss for Sample size : 45 is: 0.10828 \n",
          "output_type": "stream"
        }
      ]
    },
    {
      "cell_type": "code",
      "source": [
        "brWid=0.35\n",
        "fig = pl.subplots(figsize =(15,10))\n",
        "b1 = np.arange(5)\n",
        "b2 = [val + brWid for val in b1]\n",
        "\n",
        "pl.bar(b1, tr_loss, color ='m', width = brWid,\n",
        "        edgecolor ='black', label ='Train Loss')\n",
        "pl.bar(b2, val_loss, color ='g', width = brWid,\n",
        "        edgecolor ='black', label ='Validation Loss')\n",
        "\n",
        "pl.title('Loss on \"Training dataset\" and \"Validation dataset\"')\n",
        "pl.xlabel('Sample Size', fontweight ='bold', fontsize = 12)\n",
        "pl.ylabel('Loss', fontweight ='bold', fontsize = 12)\n",
        "pl.xticks([ival + brWid for ival in range(5)],\n",
        "        ['10', '20', '25', '35', '45'])\n",
        "pl.legend()\n",
        "pl.show()\n"
      ],
      "metadata": {
        "execution": {
          "iopub.status.busy": "2022-12-03T06:11:12.976042Z",
          "iopub.execute_input": "2022-12-03T06:11:12.976398Z",
          "iopub.status.idle": "2022-12-03T06:11:13.266181Z",
          "shell.execute_reply.started": "2022-12-03T06:11:12.976369Z",
          "shell.execute_reply": "2022-12-03T06:11:13.265238Z"
        },
        "trusted": true,
        "id": "6LFsByOfWDtP",
        "outputId": "1d03e719-52c5-4f37-eb80-ed468ae455b0"
      },
      "execution_count": null,
      "outputs": [
        {
          "output_type": "display_data",
          "data": {
            "text/plain": "<Figure size 1080x720 with 1 Axes>",
            "image/png": "[encoded data removed]"
          },
          "metadata": {
            "needs_background": "light"
          }
        }
      ]
    }
  ]
}