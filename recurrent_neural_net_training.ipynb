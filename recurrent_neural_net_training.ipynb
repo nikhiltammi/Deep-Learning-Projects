{
  "metadata": {
    "colab": {
      "provenance": []
    },
    "kernelspec": {
      "name": "python3",
      "display_name": "Python 3",
      "language": "python"
    },
    "language_info": {
      "name": "python",
      "version": "3.7.12",
      "mimetype": "text/x-python",
      "codemirror_mode": {
        "name": "ipython",
        "version": 3
      },
      "pygments_lexer": "ipython3",
      "nbconvert_exporter": "python",
      "file_extension": ".py"
    },
    "accelerator": "GPU",
    "gpuClass": "standard"
  },
  "nbformat_minor": 0,
  "nbformat": 4,
  "cells": [
    {
      "cell_type": "code",
      "source": [
        "import torch\n",
        "import numpy as np\n",
        "import time\n",
        "import matplotlib.pyplot as pl"
      ],
      "metadata": {
        "id": "9BpoR1VYQmax",
        "execution": {
          "iopub.status.busy": "2022-12-03T06:02:12.344080Z",
          "iopub.execute_input": "2022-12-03T06:02:12.345008Z",
          "iopub.status.idle": "2022-12-03T06:02:15.994518Z",
          "shell.execute_reply.started": "2022-12-03T06:02:12.344973Z",
          "shell.execute_reply": "2022-12-03T06:02:15.993274Z"
        },
        "trusted": true
      },
      "execution_count": null,
      "outputs": []
    },
    {
      "cell_type": "code",
      "source": [
        "from google.colab import drive\n",
        "drive.mount('/content/drive')"
      ],
      "metadata": {
        "colab": {
          "base_uri": "https://localhost:8080/"
        },
        "id": "yEzT4MOK2Lr7",
        "outputId": "2270b523-5f0b-4634-9b9a-9977c8bf2e05"
      },
      "execution_count": 1,
      "outputs": [
        {
          "output_type": "stream",
          "name": "stdout",
          "text": [
            "Mounted at /content/drive\n"
          ]
        }
      ]
    },
    {
      "cell_type": "code",
      "source": [
        "from project_utilities import efficiency\n",
        "from project_utilities import Loss\n",
        "from project_utilities import ValueSet\n",
        "from sklearn.model_selection import train_test_split\n",
        "train_set_idx, val_set_idx = train_test_split(list(range(1,80)), test_size=20)"
      ],
      "metadata": {
        "id": "TzxFgYZwRTBK",
        "execution": {
          "iopub.status.busy": "2022-12-03T06:02:16.008014Z",
          "iopub.execute_input": "2022-12-03T06:02:16.008526Z",
          "iopub.status.idle": "2022-12-03T06:02:20.413972Z",
          "shell.execute_reply.started": "2022-12-03T06:02:16.008488Z",
          "shell.execute_reply": "2022-12-03T06:02:20.412996Z"
        },
        "trusted": true
      },
      "execution_count": null,
      "outputs": []
    },
    {
      "cell_type": "code",
      "source": [
        "random_seed=156\n",
        "learning_rate=0.001\n",
        "num_epochs=5"
      ],
      "metadata": {
        "id": "gJ9aAb1OBvSV",
        "execution": {
          "iopub.status.busy": "2022-12-03T06:02:20.415639Z",
          "iopub.execute_input": "2022-12-03T06:02:20.416022Z",
          "iopub.status.idle": "2022-12-03T06:02:20.420855Z",
          "shell.execute_reply.started": "2022-12-03T06:02:20.415983Z",
          "shell.execute_reply": "2022-12-03T06:02:20.419838Z"
        },
        "trusted": true
      },
      "execution_count": null,
      "outputs": []
    },
    {
      "cell_type": "code",
      "source": [
        "class MyDataset(torch.utils.data.Dataset): \n",
        "  def __init__(self, setID): \n",
        "        'Initialization' \n",
        "        npz_files_content = np.load(\"./drive/MyDrive/data/Set_\"+str(setID)+\".npz\")  \n",
        "         \n",
        "        self.X_set = torch.tensor(npz_files_content['X'])    \n",
        "        self.y_set = torch.tensor(npz_files_content['y']) \n",
        "  def __len__(self): \n",
        "        'Denotes the total number of samples' \n",
        "        return len(self.y_set) \n",
        "  def __getitem__(self, index): \n",
        "        'Generates one sample of data' \n",
        "        # Select sample \n",
        "        X = self.X_set[index] \n",
        "        y = self.y_set[index] \n",
        "        return X, y"
      ],
      "metadata": {
        "id": "CsFMg0c2Tk4H",
        "execution": {
          "iopub.status.busy": "2022-12-03T06:02:20.544876Z",
          "iopub.execute_input": "2022-12-03T06:02:20.545359Z",
          "iopub.status.idle": "2022-12-03T06:02:20.556106Z",
          "shell.execute_reply.started": "2022-12-03T06:02:20.545317Z",
          "shell.execute_reply": "2022-12-03T06:02:20.555241Z"
        },
        "trusted": true
      },
      "execution_count": null,
      "outputs": []
    },
    {
      "cell_type": "code",
      "source": [
        "class Rec_Neural_Net(torch.nn.Module):\n",
        "    \n",
        "    def __init__(self, input_dim, hidden_dim, output_dim):\n",
        "        super().__init__()\n",
        "       \n",
        "        self.rnn = torch.nn.LSTM(input_dim,\n",
        "                                 hidden_dim)        \n",
        "        \n",
        "        self.fc = torch.nn.Conv2d(hidden_dim, \n",
        "                                  output_dim,\n",
        "                                  kernel_size=3,\n",
        "                                  stride=1,\n",
        "                                  padding=1)\n",
        "        \n",
        "\n",
        "    def forward(self, x):\n",
        "        x=x.view(128,1,16000)\n",
        "        output, _ = self.rnn(x)    \n",
        "        output=output.view(128,256,1,1)\n",
        "        output = self.fc(output)\n",
        "        r=torch.nn.ReLU()\n",
        "        output=r(output)\n",
        "        return output.view(128,4000)\n"
      ],
      "metadata": {
        "id": "qqbLB6hYdFM6",
        "execution": {
          "iopub.status.busy": "2022-12-03T06:02:20.557581Z",
          "iopub.execute_input": "2022-12-03T06:02:20.558146Z",
          "iopub.status.idle": "2022-12-03T06:02:20.567910Z",
          "shell.execute_reply.started": "2022-12-03T06:02:20.558095Z",
          "shell.execute_reply": "2022-12-03T06:02:20.566980Z"
        },
        "trusted": true
      },
      "execution_count": null,
      "outputs": []
    },
    {
      "cell_type": "code",
      "source": [
        "def train(model, num_epochs, \n",
        "          learning_rate=0.01, seed=156, batch_size=128): \n",
        "    cost = [] \n",
        "     \n",
        "    torch.manual_seed(seed) \n",
        "     \n",
        "    optimizer = torch.optim.SGD(model.parameters(), lr=learning_rate) \n",
        "     \n",
        "    for e in range(1,num_epochs): \n",
        "      batch_num = 0 \n",
        "      for setID in train_set_idx: \n",
        "          train_set = MyDataset(setID+1) \n",
        "          train_generator = torch.utils.data.DataLoader(train_set,  \n",
        "                                                        batch_size=batch_size,  \n",
        "                                                        shuffle=True,drop_last=True) \n",
        "          for X_train, y_train in train_generator:\n",
        "            batch_num = batch_num + 1 \n",
        "            #### Compute outputs #### \n",
        "            yhat = model(X_train) \n",
        "            loss = loss_model.forward(yhat, y_train) \n",
        "            #### Reset gradients from previous iteration #### \n",
        "            optimizer.zero_grad() \n",
        "             \n",
        "            #### Compute gradients #### \n",
        "            loss.backward() \n",
        "             \n",
        "            #### Update weights #### \n",
        "            optimizer.step() \n",
        "            #### Logging #### \n",
        "            with torch.no_grad(): \n",
        "                yhat = model.forward(X_train) \n",
        "                curr_loss = loss_model.forward(yhat, y_train) \n",
        "                cost.append(curr_loss) \n",
        "    return cost"
      ],
      "metadata": {
        "id": "HLI5yB4Yr0qS",
        "execution": {
          "iopub.status.busy": "2022-12-03T06:02:20.569374Z",
          "iopub.execute_input": "2022-12-03T06:02:20.569726Z",
          "iopub.status.idle": "2022-12-03T06:02:20.580086Z",
          "shell.execute_reply.started": "2022-12-03T06:02:20.569693Z",
          "shell.execute_reply": "2022-12-03T06:02:20.578972Z"
        },
        "trusted": true
      },
      "execution_count": null,
      "outputs": []
    },
    {
      "cell_type": "code",
      "source": [
        "def validate(model): \n",
        "    loss_val = [] \n",
        "    eff = ValueSet(0, 0, 0, 0) \n",
        "    # switch to evaluate mode \n",
        "    model.eval() \n",
        "    with torch.no_grad():\n",
        "        for setID in val_set_idx: \n",
        "          val_set = MyDataset(setID+1) \n",
        "          val_generator = torch.utils.data.DataLoader(val_set,  \n",
        "                                                      batch_size=128,  \n",
        "                                                      shuffle=True,drop_last=True) \n",
        "          for X_val, y_val in val_generator: \n",
        "            # Forward pass \n",
        "            val_outputs = model(X_val) \n",
        "            loss_output = loss_model.forward(val_outputs, y_val) \n",
        "            loss_val.append(loss_output) \n",
        "            for label, output in zip(y_val.cpu().numpy(), val_outputs.cpu().numpy()):\n",
        "                eff += efficiency(label, output, difference = 5.0,  \n",
        "                                  threshold = 1e-2, integral_threshold = 0.2,  \n",
        "                                  min_width = 3) \n",
        "    return sum(loss_val)/len(loss_val), eff.eff_rate, eff.fp_rate"
      ],
      "metadata": {
        "id": "7WnLZKg1uMKf",
        "execution": {
          "iopub.status.busy": "2022-12-03T06:02:20.581567Z",
          "iopub.execute_input": "2022-12-03T06:02:20.582907Z",
          "iopub.status.idle": "2022-12-03T06:02:20.592256Z",
          "shell.execute_reply.started": "2022-12-03T06:02:20.582879Z",
          "shell.execute_reply": "2022-12-03T06:02:20.591600Z"
        },
        "trusted": true
      },
      "execution_count": null,
      "outputs": []
    },
    {
      "cell_type": "code",
      "source": [
        "samp_dim=[10, 20, 25, 35, 45]\n",
        "val_loss=[]\n",
        "tr_loss=[]\n",
        "c_list=[]\n",
        "for val in range(len(samp_dim)):\n",
        "    model = Rec_Neural_Net(input_dim=4*4000,\n",
        "                           hidden_dim=256,\n",
        "                           output_dim=4000)\n",
        "    loss_model = Loss(0.00001)\n",
        "    batch_size=128\n",
        "    train_set_idx, val_set_idx = train_test_split(list(range(1,80)), test_size=samp_dim[val])\n",
        "    c_list=train(model, num_epochs=5, seed=random_seed, batch_size=128)\n",
        "    tr_loss.append(float(c_list[-1]))\n",
        "    batch_size=128\n",
        "    loss_val, eff_rate, fp_rate = validate(model)\n",
        "    print('Training Loss for Sample size : %d ' % samp_dim[val],'is: %0.5f ' % float(c_list[-1]))\n",
        "    print('Validation Loss for Sample size : %d' % samp_dim[val],'is: %0.5f ' % float(loss_val))\n",
        "    val_loss.append(float(loss_val))  "
      ],
      "metadata": {
        "execution": {
          "iopub.status.busy": "2022-12-03T06:02:20.593575Z",
          "iopub.execute_input": "2022-12-03T06:02:20.594568Z",
          "iopub.status.idle": "2022-12-03T06:58:49.687403Z",
          "shell.execute_reply.started": "2022-12-03T06:02:20.594532Z",
          "shell.execute_reply": "2022-12-03T06:58:49.686329Z"
        },
        "trusted": true,
        "id": "dMxRPy8Slxqg",
        "outputId": "2027b9d1-d5c1-4c21-cb84-5d71b58e9014"
      },
      "execution_count": null,
      "outputs": [
        {
          "name": "stdout",
          "text": "Training Loss for Sample size : 10  is: 0.09587 \nValidation Loss for Sample size : 10 is: 0.09604 \nTraining Loss for Sample size : 20  is: 0.09762 \nValidation Loss for Sample size : 20 is: 0.09606 \nTraining Loss for Sample size : 25  is: 0.09979 \nValidation Loss for Sample size : 25 is: 0.09607 \nTraining Loss for Sample size : 35  is: 0.09867 \nValidation Loss for Sample size : 35 is: 0.09611 \nTraining Loss for Sample size : 45  is: 0.09699 \nValidation Loss for Sample size : 45 is: 0.09624 \n",
          "output_type": "stream"
        }
      ]
    },
    {
      "cell_type": "code",
      "source": [
        "brWid=0.35\n",
        "fig = pl.subplots(figsize =(15,10))\n",
        "b1 = np.arange(5)\n",
        "b2 = [val + brWid for val in b1]\n",
        "\n",
        "pl.bar(b1, tr_loss, color ='m', width = brWid,\n",
        "        edgecolor ='black', label ='Train Loss')\n",
        "pl.bar(b2, val_loss, color ='g', width = brWid,\n",
        "        edgecolor ='black', label ='Validation Loss')\n",
        "\n",
        "pl.title('Loss on \"Training dataset\" and \"Validation dataset\"')\n",
        "pl.xlabel('Sample Size', fontweight ='bold', fontsize = 12)\n",
        "pl.ylabel('Loss', fontweight ='bold', fontsize = 12)\n",
        "pl.xticks([ival + brWid for ival in range(5)],\n",
        "        ['10', '20', '25', '35', '45'])\n",
        "pl.legend()\n",
        "pl.show()\n"
      ],
      "metadata": {
        "execution": {
          "iopub.status.busy": "2022-12-03T07:03:38.261118Z",
          "iopub.execute_input": "2022-12-03T07:03:38.261548Z",
          "iopub.status.idle": "2022-12-03T07:03:38.618852Z",
          "shell.execute_reply.started": "2022-12-03T07:03:38.261512Z",
          "shell.execute_reply": "2022-12-03T07:03:38.617848Z"
        },
        "trusted": true,
        "id": "wSioBXqhlxqh",
        "outputId": "06bbd949-5c2e-44ad-b64c-27a6c76f6bcd"
      },
      "execution_count": null,
      "outputs": [
        {
          "output_type": "display_data",
          "data": {
            "text/plain": "<Figure size 1080x720 with 1 Axes>",
            "image/png": "[encoded data removed]"
          },
          "metadata": {
            "needs_background": "light"
          }
        }
      ]
    }
  ]
}