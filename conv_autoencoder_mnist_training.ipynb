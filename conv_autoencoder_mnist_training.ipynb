{
  "cells": [
    {
      "cell_type": "markdown",
      "metadata": {
        "id": "DR9YpfzgD061"
      },
      "source": [
        "# Convolutional Autoencoder"
      ]
    },
    {
      "cell_type": "markdown",
      "metadata": {
        "id": "MkoGLH_Tj5wn"
      },
      "source": [
        "## Imports"
      ]
    },
    {
      "cell_type": "code",
      "execution_count": null,
      "metadata": {
        "id": "ORj09gnrj5wp"
      },
      "outputs": [],
      "source": [
        "import torch\n",
        "import torch.nn as nn\n",
        "import matplotlib.pyplot as plt"
      ]
    },
    {
      "cell_type": "code",
      "source": [
        "%env CUBLAS_WORKSPACE_CONFIG=:4096:8"
      ],
      "metadata": {
        "colab": {
          "base_uri": "https://localhost:8080/"
        },
        "id": "GZF8OTdSAmNN",
        "outputId": "6ed2afd4-cd5a-4544-e72c-f970923b8856"
      },
      "execution_count": null,
      "outputs": [
        {
          "output_type": "stream",
          "name": "stdout",
          "text": [
            "env: CUBLAS_WORKSPACE_CONFIG=:4096:8\n"
          ]
        }
      ]
    },
    {
      "cell_type": "markdown",
      "metadata": {
        "id": "JnJpJ_RrD065"
      },
      "source": [
        "#### Import utility functions"
      ]
    },
    {
      "cell_type": "code",
      "execution_count": null,
      "metadata": {
        "id": "xIv3ZGrZD065"
      },
      "outputs": [],
      "source": [
        "from helper_data import get_dataloaders_mnist\n",
        "from helper_train import train_autoencoder_v1\n",
        "from helper_utils import set_deterministic, set_all_seeds\n",
        "from helper_plotting import plot_training_loss\n",
        "from helper_plotting import plot_generated_images\n",
        "from helper_plotting import plot_latent_space_with_labels"
      ]
    },
    {
      "cell_type": "code",
      "execution_count": null,
      "metadata": {
        "colab": {
          "base_uri": "https://localhost:8080/"
        },
        "id": "NnT0sZIwj5wu",
        "outputId": "3173a595-beb0-449f-dda2-43d7424977d9"
      },
      "outputs": [
        {
          "output_type": "stream",
          "name": "stdout",
          "text": [
            "Device: cuda:0\n"
          ]
        }
      ],
      "source": [
        "##########################\n",
        "### SETTINGS\n",
        "##########################\n",
        "\n",
        "# Device\n",
        "CUDA_DEVICE_NUM = 0\n",
        "DEVICE = torch.device(f'cuda:{CUDA_DEVICE_NUM}' if torch.cuda.is_available() else 'cpu')\n",
        "print('Device:', DEVICE)\n",
        "\n",
        "# Hyperparameters\n",
        "RANDOM_SEED = 123\n",
        "LEARNING_RATE = 0.0005\n",
        "BATCH_SIZE = 32\n",
        "NUM_EPOCHS = 20"
      ]
    },
    {
      "cell_type": "code",
      "execution_count": null,
      "metadata": {
        "id": "3BRioVYoD067"
      },
      "outputs": [],
      "source": [
        "set_deterministic\n",
        "set_all_seeds(RANDOM_SEED)"
      ]
    },
    {
      "cell_type": "markdown",
      "metadata": {
        "id": "eKaNR0kxD067"
      },
      "source": [
        "## Dataset"
      ]
    },
    {
      "cell_type": "code",
      "execution_count": null,
      "metadata": {
        "id": "JLNpg1PvD068",
        "colab": {
          "base_uri": "https://localhost:8080/",
          "height": 423,
          "referenced_widgets": [
            "93101aa2e05f4965bad9296ca76778c2",
            "4c0b475e43814892bd53b28f79372a64",
            "df3598c87a114072bda12a1d55f3de61",
            "9e0a8e47e64b407194f809c26003f29e",
            "592d93c80b2c4081b9dea9f1650584b1",
            "d21b68c6e7f54b5a8397e8688b577848",
            "9ec5b8e20cea4b12b4cffb3eb5ca22e2",
            "da3ba181febf468097846d4dd81836f4",
            "1b10c017f6ef45f59de85cf724b2469d",
            "2b950ad1a57d45b2b93894ed08a2a5ec",
            "034cbb2905f34e01962682880289d023",
            "7f5fc1c569674fd5923dae5df80854ab",
            "12cde798bf444d3695523b3ebff9fa20",
            "25cf1671a828429fbe1e45666f13837a",
            "a3468444fd72455a94ddefb2e99e2645",
            "0815b215adbb4fb4a89f1140df91cb72",
            "8f58ebb6b903482787237342d921255b",
            "e0e3efe20b1f4fd4bafca54ff5d54f45",
            "6ed9389342f74099aa795cf9a7da4070",
            "107b557898c54ac4a3f82de17b8f20ca",
            "9fad0b06515c4fcd8f19d6857d8f14b5",
            "df6eff2ab616441e808aa6206e66d3c5",
            "bdedec15c555464ba33016bb086afdb4",
            "27e0dd46bbb045a4b7a8847f51a89802",
            "19a56533d62940acbb89725043d27599",
            "5378a7c22d2c418780928259d6e6f128",
            "f9bcd30dcec34ed3af755a68e4e83070",
            "7d3b78e8970f44db8c3383a54df85bae",
            "600b9e9f6a6842b09d85d96603c248d3",
            "3add1ff55d3b48ca89f99a0f9a7d9f80",
            "b035c8bfca5d41afa2cd9fabd2e6506f",
            "1ebfedac839a435e9494036a63425a57",
            "3b76a4a1361444a79dc32c7bfcefb414",
            "1e0ec5105ce743ff89fa22085092bb6e",
            "9981d798a6ff496fb04d958bd94aaadd",
            "45e9ed5fad4e4fd8b36964d45ad707af",
            "b4bef65b4c8c4496bd4ac6b2e70d667d",
            "e1ea49aa5bb343c993386b27165b6391",
            "f66c3c64b05c4cf29a4db22080cda13c",
            "46b87c90f7c74c4582ea2537949fc412",
            "a7ce449b5091401887b476ea37d69baa",
            "6c16ed6a077f4c238e027bdaded39735",
            "32103daaf30e4f7785ffcc1660a22dd3",
            "fca645e7fdd346959607e74e7ddb1815"
          ]
        },
        "outputId": "23a0fee6-e66a-475a-f9d1-0e073b22fd25"
      },
      "outputs": [
        {
          "output_type": "stream",
          "name": "stdout",
          "text": [
            "Downloading http://yann.lecun.com/exdb/mnist/train-images-idx3-ubyte.gz\n",
            "Downloading http://yann.lecun.com/exdb/mnist/train-images-idx3-ubyte.gz to data/MNIST/raw/train-images-idx3-ubyte.gz\n"
          ]
        },
        {
          "output_type": "display_data",
          "data": {
            "text/plain": [
              "  0%|          | 0/9912422 [00:00<?, ?it/s]"
            ],
            "application/vnd.jupyter.widget-view+json": {
              "version_major": 2,
              "version_minor": 0,
              "model_id": "93101aa2e05f4965bad9296ca76778c2"
            }
          },
          "metadata": {}
        },
        {
          "output_type": "stream",
          "name": "stdout",
          "text": [
            "Extracting data/MNIST/raw/train-images-idx3-ubyte.gz to data/MNIST/raw\n",
            "\n",
            "Downloading http://yann.lecun.com/exdb/mnist/train-labels-idx1-ubyte.gz\n",
            "Downloading http://yann.lecun.com/exdb/mnist/train-labels-idx1-ubyte.gz to data/MNIST/raw/train-labels-idx1-ubyte.gz\n"
          ]
        },
        {
          "output_type": "display_data",
          "data": {
            "text/plain": [
              "  0%|          | 0/28881 [00:00<?, ?it/s]"
            ],
            "application/vnd.jupyter.widget-view+json": {
              "version_major": 2,
              "version_minor": 0,
              "model_id": "7f5fc1c569674fd5923dae5df80854ab"
            }
          },
          "metadata": {}
        },
        {
          "output_type": "stream",
          "name": "stdout",
          "text": [
            "Extracting data/MNIST/raw/train-labels-idx1-ubyte.gz to data/MNIST/raw\n",
            "\n",
            "Downloading http://yann.lecun.com/exdb/mnist/t10k-images-idx3-ubyte.gz\n",
            "Downloading http://yann.lecun.com/exdb/mnist/t10k-images-idx3-ubyte.gz to data/MNIST/raw/t10k-images-idx3-ubyte.gz\n"
          ]
        },
        {
          "output_type": "display_data",
          "data": {
            "text/plain": [
              "  0%|          | 0/1648877 [00:00<?, ?it/s]"
            ],
            "application/vnd.jupyter.widget-view+json": {
              "version_major": 2,
              "version_minor": 0,
              "model_id": "bdedec15c555464ba33016bb086afdb4"
            }
          },
          "metadata": {}
        },
        {
          "output_type": "stream",
          "name": "stdout",
          "text": [
            "Extracting data/MNIST/raw/t10k-images-idx3-ubyte.gz to data/MNIST/raw\n",
            "\n",
            "Downloading http://yann.lecun.com/exdb/mnist/t10k-labels-idx1-ubyte.gz\n",
            "Downloading http://yann.lecun.com/exdb/mnist/t10k-labels-idx1-ubyte.gz to data/MNIST/raw/t10k-labels-idx1-ubyte.gz\n"
          ]
        },
        {
          "output_type": "display_data",
          "data": {
            "text/plain": [
              "  0%|          | 0/4542 [00:00<?, ?it/s]"
            ],
            "application/vnd.jupyter.widget-view+json": {
              "version_major": 2,
              "version_minor": 0,
              "model_id": "1e0ec5105ce743ff89fa22085092bb6e"
            }
          },
          "metadata": {}
        },
        {
          "output_type": "stream",
          "name": "stdout",
          "text": [
            "Extracting data/MNIST/raw/t10k-labels-idx1-ubyte.gz to data/MNIST/raw\n",
            "\n"
          ]
        }
      ],
      "source": [
        "##########################\n",
        "### Dataset\n",
        "##########################\n",
        "\n",
        "train_loader, valid_loader, test_loader = get_dataloaders_mnist(\n",
        "    batch_size=BATCH_SIZE,\n",
        "    num_workers=2,\n",
        "    validation_fraction=0.)"
      ]
    },
    {
      "cell_type": "code",
      "execution_count": null,
      "metadata": {
        "colab": {
          "base_uri": "https://localhost:8080/"
        },
        "id": "sMuNc7ebD068",
        "outputId": "e1c47a41-d71d-464c-f337-ede913142f87"
      },
      "outputs": [
        {
          "output_type": "stream",
          "name": "stdout",
          "text": [
            "Training Set:\n",
            "\n",
            "Image batch dimensions: torch.Size([32, 1, 28, 28])\n",
            "Image label dimensions: torch.Size([32])\n",
            "tensor([1, 2, 1, 9, 0, 6, 9, 8, 0, 1])\n",
            "\n",
            "Validation Set:\n",
            "\n",
            "Testing Set:\n",
            "Image batch dimensions: torch.Size([32, 1, 28, 28])\n",
            "Image label dimensions: torch.Size([32])\n",
            "tensor([7, 2, 1, 0, 4, 1, 4, 9, 5, 9])\n"
          ]
        }
      ],
      "source": [
        "# Checking the dataset\n",
        "print('Training Set:\\n')\n",
        "for images, labels in train_loader:\n",
        "    print('Image batch dimensions:', images.size())\n",
        "    print('Image label dimensions:', labels.size())\n",
        "    print(labels[:10])\n",
        "    break\n",
        "\n",
        "# Checking the dataset\n",
        "print('\\nValidation Set:')\n",
        "for images, labels in valid_loader:\n",
        "    print('Image batch dimensions:', images.size())\n",
        "    print('Image label dimensions:', labels.size())\n",
        "    print(labels[:10])\n",
        "    break\n",
        "\n",
        "# Checking the dataset\n",
        "print('\\nTesting Set:')\n",
        "for images, labels in test_loader:\n",
        "    print('Image batch dimensions:', images.size())\n",
        "    print('Image label dimensions:', labels.size())\n",
        "    print(labels[:10])\n",
        "    break"
      ]
    },
    {
      "cell_type": "markdown",
      "metadata": {
        "id": "LS6GVthhD069"
      },
      "source": [
        "## Model"
      ]
    },
    {
      "cell_type": "code",
      "execution_count": null,
      "metadata": {
        "id": "b4O96GgoD069"
      },
      "outputs": [],
      "source": [
        "##########################\n",
        "### MODEL\n",
        "##########################\n",
        "\n",
        "\n",
        "class Reshape(nn.Module):\n",
        "    def __init__(self, *args):\n",
        "        super().__init__()\n",
        "        self.shape = args\n",
        "\n",
        "    def forward(self, x):\n",
        "        return x.view(self.shape)\n",
        "\n",
        "\n",
        "class Trim(nn.Module):\n",
        "    def __init__(self, *args):\n",
        "        super().__init__()\n",
        "\n",
        "    def forward(self, x):\n",
        "        return x[:, :, :28, :28]\n",
        "\n",
        "\n",
        "class AutoEncoder(nn.Module):\n",
        "    def __init__(self):\n",
        "        super().__init__()\n",
        "\n",
        "        self.encoder = nn.Sequential( #784\n",
        "                nn.Conv2d(1, 32, stride=(1, 1), kernel_size=(3, 3), padding=1),\n",
        "                nn.LeakyReLU(0.01),\n",
        "                nn.Conv2d(32, 64, stride=(2, 2), kernel_size=(3, 3), padding=1),\n",
        "                nn.LeakyReLU(0.01),\n",
        "                nn.Conv2d(64, 64, stride=(2, 2), kernel_size=(3, 3), padding=1),\n",
        "                nn.LeakyReLU(0.01),\n",
        "                nn.Dropout2d(p=0.5),\n",
        "                nn.Conv2d(64, 64, stride=(1, 1), kernel_size=(3, 3), padding=1),\n",
        "                nn.Flatten(),\n",
        "                nn.Linear(3136, 6)\n",
        "        )\n",
        "        self.decoder = nn.Sequential(\n",
        "                torch.nn.Linear(6, 3136),\n",
        "                Reshape(-1, 64, 7, 7),\n",
        "                nn.ConvTranspose2d(64, 64, stride=(1, 1), kernel_size=(3, 3), padding=1),\n",
        "                nn.LeakyReLU(0.01),\n",
        "                nn.Dropout2d(p=0.5),\n",
        "                nn.ConvTranspose2d(64, 64, stride=(2, 2), kernel_size=(3, 3), padding=1),\n",
        "                nn.LeakyReLU(0.01),\n",
        "                nn.ConvTranspose2d(64, 32, stride=(2, 2), kernel_size=(3, 3), padding=0),\n",
        "                nn.LeakyReLU(0.01),\n",
        "                nn.ConvTranspose2d(32, 1, stride=(1, 1), kernel_size=(3, 3), padding=0),\n",
        "                Trim(),  # 1x29x29 -> 1x28x28\n",
        "                nn.Sigmoid()\n",
        "                )\n",
        "\n",
        "    def forward(self, x):\n",
        "        x = self.encoder(x)\n",
        "        x = self.decoder(x)\n",
        "        return x"
      ]
    },
    {
      "cell_type": "code",
      "execution_count": null,
      "metadata": {
        "id": "_lza9t_uj5w1"
      },
      "outputs": [],
      "source": [
        "set_all_seeds(RANDOM_SEED)\n",
        "\n",
        "model = AutoEncoder()\n",
        "model.to(DEVICE)\n",
        "\n",
        "optimizer = torch.optim.Adam(model.parameters(), lr=LEARNING_RATE)"
      ]
    },
    {
      "cell_type": "markdown",
      "metadata": {
        "id": "RAodboScj5w6"
      },
      "source": [
        "## Training"
      ]
    },
    {
      "cell_type": "code",
      "execution_count": null,
      "metadata": {
        "colab": {
          "base_uri": "https://localhost:8080/"
        },
        "id": "Dzh3ROmRj5w7",
        "outputId": "6b74895a-b626-4af1-df8c-2e9927316cbd"
      },
      "outputs": [
        {
          "output_type": "stream",
          "name": "stdout",
          "text": [
            "Epoch: 001/020 | Batch 0000/1875 | Loss: 0.2466\n",
            "Epoch: 001/020 | Batch 0250/1875 | Loss: 0.0535\n",
            "Epoch: 001/020 | Batch 0500/1875 | Loss: 0.0432\n",
            "Epoch: 001/020 | Batch 0750/1875 | Loss: 0.0378\n",
            "Epoch: 001/020 | Batch 1000/1875 | Loss: 0.0328\n",
            "Epoch: 001/020 | Batch 1250/1875 | Loss: 0.0323\n",
            "Epoch: 001/020 | Batch 1500/1875 | Loss: 0.0308\n",
            "Epoch: 001/020 | Batch 1750/1875 | Loss: 0.0325\n",
            "Time elapsed: 0.84 min\n",
            "Epoch: 002/020 | Batch 0000/1875 | Loss: 0.0342\n",
            "Epoch: 002/020 | Batch 0250/1875 | Loss: 0.0305\n",
            "Epoch: 002/020 | Batch 0500/1875 | Loss: 0.0293\n",
            "Epoch: 002/020 | Batch 0750/1875 | Loss: 0.0325\n",
            "Epoch: 002/020 | Batch 1000/1875 | Loss: 0.0302\n",
            "Epoch: 002/020 | Batch 1250/1875 | Loss: 0.0301\n",
            "Epoch: 002/020 | Batch 1500/1875 | Loss: 0.0320\n",
            "Epoch: 002/020 | Batch 1750/1875 | Loss: 0.0327\n",
            "Time elapsed: 1.60 min\n",
            "Epoch: 003/020 | Batch 0000/1875 | Loss: 0.0299\n",
            "Epoch: 003/020 | Batch 0250/1875 | Loss: 0.0309\n",
            "Epoch: 003/020 | Batch 0500/1875 | Loss: 0.0275\n",
            "Epoch: 003/020 | Batch 0750/1875 | Loss: 0.0274\n",
            "Epoch: 003/020 | Batch 1000/1875 | Loss: 0.0310\n",
            "Epoch: 003/020 | Batch 1250/1875 | Loss: 0.0278\n",
            "Epoch: 003/020 | Batch 1500/1875 | Loss: 0.0274\n",
            "Epoch: 003/020 | Batch 1750/1875 | Loss: 0.0272\n",
            "Time elapsed: 2.33 min\n",
            "Epoch: 004/020 | Batch 0000/1875 | Loss: 0.0310\n",
            "Epoch: 004/020 | Batch 0250/1875 | Loss: 0.0286\n",
            "Epoch: 004/020 | Batch 0500/1875 | Loss: 0.0254\n",
            "Epoch: 004/020 | Batch 0750/1875 | Loss: 0.0296\n",
            "Epoch: 004/020 | Batch 1000/1875 | Loss: 0.0308\n",
            "Epoch: 004/020 | Batch 1250/1875 | Loss: 0.0275\n",
            "Epoch: 004/020 | Batch 1500/1875 | Loss: 0.0273\n",
            "Epoch: 004/020 | Batch 1750/1875 | Loss: 0.0272\n",
            "Time elapsed: 3.06 min\n",
            "Epoch: 005/020 | Batch 0000/1875 | Loss: 0.0305\n",
            "Epoch: 005/020 | Batch 0250/1875 | Loss: 0.0283\n",
            "Epoch: 005/020 | Batch 0500/1875 | Loss: 0.0298\n",
            "Epoch: 005/020 | Batch 0750/1875 | Loss: 0.0328\n",
            "Epoch: 005/020 | Batch 1000/1875 | Loss: 0.0265\n",
            "Epoch: 005/020 | Batch 1250/1875 | Loss: 0.0267\n",
            "Epoch: 005/020 | Batch 1500/1875 | Loss: 0.0278\n",
            "Epoch: 005/020 | Batch 1750/1875 | Loss: 0.0254\n",
            "Time elapsed: 3.78 min\n",
            "Epoch: 006/020 | Batch 0000/1875 | Loss: 0.0230\n",
            "Epoch: 006/020 | Batch 0250/1875 | Loss: 0.0264\n",
            "Epoch: 006/020 | Batch 0500/1875 | Loss: 0.0281\n",
            "Epoch: 006/020 | Batch 0750/1875 | Loss: 0.0282\n",
            "Epoch: 006/020 | Batch 1000/1875 | Loss: 0.0258\n",
            "Epoch: 006/020 | Batch 1250/1875 | Loss: 0.0307\n",
            "Epoch: 006/020 | Batch 1500/1875 | Loss: 0.0266\n",
            "Epoch: 006/020 | Batch 1750/1875 | Loss: 0.0304\n",
            "Time elapsed: 4.51 min\n",
            "Epoch: 007/020 | Batch 0000/1875 | Loss: 0.0286\n",
            "Epoch: 007/020 | Batch 0250/1875 | Loss: 0.0314\n",
            "Epoch: 007/020 | Batch 0500/1875 | Loss: 0.0236\n",
            "Epoch: 007/020 | Batch 0750/1875 | Loss: 0.0308\n",
            "Epoch: 007/020 | Batch 1000/1875 | Loss: 0.0271\n",
            "Epoch: 007/020 | Batch 1250/1875 | Loss: 0.0237\n",
            "Epoch: 007/020 | Batch 1500/1875 | Loss: 0.0300\n",
            "Epoch: 007/020 | Batch 1750/1875 | Loss: 0.0249\n",
            "Time elapsed: 5.24 min\n",
            "Epoch: 008/020 | Batch 0000/1875 | Loss: 0.0290\n",
            "Epoch: 008/020 | Batch 0250/1875 | Loss: 0.0294\n",
            "Epoch: 008/020 | Batch 0500/1875 | Loss: 0.0300\n",
            "Epoch: 008/020 | Batch 0750/1875 | Loss: 0.0274\n",
            "Epoch: 008/020 | Batch 1000/1875 | Loss: 0.0283\n",
            "Epoch: 008/020 | Batch 1250/1875 | Loss: 0.0328\n",
            "Epoch: 008/020 | Batch 1500/1875 | Loss: 0.0246\n",
            "Epoch: 008/020 | Batch 1750/1875 | Loss: 0.0276\n",
            "Time elapsed: 6.00 min\n",
            "Epoch: 009/020 | Batch 0000/1875 | Loss: 0.0261\n",
            "Epoch: 009/020 | Batch 0250/1875 | Loss: 0.0235\n",
            "Epoch: 009/020 | Batch 0500/1875 | Loss: 0.0245\n",
            "Epoch: 009/020 | Batch 0750/1875 | Loss: 0.0260\n",
            "Epoch: 009/020 | Batch 1000/1875 | Loss: 0.0274\n",
            "Epoch: 009/020 | Batch 1250/1875 | Loss: 0.0281\n",
            "Epoch: 009/020 | Batch 1500/1875 | Loss: 0.0282\n",
            "Epoch: 009/020 | Batch 1750/1875 | Loss: 0.0269\n",
            "Time elapsed: 6.72 min\n",
            "Epoch: 010/020 | Batch 0000/1875 | Loss: 0.0319\n",
            "Epoch: 010/020 | Batch 0250/1875 | Loss: 0.0277\n",
            "Epoch: 010/020 | Batch 0500/1875 | Loss: 0.0254\n",
            "Epoch: 010/020 | Batch 0750/1875 | Loss: 0.0233\n",
            "Epoch: 010/020 | Batch 1000/1875 | Loss: 0.0275\n",
            "Epoch: 010/020 | Batch 1250/1875 | Loss: 0.0266\n",
            "Epoch: 010/020 | Batch 1500/1875 | Loss: 0.0262\n",
            "Epoch: 010/020 | Batch 1750/1875 | Loss: 0.0237\n",
            "Time elapsed: 7.46 min\n",
            "Epoch: 011/020 | Batch 0000/1875 | Loss: 0.0231\n",
            "Epoch: 011/020 | Batch 0250/1875 | Loss: 0.0232\n",
            "Epoch: 011/020 | Batch 0500/1875 | Loss: 0.0260\n",
            "Epoch: 011/020 | Batch 0750/1875 | Loss: 0.0309\n",
            "Epoch: 011/020 | Batch 1000/1875 | Loss: 0.0277\n",
            "Epoch: 011/020 | Batch 1250/1875 | Loss: 0.0284\n",
            "Epoch: 011/020 | Batch 1500/1875 | Loss: 0.0226\n",
            "Epoch: 011/020 | Batch 1750/1875 | Loss: 0.0222\n",
            "Time elapsed: 8.18 min\n",
            "Epoch: 012/020 | Batch 0000/1875 | Loss: 0.0270\n",
            "Epoch: 012/020 | Batch 0250/1875 | Loss: 0.0288\n",
            "Epoch: 012/020 | Batch 0500/1875 | Loss: 0.0262\n",
            "Epoch: 012/020 | Batch 0750/1875 | Loss: 0.0259\n",
            "Epoch: 012/020 | Batch 1000/1875 | Loss: 0.0281\n",
            "Epoch: 012/020 | Batch 1250/1875 | Loss: 0.0237\n",
            "Epoch: 012/020 | Batch 1500/1875 | Loss: 0.0226\n",
            "Epoch: 012/020 | Batch 1750/1875 | Loss: 0.0269\n",
            "Time elapsed: 8.91 min\n",
            "Epoch: 013/020 | Batch 0000/1875 | Loss: 0.0251\n",
            "Epoch: 013/020 | Batch 0250/1875 | Loss: 0.0293\n",
            "Epoch: 013/020 | Batch 0500/1875 | Loss: 0.0275\n",
            "Epoch: 013/020 | Batch 0750/1875 | Loss: 0.0250\n",
            "Epoch: 013/020 | Batch 1000/1875 | Loss: 0.0267\n",
            "Epoch: 013/020 | Batch 1250/1875 | Loss: 0.0259\n",
            "Epoch: 013/020 | Batch 1500/1875 | Loss: 0.0246\n",
            "Epoch: 013/020 | Batch 1750/1875 | Loss: 0.0256\n",
            "Time elapsed: 9.64 min\n",
            "Epoch: 014/020 | Batch 0000/1875 | Loss: 0.0254\n",
            "Epoch: 014/020 | Batch 0250/1875 | Loss: 0.0278\n",
            "Epoch: 014/020 | Batch 0500/1875 | Loss: 0.0278\n",
            "Epoch: 014/020 | Batch 0750/1875 | Loss: 0.0296\n",
            "Epoch: 014/020 | Batch 1000/1875 | Loss: 0.0292\n",
            "Epoch: 014/020 | Batch 1250/1875 | Loss: 0.0268\n",
            "Epoch: 014/020 | Batch 1500/1875 | Loss: 0.0249\n",
            "Epoch: 014/020 | Batch 1750/1875 | Loss: 0.0243\n",
            "Time elapsed: 10.39 min\n",
            "Epoch: 015/020 | Batch 0000/1875 | Loss: 0.0266\n",
            "Epoch: 015/020 | Batch 0250/1875 | Loss: 0.0272\n",
            "Epoch: 015/020 | Batch 0500/1875 | Loss: 0.0213\n",
            "Epoch: 015/020 | Batch 0750/1875 | Loss: 0.0270\n",
            "Epoch: 015/020 | Batch 1000/1875 | Loss: 0.0282\n",
            "Epoch: 015/020 | Batch 1250/1875 | Loss: 0.0272\n",
            "Epoch: 015/020 | Batch 1500/1875 | Loss: 0.0248\n",
            "Epoch: 015/020 | Batch 1750/1875 | Loss: 0.0281\n",
            "Time elapsed: 11.12 min\n",
            "Epoch: 016/020 | Batch 0000/1875 | Loss: 0.0284\n",
            "Epoch: 016/020 | Batch 0250/1875 | Loss: 0.0234\n",
            "Epoch: 016/020 | Batch 0500/1875 | Loss: 0.0240\n",
            "Epoch: 016/020 | Batch 0750/1875 | Loss: 0.0290\n",
            "Epoch: 016/020 | Batch 1000/1875 | Loss: 0.0241\n",
            "Epoch: 016/020 | Batch 1250/1875 | Loss: 0.0281\n",
            "Epoch: 016/020 | Batch 1500/1875 | Loss: 0.0260\n",
            "Epoch: 016/020 | Batch 1750/1875 | Loss: 0.0259\n",
            "Time elapsed: 11.85 min\n",
            "Epoch: 017/020 | Batch 0000/1875 | Loss: 0.0245\n",
            "Epoch: 017/020 | Batch 0250/1875 | Loss: 0.0277\n",
            "Epoch: 017/020 | Batch 0500/1875 | Loss: 0.0240\n",
            "Epoch: 017/020 | Batch 0750/1875 | Loss: 0.0259\n",
            "Epoch: 017/020 | Batch 1000/1875 | Loss: 0.0318\n",
            "Epoch: 017/020 | Batch 1250/1875 | Loss: 0.0256\n",
            "Epoch: 017/020 | Batch 1500/1875 | Loss: 0.0247\n",
            "Epoch: 017/020 | Batch 1750/1875 | Loss: 0.0301\n",
            "Time elapsed: 12.57 min\n",
            "Epoch: 018/020 | Batch 0000/1875 | Loss: 0.0234\n",
            "Epoch: 018/020 | Batch 0250/1875 | Loss: 0.0268\n",
            "Epoch: 018/020 | Batch 0500/1875 | Loss: 0.0241\n",
            "Epoch: 018/020 | Batch 0750/1875 | Loss: 0.0243\n",
            "Epoch: 018/020 | Batch 1000/1875 | Loss: 0.0261\n",
            "Epoch: 018/020 | Batch 1250/1875 | Loss: 0.0254\n",
            "Epoch: 018/020 | Batch 1500/1875 | Loss: 0.0233\n",
            "Epoch: 018/020 | Batch 1750/1875 | Loss: 0.0264\n",
            "Time elapsed: 13.30 min\n",
            "Epoch: 019/020 | Batch 0000/1875 | Loss: 0.0237\n",
            "Epoch: 019/020 | Batch 0250/1875 | Loss: 0.0268\n",
            "Epoch: 019/020 | Batch 0500/1875 | Loss: 0.0243\n",
            "Epoch: 019/020 | Batch 0750/1875 | Loss: 0.0236\n",
            "Epoch: 019/020 | Batch 1000/1875 | Loss: 0.0256\n",
            "Epoch: 019/020 | Batch 1250/1875 | Loss: 0.0281\n",
            "Epoch: 019/020 | Batch 1500/1875 | Loss: 0.0287\n",
            "Epoch: 019/020 | Batch 1750/1875 | Loss: 0.0264\n",
            "Time elapsed: 14.03 min\n",
            "Epoch: 020/020 | Batch 0000/1875 | Loss: 0.0255\n",
            "Epoch: 020/020 | Batch 0250/1875 | Loss: 0.0239\n",
            "Epoch: 020/020 | Batch 0500/1875 | Loss: 0.0271\n",
            "Epoch: 020/020 | Batch 0750/1875 | Loss: 0.0227\n",
            "Epoch: 020/020 | Batch 1000/1875 | Loss: 0.0277\n",
            "Epoch: 020/020 | Batch 1250/1875 | Loss: 0.0215\n",
            "Epoch: 020/020 | Batch 1500/1875 | Loss: 0.0267\n",
            "Epoch: 020/020 | Batch 1750/1875 | Loss: 0.0236\n",
            "Time elapsed: 14.78 min\n",
            "Total Training Time: 14.78 min\n"
          ]
        }
      ],
      "source": [
        "log_dict = train_autoencoder_v1(num_epochs=NUM_EPOCHS, model=model,\n",
        "                                optimizer=optimizer, device=DEVICE,\n",
        "                                train_loader=train_loader,\n",
        "                                skip_epoch_stats=True,\n",
        "                                logging_interval=250)"
      ]
    },
    {
      "cell_type": "markdown",
      "metadata": {
        "id": "9ePcBi5sD06_"
      },
      "source": [
        "## Evaluation"
      ]
    },
    {
      "cell_type": "code",
      "execution_count": null,
      "metadata": {
        "colab": {
          "base_uri": "https://localhost:8080/",
          "height": 297
        },
        "id": "4f60j0fpD06_",
        "outputId": "f9c40c86-83a7-4ebe-cbaf-f2840c13aab5"
      },
      "outputs": [
        {
          "output_type": "display_data",
          "data": {
            "text/plain": [
              "<Figure size 432x288 with 2 Axes>"
            ],
            "image/png": "[encoded data removed]"
          },
          "metadata": {
            "needs_background": "light"
          }
        }
      ],
      "source": [
        "plot_training_loss(log_dict['train_loss_per_batch'], NUM_EPOCHS)\n",
        "plt.show()"
      ]
    },
    {
      "cell_type": "code",
      "execution_count": null,
      "metadata": {
        "colab": {
          "base_uri": "https://localhost:8080/",
          "height": 157
        },
        "id": "ATuWv-VpD06_",
        "outputId": "d9846fd2-98d5-4363-c9ad-2971b771be56"
      },
      "outputs": [
        {
          "output_type": "display_data",
          "data": {
            "text/plain": [
              "<Figure size 1440x180 with 30 Axes>"
            ],
            "image/png": "[encoded data removed]"
          },
          "metadata": {
            "needs_background": "light"
          }
        }
      ],
      "source": [
        "plot_generated_images(data_loader=train_loader, model=model, device=DEVICE)"
      ]
    }
  ],
  "metadata": {
    "accelerator": "GPU",
    "colab": {
      "provenance": []
    },
    "kernelspec": {
      "display_name": "Python 3 (ipykernel)",
      "language": "python",
      "name": "python3"
    },
    "language_info": {
      "codemirror_mode": {
        "name": "ipython",
        "version": 3
      },
      "file_extension": ".py",
      "mimetype": "text/x-python",
      "name": "python",
      "nbconvert_exporter": "python",
      "pygments_lexer": "ipython3",
      "version": "3.10.6"
    },
    "toc": {
      "nav_menu": {},
      "number_sections": true,
      "sideBar": true,
      "skip_h1_title": false,
      "title_cell": "Table of Contents",
      "title_sidebar": "Contents",
      "toc_cell": true,
      "toc_position": {
        "height": "calc(100% - 180px)",
        "left": "10px",
        "top": "150px",
        "width": "371px"
      },
      "toc_section_display": true,
      "toc_window_display": true
    },
    "widgets": {
      "application/vnd.jupyter.widget-state+json": {
        "93101aa2e05f4965bad9296ca76778c2": {
          "model_module": "@jupyter-widgets/controls",
          "model_name": "HBoxModel",
          "model_module_version": "1.5.0",
          "state": {
            "_dom_classes": [],
            "_model_module": "@jupyter-widgets/controls",
            "_model_module_version": "1.5.0",
            "_model_name": "HBoxModel",
            "_view_count": null,
            "_view_module": "@jupyter-widgets/controls",
            "_view_module_version": "1.5.0",
            "_view_name": "HBoxView",
            "box_style": "",
            "children": [
              "IPY_MODEL_4c0b475e43814892bd53b28f79372a64",
              "IPY_MODEL_df3598c87a114072bda12a1d55f3de61",
              "IPY_MODEL_9e0a8e47e64b407194f809c26003f29e"
            ],
            "layout": "IPY_MODEL_592d93c80b2c4081b9dea9f1650584b1"
          }
        },
        "4c0b475e43814892bd53b28f79372a64": {
          "model_module": "@jupyter-widgets/controls",
          "model_name": "HTMLModel",
          "model_module_version": "1.5.0",
          "state": {
            "_dom_classes": [],
            "_model_module": "@jupyter-widgets/controls",
            "_model_module_version": "1.5.0",
            "_model_name": "HTMLModel",
            "_view_count": null,
            "_view_module": "@jupyter-widgets/controls",
            "_view_module_version": "1.5.0",
            "_view_name": "HTMLView",
            "description": "",
            "description_tooltip": null,
            "layout": "IPY_MODEL_d21b68c6e7f54b5a8397e8688b577848",
            "placeholder": "​",
            "style": "IPY_MODEL_9ec5b8e20cea4b12b4cffb3eb5ca22e2",
            "value": "100%"
          }
        },
        "df3598c87a114072bda12a1d55f3de61": {
          "model_module": "@jupyter-widgets/controls",
          "model_name": "FloatProgressModel",
          "model_module_version": "1.5.0",
          "state": {
            "_dom_classes": [],
            "_model_module": "@jupyter-widgets/controls",
            "_model_module_version": "1.5.0",
            "_model_name": "FloatProgressModel",
            "_view_count": null,
            "_view_module": "@jupyter-widgets/controls",
            "_view_module_version": "1.5.0",
            "_view_name": "ProgressView",
            "bar_style": "success",
            "description": "",
            "description_tooltip": null,
            "layout": "IPY_MODEL_da3ba181febf468097846d4dd81836f4",
            "max": 9912422,
            "min": 0,
            "orientation": "horizontal",
            "style": "IPY_MODEL_1b10c017f6ef45f59de85cf724b2469d",
            "value": 9912422
          }
        },
        "9e0a8e47e64b407194f809c26003f29e": {
          "model_module": "@jupyter-widgets/controls",
          "model_name": "HTMLModel",
          "model_module_version": "1.5.0",
          "state": {
            "_dom_classes": [],
            "_model_module": "@jupyter-widgets/controls",
            "_model_module_version": "1.5.0",
            "_model_name": "HTMLModel",
            "_view_count": null,
            "_view_module": "@jupyter-widgets/controls",
            "_view_module_version": "1.5.0",
            "_view_name": "HTMLView",
            "description": "",
            "description_tooltip": null,
            "layout": "IPY_MODEL_2b950ad1a57d45b2b93894ed08a2a5ec",
            "placeholder": "​",
            "style": "IPY_MODEL_034cbb2905f34e01962682880289d023",
            "value": " 9912422/9912422 [00:00&lt;00:00, 56454225.23it/s]"
          }
        },
        "592d93c80b2c4081b9dea9f1650584b1": {
          "model_module": "@jupyter-widgets/base",
          "model_name": "LayoutModel",
          "model_module_version": "1.2.0",
          "state": {
            "_model_module": "@jupyter-widgets/base",
            "_model_module_version": "1.2.0",
            "_model_name": "LayoutModel",
            "_view_count": null,
            "_view_module": "@jupyter-widgets/base",
            "_view_module_version": "1.2.0",
            "_view_name": "LayoutView",
            "align_content": null,
            "align_items": null,
            "align_self": null,
            "border": null,
            "bottom": null,
            "display": null,
            "flex": null,
            "flex_flow": null,
            "grid_area": null,
            "grid_auto_columns": null,
            "grid_auto_flow": null,
            "grid_auto_rows": null,
            "grid_column": null,
            "grid_gap": null,
            "grid_row": null,
            "grid_template_areas": null,
            "grid_template_columns": null,
            "grid_template_rows": null,
            "height": null,
            "justify_content": null,
            "justify_items": null,
            "left": null,
            "margin": null,
            "max_height": null,
            "max_width": null,
            "min_height": null,
            "min_width": null,
            "object_fit": null,
            "object_position": null,
            "order": null,
            "overflow": null,
            "overflow_x": null,
            "overflow_y": null,
            "padding": null,
            "right": null,
            "top": null,
            "visibility": null,
            "width": null
          }
        },
        "d21b68c6e7f54b5a8397e8688b577848": {
          "model_module": "@jupyter-widgets/base",
          "model_name": "LayoutModel",
          "model_module_version": "1.2.0",
          "state": {
            "_model_module": "@jupyter-widgets/base",
            "_model_module_version": "1.2.0",
            "_model_name": "LayoutModel",
            "_view_count": null,
            "_view_module": "@jupyter-widgets/base",
            "_view_module_version": "1.2.0",
            "_view_name": "LayoutView",
            "align_content": null,
            "align_items": null,
            "align_self": null,
            "border": null,
            "bottom": null,
            "display": null,
            "flex": null,
            "flex_flow": null,
            "grid_area": null,
            "grid_auto_columns": null,
            "grid_auto_flow": null,
            "grid_auto_rows": null,
            "grid_column": null,
            "grid_gap": null,
            "grid_row": null,
            "grid_template_areas": null,
            "grid_template_columns": null,
            "grid_template_rows": null,
            "height": null,
            "justify_content": null,
            "justify_items": null,
            "left": null,
            "margin": null,
            "max_height": null,
            "max_width": null,
            "min_height": null,
            "min_width": null,
            "object_fit": null,
            "object_position": null,
            "order": null,
            "overflow": null,
            "overflow_x": null,
            "overflow_y": null,
            "padding": null,
            "right": null,
            "top": null,
            "visibility": null,
            "width": null
          }
        },
        "9ec5b8e20cea4b12b4cffb3eb5ca22e2": {
          "model_module": "@jupyter-widgets/controls",
          "model_name": "DescriptionStyleModel",
          "model_module_version": "1.5.0",
          "state": {
            "_model_module": "@jupyter-widgets/controls",
            "_model_module_version": "1.5.0",
            "_model_name": "DescriptionStyleModel",
            "_view_count": null,
            "_view_module": "@jupyter-widgets/base",
            "_view_module_version": "1.2.0",
            "_view_name": "StyleView",
            "description_width": ""
          }
        },
        "da3ba181febf468097846d4dd81836f4": {
          "model_module": "@jupyter-widgets/base",
          "model_name": "LayoutModel",
          "model_module_version": "1.2.0",
          "state": {
            "_model_module": "@jupyter-widgets/base",
            "_model_module_version": "1.2.0",
            "_model_name": "LayoutModel",
            "_view_count": null,
            "_view_module": "@jupyter-widgets/base",
            "_view_module_version": "1.2.0",
            "_view_name": "LayoutView",
            "align_content": null,
            "align_items": null,
            "align_self": null,
            "border": null,
            "bottom": null,
            "display": null,
            "flex": null,
            "flex_flow": null,
            "grid_area": null,
            "grid_auto_columns": null,
            "grid_auto_flow": null,
            "grid_auto_rows": null,
            "grid_column": null,
            "grid_gap": null,
            "grid_row": null,
            "grid_template_areas": null,
            "grid_template_columns": null,
            "grid_template_rows": null,
            "height": null,
            "justify_content": null,
            "justify_items": null,
            "left": null,
            "margin": null,
            "max_height": null,
            "max_width": null,
            "min_height": null,
            "min_width": null,
            "object_fit": null,
            "object_position": null,
            "order": null,
            "overflow": null,
            "overflow_x": null,
            "overflow_y": null,
            "padding": null,
            "right": null,
            "top": null,
            "visibility": null,
            "width": null
          }
        },
        "1b10c017f6ef45f59de85cf724b2469d": {
          "model_module": "@jupyter-widgets/controls",
          "model_name": "ProgressStyleModel",
          "model_module_version": "1.5.0",
          "state": {
            "_model_module": "@jupyter-widgets/controls",
            "_model_module_version": "1.5.0",
            "_model_name": "ProgressStyleModel",
            "_view_count": null,
            "_view_module": "@jupyter-widgets/base",
            "_view_module_version": "1.2.0",
            "_view_name": "StyleView",
            "bar_color": null,
            "description_width": ""
          }
        },
        "2b950ad1a57d45b2b93894ed08a2a5ec": {
          "model_module": "@jupyter-widgets/base",
          "model_name": "LayoutModel",
          "model_module_version": "1.2.0",
          "state": {
            "_model_module": "@jupyter-widgets/base",
            "_model_module_version": "1.2.0",
            "_model_name": "LayoutModel",
            "_view_count": null,
            "_view_module": "@jupyter-widgets/base",
            "_view_module_version": "1.2.0",
            "_view_name": "LayoutView",
            "align_content": null,
            "align_items": null,
            "align_self": null,
            "border": null,
            "bottom": null,
            "display": null,
            "flex": null,
            "flex_flow": null,
            "grid_area": null,
            "grid_auto_columns": null,
            "grid_auto_flow": null,
            "grid_auto_rows": null,
            "grid_column": null,
            "grid_gap": null,
            "grid_row": null,
            "grid_template_areas": null,
            "grid_template_columns": null,
            "grid_template_rows": null,
            "height": null,
            "justify_content": null,
            "justify_items": null,
            "left": null,
            "margin": null,
            "max_height": null,
            "max_width": null,
            "min_height": null,
            "min_width": null,
            "object_fit": null,
            "object_position": null,
            "order": null,
            "overflow": null,
            "overflow_x": null,
            "overflow_y": null,
            "padding": null,
            "right": null,
            "top": null,
            "visibility": null,
            "width": null
          }
        },
        "034cbb2905f34e01962682880289d023": {
          "model_module": "@jupyter-widgets/controls",
          "model_name": "DescriptionStyleModel",
          "model_module_version": "1.5.0",
          "state": {
            "_model_module": "@jupyter-widgets/controls",
            "_model_module_version": "1.5.0",
            "_model_name": "DescriptionStyleModel",
            "_view_count": null,
            "_view_module": "@jupyter-widgets/base",
            "_view_module_version": "1.2.0",
            "_view_name": "StyleView",
            "description_width": ""
          }
        },
        "7f5fc1c569674fd5923dae5df80854ab": {
          "model_module": "@jupyter-widgets/controls",
          "model_name": "HBoxModel",
          "model_module_version": "1.5.0",
          "state": {
            "_dom_classes": [],
            "_model_module": "@jupyter-widgets/controls",
            "_model_module_version": "1.5.0",
            "_model_name": "HBoxModel",
            "_view_count": null,
            "_view_module": "@jupyter-widgets/controls",
            "_view_module_version": "1.5.0",
            "_view_name": "HBoxView",
            "box_style": "",
            "children": [
              "IPY_MODEL_12cde798bf444d3695523b3ebff9fa20",
              "IPY_MODEL_25cf1671a828429fbe1e45666f13837a",
              "IPY_MODEL_a3468444fd72455a94ddefb2e99e2645"
            ],
            "layout": "IPY_MODEL_0815b215adbb4fb4a89f1140df91cb72"
          }
        },
        "12cde798bf444d3695523b3ebff9fa20": {
          "model_module": "@jupyter-widgets/controls",
          "model_name": "HTMLModel",
          "model_module_version": "1.5.0",
          "state": {
            "_dom_classes": [],
            "_model_module": "@jupyter-widgets/controls",
            "_model_module_version": "1.5.0",
            "_model_name": "HTMLModel",
            "_view_count": null,
            "_view_module": "@jupyter-widgets/controls",
            "_view_module_version": "1.5.0",
            "_view_name": "HTMLView",
            "description": "",
            "description_tooltip": null,
            "layout": "IPY_MODEL_8f58ebb6b903482787237342d921255b",
            "placeholder": "​",
            "style": "IPY_MODEL_e0e3efe20b1f4fd4bafca54ff5d54f45",
            "value": "100%"
          }
        },
        "25cf1671a828429fbe1e45666f13837a": {
          "model_module": "@jupyter-widgets/controls",
          "model_name": "FloatProgressModel",
          "model_module_version": "1.5.0",
          "state": {
            "_dom_classes": [],
            "_model_module": "@jupyter-widgets/controls",
            "_model_module_version": "1.5.0",
            "_model_name": "FloatProgressModel",
            "_view_count": null,
            "_view_module": "@jupyter-widgets/controls",
            "_view_module_version": "1.5.0",
            "_view_name": "ProgressView",
            "bar_style": "success",
            "description": "",
            "description_tooltip": null,
            "layout": "IPY_MODEL_6ed9389342f74099aa795cf9a7da4070",
            "max": 28881,
            "min": 0,
            "orientation": "horizontal",
            "style": "IPY_MODEL_107b557898c54ac4a3f82de17b8f20ca",
            "value": 28881
          }
        },
        "a3468444fd72455a94ddefb2e99e2645": {
          "model_module": "@jupyter-widgets/controls",
          "model_name": "HTMLModel",
          "model_module_version": "1.5.0",
          "state": {
            "_dom_classes": [],
            "_model_module": "@jupyter-widgets/controls",
            "_model_module_version": "1.5.0",
            "_model_name": "HTMLModel",
            "_view_count": null,
            "_view_module": "@jupyter-widgets/controls",
            "_view_module_version": "1.5.0",
            "_view_name": "HTMLView",
            "description": "",
            "description_tooltip": null,
            "layout": "IPY_MODEL_9fad0b06515c4fcd8f19d6857d8f14b5",
            "placeholder": "​",
            "style": "IPY_MODEL_df6eff2ab616441e808aa6206e66d3c5",
            "value": " 28881/28881 [00:00&lt;00:00, 952414.49it/s]"
          }
        },
        "0815b215adbb4fb4a89f1140df91cb72": {
          "model_module": "@jupyter-widgets/base",
          "model_name": "LayoutModel",
          "model_module_version": "1.2.0",
          "state": {
            "_model_module": "@jupyter-widgets/base",
            "_model_module_version": "1.2.0",
            "_model_name": "LayoutModel",
            "_view_count": null,
            "_view_module": "@jupyter-widgets/base",
            "_view_module_version": "1.2.0",
            "_view_name": "LayoutView",
            "align_content": null,
            "align_items": null,
            "align_self": null,
            "border": null,
            "bottom": null,
            "display": null,
            "flex": null,
            "flex_flow": null,
            "grid_area": null,
            "grid_auto_columns": null,
            "grid_auto_flow": null,
            "grid_auto_rows": null,
            "grid_column": null,
            "grid_gap": null,
            "grid_row": null,
            "grid_template_areas": null,
            "grid_template_columns": null,
            "grid_template_rows": null,
            "height": null,
            "justify_content": null,
            "justify_items": null,
            "left": null,
            "margin": null,
            "max_height": null,
            "max_width": null,
            "min_height": null,
            "min_width": null,
            "object_fit": null,
            "object_position": null,
            "order": null,
            "overflow": null,
            "overflow_x": null,
            "overflow_y": null,
            "padding": null,
            "right": null,
            "top": null,
            "visibility": null,
            "width": null
          }
        },
        "8f58ebb6b903482787237342d921255b": {
          "model_module": "@jupyter-widgets/base",
          "model_name": "LayoutModel",
          "model_module_version": "1.2.0",
          "state": {
            "_model_module": "@jupyter-widgets/base",
            "_model_module_version": "1.2.0",
            "_model_name": "LayoutModel",
            "_view_count": null,
            "_view_module": "@jupyter-widgets/base",
            "_view_module_version": "1.2.0",
            "_view_name": "LayoutView",
            "align_content": null,
            "align_items": null,
            "align_self": null,
            "border": null,
            "bottom": null,
            "display": null,
            "flex": null,
            "flex_flow": null,
            "grid_area": null,
            "grid_auto_columns": null,
            "grid_auto_flow": null,
            "grid_auto_rows": null,
            "grid_column": null,
            "grid_gap": null,
            "grid_row": null,
            "grid_template_areas": null,
            "grid_template_columns": null,
            "grid_template_rows": null,
            "height": null,
            "justify_content": null,
            "justify_items": null,
            "left": null,
            "margin": null,
            "max_height": null,
            "max_width": null,
            "min_height": null,
            "min_width": null,
            "object_fit": null,
            "object_position": null,
            "order": null,
            "overflow": null,
            "overflow_x": null,
            "overflow_y": null,
            "padding": null,
            "right": null,
            "top": null,
            "visibility": null,
            "width": null
          }
        },
        "e0e3efe20b1f4fd4bafca54ff5d54f45": {
          "model_module": "@jupyter-widgets/controls",
          "model_name": "DescriptionStyleModel",
          "model_module_version": "1.5.0",
          "state": {
            "_model_module": "@jupyter-widgets/controls",
            "_model_module_version": "1.5.0",
            "_model_name": "DescriptionStyleModel",
            "_view_count": null,
            "_view_module": "@jupyter-widgets/base",
            "_view_module_version": "1.2.0",
            "_view_name": "StyleView",
            "description_width": ""
          }
        },
        "6ed9389342f74099aa795cf9a7da4070": {
          "model_module": "@jupyter-widgets/base",
          "model_name": "LayoutModel",
          "model_module_version": "1.2.0",
          "state": {
            "_model_module": "@jupyter-widgets/base",
            "_model_module_version": "1.2.0",
            "_model_name": "LayoutModel",
            "_view_count": null,
            "_view_module": "@jupyter-widgets/base",
            "_view_module_version": "1.2.0",
            "_view_name": "LayoutView",
            "align_content": null,
            "align_items": null,
            "align_self": null,
            "border": null,
            "bottom": null,
            "display": null,
            "flex": null,
            "flex_flow": null,
            "grid_area": null,
            "grid_auto_columns": null,
            "grid_auto_flow": null,
            "grid_auto_rows": null,
            "grid_column": null,
            "grid_gap": null,
            "grid_row": null,
            "grid_template_areas": null,
            "grid_template_columns": null,
            "grid_template_rows": null,
            "height": null,
            "justify_content": null,
            "justify_items": null,
            "left": null,
            "margin": null,
            "max_height": null,
            "max_width": null,
            "min_height": null,
            "min_width": null,
            "object_fit": null,
            "object_position": null,
            "order": null,
            "overflow": null,
            "overflow_x": null,
            "overflow_y": null,
            "padding": null,
            "right": null,
            "top": null,
            "visibility": null,
            "width": null
          }
        },
        "107b557898c54ac4a3f82de17b8f20ca": {
          "model_module": "@jupyter-widgets/controls",
          "model_name": "ProgressStyleModel",
          "model_module_version": "1.5.0",
          "state": {
            "_model_module": "@jupyter-widgets/controls",
            "_model_module_version": "1.5.0",
            "_model_name": "ProgressStyleModel",
            "_view_count": null,
            "_view_module": "@jupyter-widgets/base",
            "_view_module_version": "1.2.0",
            "_view_name": "StyleView",
            "bar_color": null,
            "description_width": ""
          }
        },
        "9fad0b06515c4fcd8f19d6857d8f14b5": {
          "model_module": "@jupyter-widgets/base",
          "model_name": "LayoutModel",
          "model_module_version": "1.2.0",
          "state": {
            "_model_module": "@jupyter-widgets/base",
            "_model_module_version": "1.2.0",
            "_model_name": "LayoutModel",
            "_view_count": null,
            "_view_module": "@jupyter-widgets/base",
            "_view_module_version": "1.2.0",
            "_view_name": "LayoutView",
            "align_content": null,
            "align_items": null,
            "align_self": null,
            "border": null,
            "bottom": null,
            "display": null,
            "flex": null,
            "flex_flow": null,
            "grid_area": null,
            "grid_auto_columns": null,
            "grid_auto_flow": null,
            "grid_auto_rows": null,
            "grid_column": null,
            "grid_gap": null,
            "grid_row": null,
            "grid_template_areas": null,
            "grid_template_columns": null,
            "grid_template_rows": null,
            "height": null,
            "justify_content": null,
            "justify_items": null,
            "left": null,
            "margin": null,
            "max_height": null,
            "max_width": null,
            "min_height": null,
            "min_width": null,
            "object_fit": null,
            "object_position": null,
            "order": null,
            "overflow": null,
            "overflow_x": null,
            "overflow_y": null,
            "padding": null,
            "right": null,
            "top": null,
            "visibility": null,
            "width": null
          }
        },
        "df6eff2ab616441e808aa6206e66d3c5": {
          "model_module": "@jupyter-widgets/controls",
          "model_name": "DescriptionStyleModel",
          "model_module_version": "1.5.0",
          "state": {
            "_model_module": "@jupyter-widgets/controls",
            "_model_module_version": "1.5.0",
            "_model_name": "DescriptionStyleModel",
            "_view_count": null,
            "_view_module": "@jupyter-widgets/base",
            "_view_module_version": "1.2.0",
            "_view_name": "StyleView",
            "description_width": ""
          }
        },
        "bdedec15c555464ba33016bb086afdb4": {
          "model_module": "@jupyter-widgets/controls",
          "model_name": "HBoxModel",
          "model_module_version": "1.5.0",
          "state": {
            "_dom_classes": [],
            "_model_module": "@jupyter-widgets/controls",
            "_model_module_version": "1.5.0",
            "_model_name": "HBoxModel",
            "_view_count": null,
            "_view_module": "@jupyter-widgets/controls",
            "_view_module_version": "1.5.0",
            "_view_name": "HBoxView",
            "box_style": "",
            "children": [
              "IPY_MODEL_27e0dd46bbb045a4b7a8847f51a89802",
              "IPY_MODEL_19a56533d62940acbb89725043d27599",
              "IPY_MODEL_5378a7c22d2c418780928259d6e6f128"
            ],
            "layout": "IPY_MODEL_f9bcd30dcec34ed3af755a68e4e83070"
          }
        },
        "27e0dd46bbb045a4b7a8847f51a89802": {
          "model_module": "@jupyter-widgets/controls",
          "model_name": "HTMLModel",
          "model_module_version": "1.5.0",
          "state": {
            "_dom_classes": [],
            "_model_module": "@jupyter-widgets/controls",
            "_model_module_version": "1.5.0",
            "_model_name": "HTMLModel",
            "_view_count": null,
            "_view_module": "@jupyter-widgets/controls",
            "_view_module_version": "1.5.0",
            "_view_name": "HTMLView",
            "description": "",
            "description_tooltip": null,
            "layout": "IPY_MODEL_7d3b78e8970f44db8c3383a54df85bae",
            "placeholder": "​",
            "style": "IPY_MODEL_600b9e9f6a6842b09d85d96603c248d3",
            "value": "100%"
          }
        },
        "19a56533d62940acbb89725043d27599": {
          "model_module": "@jupyter-widgets/controls",
          "model_name": "FloatProgressModel",
          "model_module_version": "1.5.0",
          "state": {
            "_dom_classes": [],
            "_model_module": "@jupyter-widgets/controls",
            "_model_module_version": "1.5.0",
            "_model_name": "FloatProgressModel",
            "_view_count": null,
            "_view_module": "@jupyter-widgets/controls",
            "_view_module_version": "1.5.0",
            "_view_name": "ProgressView",
            "bar_style": "success",
            "description": "",
            "description_tooltip": null,
            "layout": "IPY_MODEL_3add1ff55d3b48ca89f99a0f9a7d9f80",
            "max": 1648877,
            "min": 0,
            "orientation": "horizontal",
            "style": "IPY_MODEL_b035c8bfca5d41afa2cd9fabd2e6506f",
            "value": 1648877
          }
        },
        "5378a7c22d2c418780928259d6e6f128": {
          "model_module": "@jupyter-widgets/controls",
          "model_name": "HTMLModel",
          "model_module_version": "1.5.0",
          "state": {
            "_dom_classes": [],
            "_model_module": "@jupyter-widgets/controls",
            "_model_module_version": "1.5.0",
            "_model_name": "HTMLModel",
            "_view_count": null,
            "_view_module": "@jupyter-widgets/controls",
            "_view_module_version": "1.5.0",
            "_view_name": "HTMLView",
            "description": "",
            "description_tooltip": null,
            "layout": "IPY_MODEL_1ebfedac839a435e9494036a63425a57",
            "placeholder": "​",
            "style": "IPY_MODEL_3b76a4a1361444a79dc32c7bfcefb414",
            "value": " 1648877/1648877 [00:00&lt;00:00, 36532097.60it/s]"
          }
        },
        "f9bcd30dcec34ed3af755a68e4e83070": {
          "model_module": "@jupyter-widgets/base",
          "model_name": "LayoutModel",
          "model_module_version": "1.2.0",
          "state": {
            "_model_module": "@jupyter-widgets/base",
            "_model_module_version": "1.2.0",
            "_model_name": "LayoutModel",
            "_view_count": null,
            "_view_module": "@jupyter-widgets/base",
            "_view_module_version": "1.2.0",
            "_view_name": "LayoutView",
            "align_content": null,
            "align_items": null,
            "align_self": null,
            "border": null,
            "bottom": null,
            "display": null,
            "flex": null,
            "flex_flow": null,
            "grid_area": null,
            "grid_auto_columns": null,
            "grid_auto_flow": null,
            "grid_auto_rows": null,
            "grid_column": null,
            "grid_gap": null,
            "grid_row": null,
            "grid_template_areas": null,
            "grid_template_columns": null,
            "grid_template_rows": null,
            "height": null,
            "justify_content": null,
            "justify_items": null,
            "left": null,
            "margin": null,
            "max_height": null,
            "max_width": null,
            "min_height": null,
            "min_width": null,
            "object_fit": null,
            "object_position": null,
            "order": null,
            "overflow": null,
            "overflow_x": null,
            "overflow_y": null,
            "padding": null,
            "right": null,
            "top": null,
            "visibility": null,
            "width": null
          }
        },
        "7d3b78e8970f44db8c3383a54df85bae": {
          "model_module": "@jupyter-widgets/base",
          "model_name": "LayoutModel",
          "model_module_version": "1.2.0",
          "state": {
            "_model_module": "@jupyter-widgets/base",
            "_model_module_version": "1.2.0",
            "_model_name": "LayoutModel",
            "_view_count": null,
            "_view_module": "@jupyter-widgets/base",
            "_view_module_version": "1.2.0",
            "_view_name": "LayoutView",
            "align_content": null,
            "align_items": null,
            "align_self": null,
            "border": null,
            "bottom": null,
            "display": null,
            "flex": null,
            "flex_flow": null,
            "grid_area": null,
            "grid_auto_columns": null,
            "grid_auto_flow": null,
            "grid_auto_rows": null,
            "grid_column": null,
            "grid_gap": null,
            "grid_row": null,
            "grid_template_areas": null,
            "grid_template_columns": null,
            "grid_template_rows": null,
            "height": null,
            "justify_content": null,
            "justify_items": null,
            "left": null,
            "margin": null,
            "max_height": null,
            "max_width": null,
            "min_height": null,
            "min_width": null,
            "object_fit": null,
            "object_position": null,
            "order": null,
            "overflow": null,
            "overflow_x": null,
            "overflow_y": null,
            "padding": null,
            "right": null,
            "top": null,
            "visibility": null,
            "width": null
          }
        },
        "600b9e9f6a6842b09d85d96603c248d3": {
          "model_module": "@jupyter-widgets/controls",
          "model_name": "DescriptionStyleModel",
          "model_module_version": "1.5.0",
          "state": {
            "_model_module": "@jupyter-widgets/controls",
            "_model_module_version": "1.5.0",
            "_model_name": "DescriptionStyleModel",
            "_view_count": null,
            "_view_module": "@jupyter-widgets/base",
            "_view_module_version": "1.2.0",
            "_view_name": "StyleView",
            "description_width": ""
          }
        },
        "3add1ff55d3b48ca89f99a0f9a7d9f80": {
          "model_module": "@jupyter-widgets/base",
          "model_name": "LayoutModel",
          "model_module_version": "1.2.0",
          "state": {
            "_model_module": "@jupyter-widgets/base",
            "_model_module_version": "1.2.0",
            "_model_name": "LayoutModel",
            "_view_count": null,
            "_view_module": "@jupyter-widgets/base",
            "_view_module_version": "1.2.0",
            "_view_name": "LayoutView",
            "align_content": null,
            "align_items": null,
            "align_self": null,
            "border": null,
            "bottom": null,
            "display": null,
            "flex": null,
            "flex_flow": null,
            "grid_area": null,
            "grid_auto_columns": null,
            "grid_auto_flow": null,
            "grid_auto_rows": null,
            "grid_column": null,
            "grid_gap": null,
            "grid_row": null,
            "grid_template_areas": null,
            "grid_template_columns": null,
            "grid_template_rows": null,
            "height": null,
            "justify_content": null,
            "justify_items": null,
            "left": null,
            "margin": null,
            "max_height": null,
            "max_width": null,
            "min_height": null,
            "min_width": null,
            "object_fit": null,
            "object_position": null,
            "order": null,
            "overflow": null,
            "overflow_x": null,
            "overflow_y": null,
            "padding": null,
            "right": null,
            "top": null,
            "visibility": null,
            "width": null
          }
        },
        "b035c8bfca5d41afa2cd9fabd2e6506f": {
          "model_module": "@jupyter-widgets/controls",
          "model_name": "ProgressStyleModel",
          "model_module_version": "1.5.0",
          "state": {
            "_model_module": "@jupyter-widgets/controls",
            "_model_module_version": "1.5.0",
            "_model_name": "ProgressStyleModel",
            "_view_count": null,
            "_view_module": "@jupyter-widgets/base",
            "_view_module_version": "1.2.0",
            "_view_name": "StyleView",
            "bar_color": null,
            "description_width": ""
          }
        },
        "1ebfedac839a435e9494036a63425a57": {
          "model_module": "@jupyter-widgets/base",
          "model_name": "LayoutModel",
          "model_module_version": "1.2.0",
          "state": {
            "_model_module": "@jupyter-widgets/base",
            "_model_module_version": "1.2.0",
            "_model_name": "LayoutModel",
            "_view_count": null,
            "_view_module": "@jupyter-widgets/base",
            "_view_module_version": "1.2.0",
            "_view_name": "LayoutView",
            "align_content": null,
            "align_items": null,
            "align_self": null,
            "border": null,
            "bottom": null,
            "display": null,
            "flex": null,
            "flex_flow": null,
            "grid_area": null,
            "grid_auto_columns": null,
            "grid_auto_flow": null,
            "grid_auto_rows": null,
            "grid_column": null,
            "grid_gap": null,
            "grid_row": null,
            "grid_template_areas": null,
            "grid_template_columns": null,
            "grid_template_rows": null,
            "height": null,
            "justify_content": null,
            "justify_items": null,
            "left": null,
            "margin": null,
            "max_height": null,
            "max_width": null,
            "min_height": null,
            "min_width": null,
            "object_fit": null,
            "object_position": null,
            "order": null,
            "overflow": null,
            "overflow_x": null,
            "overflow_y": null,
            "padding": null,
            "right": null,
            "top": null,
            "visibility": null,
            "width": null
          }
        },
        "3b76a4a1361444a79dc32c7bfcefb414": {
          "model_module": "@jupyter-widgets/controls",
          "model_name": "DescriptionStyleModel",
          "model_module_version": "1.5.0",
          "state": {
            "_model_module": "@jupyter-widgets/controls",
            "_model_module_version": "1.5.0",
            "_model_name": "DescriptionStyleModel",
            "_view_count": null,
            "_view_module": "@jupyter-widgets/base",
            "_view_module_version": "1.2.0",
            "_view_name": "StyleView",
            "description_width": ""
          }
        },
        "1e0ec5105ce743ff89fa22085092bb6e": {
          "model_module": "@jupyter-widgets/controls",
          "model_name": "HBoxModel",
          "model_module_version": "1.5.0",
          "state": {
            "_dom_classes": [],
            "_model_module": "@jupyter-widgets/controls",
            "_model_module_version": "1.5.0",
            "_model_name": "HBoxModel",
            "_view_count": null,
            "_view_module": "@jupyter-widgets/controls",
            "_view_module_version": "1.5.0",
            "_view_name": "HBoxView",
            "box_style": "",
            "children": [
              "IPY_MODEL_9981d798a6ff496fb04d958bd94aaadd",
              "IPY_MODEL_45e9ed5fad4e4fd8b36964d45ad707af",
              "IPY_MODEL_b4bef65b4c8c4496bd4ac6b2e70d667d"
            ],
            "layout": "IPY_MODEL_e1ea49aa5bb343c993386b27165b6391"
          }
        },
        "9981d798a6ff496fb04d958bd94aaadd": {
          "model_module": "@jupyter-widgets/controls",
          "model_name": "HTMLModel",
          "model_module_version": "1.5.0",
          "state": {
            "_dom_classes": [],
            "_model_module": "@jupyter-widgets/controls",
            "_model_module_version": "1.5.0",
            "_model_name": "HTMLModel",
            "_view_count": null,
            "_view_module": "@jupyter-widgets/controls",
            "_view_module_version": "1.5.0",
            "_view_name": "HTMLView",
            "description": "",
            "description_tooltip": null,
            "layout": "IPY_MODEL_f66c3c64b05c4cf29a4db22080cda13c",
            "placeholder": "​",
            "style": "IPY_MODEL_46b87c90f7c74c4582ea2537949fc412",
            "value": "100%"
          }
        },
        "45e9ed5fad4e4fd8b36964d45ad707af": {
          "model_module": "@jupyter-widgets/controls",
          "model_name": "FloatProgressModel",
          "model_module_version": "1.5.0",
          "state": {
            "_dom_classes": [],
            "_model_module": "@jupyter-widgets/controls",
            "_model_module_version": "1.5.0",
            "_model_name": "FloatProgressModel",
            "_view_count": null,
            "_view_module": "@jupyter-widgets/controls",
            "_view_module_version": "1.5.0",
            "_view_name": "ProgressView",
            "bar_style": "success",
            "description": "",
            "description_tooltip": null,
            "layout": "IPY_MODEL_a7ce449b5091401887b476ea37d69baa",
            "max": 4542,
            "min": 0,
            "orientation": "horizontal",
            "style": "IPY_MODEL_6c16ed6a077f4c238e027bdaded39735",
            "value": 4542
          }
        },
        "b4bef65b4c8c4496bd4ac6b2e70d667d": {
          "model_module": "@jupyter-widgets/controls",
          "model_name": "HTMLModel",
          "model_module_version": "1.5.0",
          "state": {
            "_dom_classes": [],
            "_model_module": "@jupyter-widgets/controls",
            "_model_module_version": "1.5.0",
            "_model_name": "HTMLModel",
            "_view_count": null,
            "_view_module": "@jupyter-widgets/controls",
            "_view_module_version": "1.5.0",
            "_view_name": "HTMLView",
            "description": "",
            "description_tooltip": null,
            "layout": "IPY_MODEL_32103daaf30e4f7785ffcc1660a22dd3",
            "placeholder": "​",
            "style": "IPY_MODEL_fca645e7fdd346959607e74e7ddb1815",
            "value": " 4542/4542 [00:00&lt;00:00, 134515.78it/s]"
          }
        },
        "e1ea49aa5bb343c993386b27165b6391": {
          "model_module": "@jupyter-widgets/base",
          "model_name": "LayoutModel",
          "model_module_version": "1.2.0",
          "state": {
            "_model_module": "@jupyter-widgets/base",
            "_model_module_version": "1.2.0",
            "_model_name": "LayoutModel",
            "_view_count": null,
            "_view_module": "@jupyter-widgets/base",
            "_view_module_version": "1.2.0",
            "_view_name": "LayoutView",
            "align_content": null,
            "align_items": null,
            "align_self": null,
            "border": null,
            "bottom": null,
            "display": null,
            "flex": null,
            "flex_flow": null,
            "grid_area": null,
            "grid_auto_columns": null,
            "grid_auto_flow": null,
            "grid_auto_rows": null,
            "grid_column": null,
            "grid_gap": null,
            "grid_row": null,
            "grid_template_areas": null,
            "grid_template_columns": null,
            "grid_template_rows": null,
            "height": null,
            "justify_content": null,
            "justify_items": null,
            "left": null,
            "margin": null,
            "max_height": null,
            "max_width": null,
            "min_height": null,
            "min_width": null,
            "object_fit": null,
            "object_position": null,
            "order": null,
            "overflow": null,
            "overflow_x": null,
            "overflow_y": null,
            "padding": null,
            "right": null,
            "top": null,
            "visibility": null,
            "width": null
          }
        },
        "f66c3c64b05c4cf29a4db22080cda13c": {
          "model_module": "@jupyter-widgets/base",
          "model_name": "LayoutModel",
          "model_module_version": "1.2.0",
          "state": {
            "_model_module": "@jupyter-widgets/base",
            "_model_module_version": "1.2.0",
            "_model_name": "LayoutModel",
            "_view_count": null,
            "_view_module": "@jupyter-widgets/base",
            "_view_module_version": "1.2.0",
            "_view_name": "LayoutView",
            "align_content": null,
            "align_items": null,
            "align_self": null,
            "border": null,
            "bottom": null,
            "display": null,
            "flex": null,
            "flex_flow": null,
            "grid_area": null,
            "grid_auto_columns": null,
            "grid_auto_flow": null,
            "grid_auto_rows": null,
            "grid_column": null,
            "grid_gap": null,
            "grid_row": null,
            "grid_template_areas": null,
            "grid_template_columns": null,
            "grid_template_rows": null,
            "height": null,
            "justify_content": null,
            "justify_items": null,
            "left": null,
            "margin": null,
            "max_height": null,
            "max_width": null,
            "min_height": null,
            "min_width": null,
            "object_fit": null,
            "object_position": null,
            "order": null,
            "overflow": null,
            "overflow_x": null,
            "overflow_y": null,
            "padding": null,
            "right": null,
            "top": null,
            "visibility": null,
            "width": null
          }
        },
        "46b87c90f7c74c4582ea2537949fc412": {
          "model_module": "@jupyter-widgets/controls",
          "model_name": "DescriptionStyleModel",
          "model_module_version": "1.5.0",
          "state": {
            "_model_module": "@jupyter-widgets/controls",
            "_model_module_version": "1.5.0",
            "_model_name": "DescriptionStyleModel",
            "_view_count": null,
            "_view_module": "@jupyter-widgets/base",
            "_view_module_version": "1.2.0",
            "_view_name": "StyleView",
            "description_width": ""
          }
        },
        "a7ce449b5091401887b476ea37d69baa": {
          "model_module": "@jupyter-widgets/base",
          "model_name": "LayoutModel",
          "model_module_version": "1.2.0",
          "state": {
            "_model_module": "@jupyter-widgets/base",
            "_model_module_version": "1.2.0",
            "_model_name": "LayoutModel",
            "_view_count": null,
            "_view_module": "@jupyter-widgets/base",
            "_view_module_version": "1.2.0",
            "_view_name": "LayoutView",
            "align_content": null,
            "align_items": null,
            "align_self": null,
            "border": null,
            "bottom": null,
            "display": null,
            "flex": null,
            "flex_flow": null,
            "grid_area": null,
            "grid_auto_columns": null,
            "grid_auto_flow": null,
            "grid_auto_rows": null,
            "grid_column": null,
            "grid_gap": null,
            "grid_row": null,
            "grid_template_areas": null,
            "grid_template_columns": null,
            "grid_template_rows": null,
            "height": null,
            "justify_content": null,
            "justify_items": null,
            "left": null,
            "margin": null,
            "max_height": null,
            "max_width": null,
            "min_height": null,
            "min_width": null,
            "object_fit": null,
            "object_position": null,
            "order": null,
            "overflow": null,
            "overflow_x": null,
            "overflow_y": null,
            "padding": null,
            "right": null,
            "top": null,
            "visibility": null,
            "width": null
          }
        },
        "6c16ed6a077f4c238e027bdaded39735": {
          "model_module": "@jupyter-widgets/controls",
          "model_name": "ProgressStyleModel",
          "model_module_version": "1.5.0",
          "state": {
            "_model_module": "@jupyter-widgets/controls",
            "_model_module_version": "1.5.0",
            "_model_name": "ProgressStyleModel",
            "_view_count": null,
            "_view_module": "@jupyter-widgets/base",
            "_view_module_version": "1.2.0",
            "_view_name": "StyleView",
            "bar_color": null,
            "description_width": ""
          }
        },
        "32103daaf30e4f7785ffcc1660a22dd3": {
          "model_module": "@jupyter-widgets/base",
          "model_name": "LayoutModel",
          "model_module_version": "1.2.0",
          "state": {
            "_model_module": "@jupyter-widgets/base",
            "_model_module_version": "1.2.0",
            "_model_name": "LayoutModel",
            "_view_count": null,
            "_view_module": "@jupyter-widgets/base",
            "_view_module_version": "1.2.0",
            "_view_name": "LayoutView",
            "align_content": null,
            "align_items": null,
            "align_self": null,
            "border": null,
            "bottom": null,
            "display": null,
            "flex": null,
            "flex_flow": null,
            "grid_area": null,
            "grid_auto_columns": null,
            "grid_auto_flow": null,
            "grid_auto_rows": null,
            "grid_column": null,
            "grid_gap": null,
            "grid_row": null,
            "grid_template_areas": null,
            "grid_template_columns": null,
            "grid_template_rows": null,
            "height": null,
            "justify_content": null,
            "justify_items": null,
            "left": null,
            "margin": null,
            "max_height": null,
            "max_width": null,
            "min_height": null,
            "min_width": null,
            "object_fit": null,
            "object_position": null,
            "order": null,
            "overflow": null,
            "overflow_x": null,
            "overflow_y": null,
            "padding": null,
            "right": null,
            "top": null,
            "visibility": null,
            "width": null
          }
        },
        "fca645e7fdd346959607e74e7ddb1815": {
          "model_module": "@jupyter-widgets/controls",
          "model_name": "DescriptionStyleModel",
          "model_module_version": "1.5.0",
          "state": {
            "_model_module": "@jupyter-widgets/controls",
            "_model_module_version": "1.5.0",
            "_model_name": "DescriptionStyleModel",
            "_view_count": null,
            "_view_module": "@jupyter-widgets/base",
            "_view_module_version": "1.2.0",
            "_view_name": "StyleView",
            "description_width": ""
          }
        }
      }
    }
  },
  "nbformat": 4,
  "nbformat_minor": 0
}