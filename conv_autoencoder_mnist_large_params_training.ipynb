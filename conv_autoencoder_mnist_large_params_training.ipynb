{
  "cells": [
    {
      "cell_type": "markdown",
      "metadata": {
        "id": "DR9YpfzgD061"
      },
      "source": [
        "# Convolutional Autoencoder"
      ]
    },
    {
      "cell_type": "markdown",
      "metadata": {
        "id": "MkoGLH_Tj5wn"
      },
      "source": [
        "## Imports"
      ]
    },
    {
      "cell_type": "code",
      "execution_count": null,
      "metadata": {
        "id": "ORj09gnrj5wp"
      },
      "outputs": [],
      "source": [
        "import torch\n",
        "import torch.nn as nn\n",
        "import matplotlib.pyplot as plt"
      ]
    },
    {
      "cell_type": "code",
      "source": [
        "%env CUBLAS_WORKSPACE_CONFIG=:4096:8"
      ],
      "metadata": {
        "colab": {
          "base_uri": "https://localhost:8080/"
        },
        "id": "4rY-FRSbFdBZ",
        "outputId": "60771451-1bcf-485d-b68e-d6400627d366"
      },
      "execution_count": null,
      "outputs": [
        {
          "output_type": "stream",
          "name": "stdout",
          "text": [
            "env: CUBLAS_WORKSPACE_CONFIG=:4096:8\n"
          ]
        }
      ]
    },
    {
      "cell_type": "markdown",
      "metadata": {
        "id": "JnJpJ_RrD065"
      },
      "source": [
        "#### Import utility functions"
      ]
    },
    {
      "cell_type": "code",
      "execution_count": null,
      "metadata": {
        "id": "xIv3ZGrZD065"
      },
      "outputs": [],
      "source": [
        "from helper_data import get_dataloaders_mnist\n",
        "from helper_train import train_autoencoder_v1\n",
        "from helper_utils import set_deterministic, set_all_seeds\n",
        "from helper_plotting import plot_training_loss\n",
        "from helper_plotting import plot_generated_images\n",
        "from helper_plotting import plot_latent_space_with_labels"
      ]
    },
    {
      "cell_type": "code",
      "execution_count": null,
      "metadata": {
        "colab": {
          "base_uri": "https://localhost:8080/"
        },
        "id": "NnT0sZIwj5wu",
        "outputId": "17b96150-c63b-4c7c-aa59-0b890fec8067"
      },
      "outputs": [
        {
          "output_type": "stream",
          "name": "stdout",
          "text": [
            "Device: cuda:0\n"
          ]
        }
      ],
      "source": [
        "##########################\n",
        "### SETTINGS\n",
        "##########################\n",
        "\n",
        "# Device\n",
        "CUDA_DEVICE_NUM = 0\n",
        "DEVICE = torch.device(f'cuda:{CUDA_DEVICE_NUM}' if torch.cuda.is_available() else 'cpu')\n",
        "print('Device:', DEVICE)\n",
        "\n",
        "# Hyperparameters\n",
        "RANDOM_SEED = 123\n",
        "LEARNING_RATE = 0.0005\n",
        "BATCH_SIZE = 32\n",
        "NUM_EPOCHS = 20"
      ]
    },
    {
      "cell_type": "code",
      "execution_count": null,
      "metadata": {
        "id": "3BRioVYoD067"
      },
      "outputs": [],
      "source": [
        "set_deterministic\n",
        "set_all_seeds(RANDOM_SEED)"
      ]
    },
    {
      "cell_type": "markdown",
      "metadata": {
        "id": "eKaNR0kxD067"
      },
      "source": [
        "## Dataset"
      ]
    },
    {
      "cell_type": "code",
      "execution_count": null,
      "metadata": {
        "id": "JLNpg1PvD068",
        "colab": {
          "base_uri": "https://localhost:8080/",
          "height": 423,
          "referenced_widgets": [
            "e3dec8b9a67f44a1bb279dcd1c50e867",
            "beae5f1774334c26bbe718acb2cd699f",
            "2b2b7e62dc4846c7a776168c57f1ddf7",
            "f65ea59aace34aa994fc90ff08deed3b",
            "acef18ba59ea4a66b705cd6bd6a4ee6a",
            "b2e9a95b7fa343f29b241b024af7a3c3",
            "17d8ab430d0c491f91ef77d5fb37aaf0",
            "7b25b761740a480ca29149ea2edbedc9",
            "53ca03b6b28240ef8355c6c19c087a30",
            "53fafd776683469b93856f40481d4798",
            "ea109d27475c47b9b4d2564010616b4b",
            "6404cc09caba4de1a80627d218760bb2",
            "0b4e4108807d45fc9c70d247a8432788",
            "6d99c6d4056b44bc812eb140c1747875",
            "a3466d4d740a4121ae56290fab936d41",
            "87fd7d425a0f47cd88b027493ac8cbc4",
            "a33300fc8685486eb34b0c03c40eadf0",
            "6cf7a3e220b24a1fa97db34ba5dd2ff4",
            "9b5677ce833e46bd85e319dabc2625cd",
            "53251df37da64d9a869cf4fbf18ef54b",
            "2040c6b822e646dda6eabf898a0c7c5e",
            "31c4de6a8d7e4c7186cbd2a2af0e8731",
            "dee25744472747c0b866a751b71e7708",
            "d523d6eddcc147048fc9e8898675ee0f",
            "e9d7a8741b8344fabe31a37439f2d550",
            "58810a6d68d9462facc200cdd8fc560f",
            "0fcae6b8e07b4bbf977e8eac45ea5488",
            "7bd1659b6e484d4f92b173abdf3d4970",
            "fec5042dcc6e46a09c6e0849acb15f11",
            "a2f611ec1f144ad795ce93297d21d04d",
            "6033857d58814162b99403071c1beb3f",
            "45fdb0d77215449ca4562bb9baa99e36",
            "a28346a2bcdc4e8faa205f5a61fd1013",
            "58150e308d8040adb4e9a551c7822c71",
            "d4f2d44b30af4011a0fb494aeed260ce",
            "85cecca64b5840899476da5649f42871",
            "29a4b40e65394f4b92751af746faf525",
            "cd208b501c7e430ea87faa12da3d984d",
            "f0920c3ce8574db6816832291964f3e5",
            "32e055707c2a4d52b47170cf7f6b7d52",
            "b694f2cfd19049e890eb3c99aee2bbf2",
            "abdaee0eca4d4b19aaad3c7fe0079770",
            "b184d0c41ae6492781d4aae268b4aecf",
            "63ac5606a89447418b3eaf0af126260e"
          ]
        },
        "outputId": "f8d5cfd1-b830-49d5-822c-a5ec20e3f09d"
      },
      "outputs": [
        {
          "output_type": "stream",
          "name": "stdout",
          "text": [
            "Downloading http://yann.lecun.com/exdb/mnist/train-images-idx3-ubyte.gz\n",
            "Downloading http://yann.lecun.com/exdb/mnist/train-images-idx3-ubyte.gz to data/MNIST/raw/train-images-idx3-ubyte.gz\n"
          ]
        },
        {
          "output_type": "display_data",
          "data": {
            "text/plain": [
              "  0%|          | 0/9912422 [00:00<?, ?it/s]"
            ],
            "application/vnd.jupyter.widget-view+json": {
              "version_major": 2,
              "version_minor": 0,
              "model_id": "e3dec8b9a67f44a1bb279dcd1c50e867"
            }
          },
          "metadata": {}
        },
        {
          "output_type": "stream",
          "name": "stdout",
          "text": [
            "Extracting data/MNIST/raw/train-images-idx3-ubyte.gz to data/MNIST/raw\n",
            "\n",
            "Downloading http://yann.lecun.com/exdb/mnist/train-labels-idx1-ubyte.gz\n",
            "Downloading http://yann.lecun.com/exdb/mnist/train-labels-idx1-ubyte.gz to data/MNIST/raw/train-labels-idx1-ubyte.gz\n"
          ]
        },
        {
          "output_type": "display_data",
          "data": {
            "text/plain": [
              "  0%|          | 0/28881 [00:00<?, ?it/s]"
            ],
            "application/vnd.jupyter.widget-view+json": {
              "version_major": 2,
              "version_minor": 0,
              "model_id": "6404cc09caba4de1a80627d218760bb2"
            }
          },
          "metadata": {}
        },
        {
          "output_type": "stream",
          "name": "stdout",
          "text": [
            "Extracting data/MNIST/raw/train-labels-idx1-ubyte.gz to data/MNIST/raw\n",
            "\n",
            "Downloading http://yann.lecun.com/exdb/mnist/t10k-images-idx3-ubyte.gz\n",
            "Downloading http://yann.lecun.com/exdb/mnist/t10k-images-idx3-ubyte.gz to data/MNIST/raw/t10k-images-idx3-ubyte.gz\n"
          ]
        },
        {
          "output_type": "display_data",
          "data": {
            "text/plain": [
              "  0%|          | 0/1648877 [00:00<?, ?it/s]"
            ],
            "application/vnd.jupyter.widget-view+json": {
              "version_major": 2,
              "version_minor": 0,
              "model_id": "dee25744472747c0b866a751b71e7708"
            }
          },
          "metadata": {}
        },
        {
          "output_type": "stream",
          "name": "stdout",
          "text": [
            "Extracting data/MNIST/raw/t10k-images-idx3-ubyte.gz to data/MNIST/raw\n",
            "\n",
            "Downloading http://yann.lecun.com/exdb/mnist/t10k-labels-idx1-ubyte.gz\n",
            "Downloading http://yann.lecun.com/exdb/mnist/t10k-labels-idx1-ubyte.gz to data/MNIST/raw/t10k-labels-idx1-ubyte.gz\n"
          ]
        },
        {
          "output_type": "display_data",
          "data": {
            "text/plain": [
              "  0%|          | 0/4542 [00:00<?, ?it/s]"
            ],
            "application/vnd.jupyter.widget-view+json": {
              "version_major": 2,
              "version_minor": 0,
              "model_id": "58150e308d8040adb4e9a551c7822c71"
            }
          },
          "metadata": {}
        },
        {
          "output_type": "stream",
          "name": "stdout",
          "text": [
            "Extracting data/MNIST/raw/t10k-labels-idx1-ubyte.gz to data/MNIST/raw\n",
            "\n"
          ]
        }
      ],
      "source": [
        "##########################\n",
        "### Dataset\n",
        "##########################\n",
        "\n",
        "train_loader, valid_loader, test_loader = get_dataloaders_mnist(\n",
        "    batch_size=BATCH_SIZE,\n",
        "    num_workers=2,\n",
        "    validation_fraction=0.)"
      ]
    },
    {
      "cell_type": "code",
      "execution_count": null,
      "metadata": {
        "colab": {
          "base_uri": "https://localhost:8080/"
        },
        "id": "sMuNc7ebD068",
        "outputId": "716adca7-bffa-4d26-9fe5-b5f7a805b545"
      },
      "outputs": [
        {
          "output_type": "stream",
          "name": "stdout",
          "text": [
            "Training Set:\n",
            "\n",
            "Image batch dimensions: torch.Size([32, 1, 28, 28])\n",
            "Image label dimensions: torch.Size([32])\n",
            "tensor([1, 2, 1, 9, 0, 6, 9, 8, 0, 1])\n",
            "\n",
            "Validation Set:\n",
            "\n",
            "Testing Set:\n",
            "Image batch dimensions: torch.Size([32, 1, 28, 28])\n",
            "Image label dimensions: torch.Size([32])\n",
            "tensor([7, 2, 1, 0, 4, 1, 4, 9, 5, 9])\n"
          ]
        }
      ],
      "source": [
        "# Checking the dataset\n",
        "print('Training Set:\\n')\n",
        "for images, labels in train_loader:\n",
        "    print('Image batch dimensions:', images.size())\n",
        "    print('Image label dimensions:', labels.size())\n",
        "    print(labels[:10])\n",
        "    break\n",
        "\n",
        "# Checking the dataset\n",
        "print('\\nValidation Set:')\n",
        "for images, labels in valid_loader:\n",
        "    print('Image batch dimensions:', images.size())\n",
        "    print('Image label dimensions:', labels.size())\n",
        "    print(labels[:10])\n",
        "    break\n",
        "\n",
        "# Checking the dataset\n",
        "print('\\nTesting Set:')\n",
        "for images, labels in test_loader:\n",
        "    print('Image batch dimensions:', images.size())\n",
        "    print('Image label dimensions:', labels.size())\n",
        "    print(labels[:10])\n",
        "    break"
      ]
    },
    {
      "cell_type": "markdown",
      "metadata": {
        "id": "LS6GVthhD069"
      },
      "source": [
        "## Model"
      ]
    },
    {
      "cell_type": "code",
      "execution_count": null,
      "metadata": {
        "id": "b4O96GgoD069"
      },
      "outputs": [],
      "source": [
        "##########################\n",
        "### MODEL\n",
        "##########################\n",
        "\n",
        "\n",
        "class Reshape(nn.Module):\n",
        "    def __init__(self, *args):\n",
        "        super().__init__()\n",
        "        self.shape = args\n",
        "\n",
        "    def forward(self, x):\n",
        "        return x.view(self.shape)\n",
        "\n",
        "\n",
        "class Trim(nn.Module):\n",
        "    def __init__(self, *args):\n",
        "        super().__init__()\n",
        "\n",
        "    def forward(self, x):\n",
        "        return x[:, :, :28, :28]\n",
        "\n",
        "\n",
        "class AutoEncoder(nn.Module):\n",
        "    def __init__(self):\n",
        "        super().__init__()\n",
        "\n",
        "        self.encoder = nn.Sequential( #784\n",
        "                nn.Conv2d(1, 32, stride=(1, 1), kernel_size=(3, 3), padding=1),\n",
        "                nn.LeakyReLU(0.01),\n",
        "                nn.Conv2d(32, 78, stride=(2, 2), kernel_size=(3, 3), padding=1),\n",
        "                nn.LeakyReLU(0.01),\n",
        "                nn.Conv2d(78, 78, stride=(2, 2), kernel_size=(3, 3), padding=1),\n",
        "                nn.LeakyReLU(0.01),\n",
        "                nn.Conv2d(78, 78, stride=(1, 1), kernel_size=(3, 3), padding=1),\n",
        "                nn.Flatten(),\n",
        "                nn.Linear(3822, 8)\n",
        "        )\n",
        "        self.decoder = nn.Sequential(\n",
        "                torch.nn.Linear(8, 3822),\n",
        "                Reshape(-1, 78, 7, 7),\n",
        "                nn.ConvTranspose2d(78, 78, stride=(1, 1), kernel_size=(3, 3), padding=1),\n",
        "                nn.LeakyReLU(0.01),\n",
        "                nn.ConvTranspose2d(78, 78, stride=(2, 2), kernel_size=(3, 3), padding=1),\n",
        "                nn.LeakyReLU(0.01),\n",
        "                nn.ConvTranspose2d(78, 32, stride=(2, 2), kernel_size=(3, 3), padding=0),\n",
        "                nn.LeakyReLU(0.01),\n",
        "                nn.ConvTranspose2d(32, 1, stride=(1, 1), kernel_size=(3, 3), padding=0),\n",
        "                Trim(),  # 1x29x29 -> 1x28x28\n",
        "                nn.Sigmoid()\n",
        "                )\n",
        "\n",
        "    def forward(self, x):\n",
        "        x = self.encoder(x)\n",
        "        x = self.decoder(x)\n",
        "        return x"
      ]
    },
    {
      "cell_type": "code",
      "execution_count": null,
      "metadata": {
        "id": "_lza9t_uj5w1"
      },
      "outputs": [],
      "source": [
        "set_all_seeds(RANDOM_SEED)\n",
        "\n",
        "model = AutoEncoder()\n",
        "model.to(DEVICE)\n",
        "\n",
        "optimizer = torch.optim.Adam(model.parameters(), lr=LEARNING_RATE)"
      ]
    },
    {
      "cell_type": "markdown",
      "metadata": {
        "id": "RAodboScj5w6"
      },
      "source": [
        "## Training"
      ]
    },
    {
      "cell_type": "code",
      "execution_count": null,
      "metadata": {
        "colab": {
          "base_uri": "https://localhost:8080/"
        },
        "id": "Dzh3ROmRj5w7",
        "outputId": "20d8a851-9499-4368-99c5-e582281713a7"
      },
      "outputs": [
        {
          "output_type": "stream",
          "name": "stdout",
          "text": [
            "Epoch: 001/020 | Batch 0000/1875 | Loss: 0.2861\n",
            "Epoch: 001/020 | Batch 0250/1875 | Loss: 0.0638\n",
            "Epoch: 001/020 | Batch 0500/1875 | Loss: 0.0240\n",
            "Epoch: 001/020 | Batch 0750/1875 | Loss: 0.0281\n",
            "Epoch: 001/020 | Batch 1000/1875 | Loss: 0.0200\n",
            "Epoch: 001/020 | Batch 1250/1875 | Loss: 0.0211\n",
            "Epoch: 001/020 | Batch 1500/1875 | Loss: 0.0210\n",
            "Epoch: 001/020 | Batch 1750/1875 | Loss: 0.0176\n",
            "Time elapsed: 0.88 min\n",
            "Epoch: 002/020 | Batch 0000/1875 | Loss: 0.0212\n",
            "Epoch: 002/020 | Batch 0250/1875 | Loss: 0.0191\n",
            "Epoch: 002/020 | Batch 0500/1875 | Loss: 0.0181\n",
            "Epoch: 002/020 | Batch 0750/1875 | Loss: 0.0208\n",
            "Epoch: 002/020 | Batch 1000/1875 | Loss: 0.0185\n",
            "Epoch: 002/020 | Batch 1250/1875 | Loss: 0.0189\n",
            "Epoch: 002/020 | Batch 1500/1875 | Loss: 0.0213\n",
            "Epoch: 002/020 | Batch 1750/1875 | Loss: 0.0147\n",
            "Time elapsed: 1.61 min\n",
            "Epoch: 003/020 | Batch 0000/1875 | Loss: 0.0187\n",
            "Epoch: 003/020 | Batch 0250/1875 | Loss: 0.0222\n",
            "Epoch: 003/020 | Batch 0500/1875 | Loss: 0.0184\n",
            "Epoch: 003/020 | Batch 0750/1875 | Loss: 0.0185\n",
            "Epoch: 003/020 | Batch 1000/1875 | Loss: 0.0166\n",
            "Epoch: 003/020 | Batch 1250/1875 | Loss: 0.0171\n",
            "Epoch: 003/020 | Batch 1500/1875 | Loss: 0.0184\n",
            "Epoch: 003/020 | Batch 1750/1875 | Loss: 0.0158\n",
            "Time elapsed: 2.36 min\n",
            "Epoch: 004/020 | Batch 0000/1875 | Loss: 0.0177\n",
            "Epoch: 004/020 | Batch 0250/1875 | Loss: 0.0206\n",
            "Epoch: 004/020 | Batch 0500/1875 | Loss: 0.0159\n",
            "Epoch: 004/020 | Batch 0750/1875 | Loss: 0.0161\n",
            "Epoch: 004/020 | Batch 1000/1875 | Loss: 0.0188\n",
            "Epoch: 004/020 | Batch 1250/1875 | Loss: 0.0163\n",
            "Epoch: 004/020 | Batch 1500/1875 | Loss: 0.0190\n",
            "Epoch: 004/020 | Batch 1750/1875 | Loss: 0.0187\n",
            "Time elapsed: 3.11 min\n",
            "Epoch: 005/020 | Batch 0000/1875 | Loss: 0.0183\n",
            "Epoch: 005/020 | Batch 0250/1875 | Loss: 0.0149\n",
            "Epoch: 005/020 | Batch 0500/1875 | Loss: 0.0166\n",
            "Epoch: 005/020 | Batch 0750/1875 | Loss: 0.0150\n",
            "Epoch: 005/020 | Batch 1000/1875 | Loss: 0.0156\n",
            "Epoch: 005/020 | Batch 1250/1875 | Loss: 0.0169\n",
            "Epoch: 005/020 | Batch 1500/1875 | Loss: 0.0162\n",
            "Epoch: 005/020 | Batch 1750/1875 | Loss: 0.0162\n",
            "Time elapsed: 3.84 min\n",
            "Epoch: 006/020 | Batch 0000/1875 | Loss: 0.0167\n",
            "Epoch: 006/020 | Batch 0250/1875 | Loss: 0.0170\n",
            "Epoch: 006/020 | Batch 0500/1875 | Loss: 0.0154\n",
            "Epoch: 006/020 | Batch 0750/1875 | Loss: 0.0202\n",
            "Epoch: 006/020 | Batch 1000/1875 | Loss: 0.0137\n",
            "Epoch: 006/020 | Batch 1250/1875 | Loss: 0.0159\n",
            "Epoch: 006/020 | Batch 1500/1875 | Loss: 0.0162\n",
            "Epoch: 006/020 | Batch 1750/1875 | Loss: 0.0164\n",
            "Time elapsed: 4.58 min\n",
            "Epoch: 007/020 | Batch 0000/1875 | Loss: 0.0154\n",
            "Epoch: 007/020 | Batch 0250/1875 | Loss: 0.0161\n",
            "Epoch: 007/020 | Batch 0500/1875 | Loss: 0.0160\n",
            "Epoch: 007/020 | Batch 0750/1875 | Loss: 0.0119\n",
            "Epoch: 007/020 | Batch 1000/1875 | Loss: 0.0160\n",
            "Epoch: 007/020 | Batch 1250/1875 | Loss: 0.0131\n",
            "Epoch: 007/020 | Batch 1500/1875 | Loss: 0.0144\n",
            "Epoch: 007/020 | Batch 1750/1875 | Loss: 0.0146\n",
            "Time elapsed: 5.33 min\n",
            "Epoch: 008/020 | Batch 0000/1875 | Loss: 0.0173\n",
            "Epoch: 008/020 | Batch 0250/1875 | Loss: 0.0130\n",
            "Epoch: 008/020 | Batch 0500/1875 | Loss: 0.0155\n",
            "Epoch: 008/020 | Batch 0750/1875 | Loss: 0.0149\n",
            "Epoch: 008/020 | Batch 1000/1875 | Loss: 0.0152\n",
            "Epoch: 008/020 | Batch 1250/1875 | Loss: 0.0163\n",
            "Epoch: 008/020 | Batch 1500/1875 | Loss: 0.0147\n",
            "Epoch: 008/020 | Batch 1750/1875 | Loss: 0.0173\n",
            "Time elapsed: 6.09 min\n",
            "Epoch: 009/020 | Batch 0000/1875 | Loss: 0.0150\n",
            "Epoch: 009/020 | Batch 0250/1875 | Loss: 0.0143\n",
            "Epoch: 009/020 | Batch 0500/1875 | Loss: 0.0170\n",
            "Epoch: 009/020 | Batch 0750/1875 | Loss: 0.0191\n",
            "Epoch: 009/020 | Batch 1000/1875 | Loss: 0.0157\n",
            "Epoch: 009/020 | Batch 1250/1875 | Loss: 0.0135\n",
            "Epoch: 009/020 | Batch 1500/1875 | Loss: 0.0148\n",
            "Epoch: 009/020 | Batch 1750/1875 | Loss: 0.0133\n",
            "Time elapsed: 6.83 min\n",
            "Epoch: 010/020 | Batch 0000/1875 | Loss: 0.0149\n",
            "Epoch: 010/020 | Batch 0250/1875 | Loss: 0.0146\n",
            "Epoch: 010/020 | Batch 0500/1875 | Loss: 0.0152\n",
            "Epoch: 010/020 | Batch 0750/1875 | Loss: 0.0130\n",
            "Epoch: 010/020 | Batch 1000/1875 | Loss: 0.0150\n",
            "Epoch: 010/020 | Batch 1250/1875 | Loss: 0.0164\n",
            "Epoch: 010/020 | Batch 1500/1875 | Loss: 0.0124\n",
            "Epoch: 010/020 | Batch 1750/1875 | Loss: 0.0144\n",
            "Time elapsed: 7.57 min\n",
            "Epoch: 011/020 | Batch 0000/1875 | Loss: 0.0176\n",
            "Epoch: 011/020 | Batch 0250/1875 | Loss: 0.0136\n",
            "Epoch: 011/020 | Batch 0500/1875 | Loss: 0.0133\n",
            "Epoch: 011/020 | Batch 0750/1875 | Loss: 0.0137\n",
            "Epoch: 011/020 | Batch 1000/1875 | Loss: 0.0124\n",
            "Epoch: 011/020 | Batch 1250/1875 | Loss: 0.0170\n",
            "Epoch: 011/020 | Batch 1500/1875 | Loss: 0.0124\n",
            "Epoch: 011/020 | Batch 1750/1875 | Loss: 0.0147\n",
            "Time elapsed: 8.30 min\n",
            "Epoch: 012/020 | Batch 0000/1875 | Loss: 0.0160\n",
            "Epoch: 012/020 | Batch 0250/1875 | Loss: 0.0141\n",
            "Epoch: 012/020 | Batch 0500/1875 | Loss: 0.0146\n",
            "Epoch: 012/020 | Batch 0750/1875 | Loss: 0.0127\n",
            "Epoch: 012/020 | Batch 1000/1875 | Loss: 0.0133\n",
            "Epoch: 012/020 | Batch 1250/1875 | Loss: 0.0178\n",
            "Epoch: 012/020 | Batch 1500/1875 | Loss: 0.0116\n",
            "Epoch: 012/020 | Batch 1750/1875 | Loss: 0.0139\n",
            "Time elapsed: 9.04 min\n",
            "Epoch: 013/020 | Batch 0000/1875 | Loss: 0.0133\n",
            "Epoch: 013/020 | Batch 0250/1875 | Loss: 0.0142\n",
            "Epoch: 013/020 | Batch 0500/1875 | Loss: 0.0178\n",
            "Epoch: 013/020 | Batch 0750/1875 | Loss: 0.0140\n",
            "Epoch: 013/020 | Batch 1000/1875 | Loss: 0.0141\n",
            "Epoch: 013/020 | Batch 1250/1875 | Loss: 0.0132\n",
            "Epoch: 013/020 | Batch 1500/1875 | Loss: 0.0155\n",
            "Epoch: 013/020 | Batch 1750/1875 | Loss: 0.0153\n",
            "Time elapsed: 9.78 min\n",
            "Epoch: 014/020 | Batch 0000/1875 | Loss: 0.0145\n",
            "Epoch: 014/020 | Batch 0250/1875 | Loss: 0.0130\n",
            "Epoch: 014/020 | Batch 0500/1875 | Loss: 0.0140\n",
            "Epoch: 014/020 | Batch 0750/1875 | Loss: 0.0148\n",
            "Epoch: 014/020 | Batch 1000/1875 | Loss: 0.0152\n",
            "Epoch: 014/020 | Batch 1250/1875 | Loss: 0.0133\n",
            "Epoch: 014/020 | Batch 1500/1875 | Loss: 0.0175\n",
            "Epoch: 014/020 | Batch 1750/1875 | Loss: 0.0136\n",
            "Time elapsed: 10.54 min\n",
            "Epoch: 015/020 | Batch 0000/1875 | Loss: 0.0145\n",
            "Epoch: 015/020 | Batch 0250/1875 | Loss: 0.0159\n",
            "Epoch: 015/020 | Batch 0500/1875 | Loss: 0.0149\n",
            "Epoch: 015/020 | Batch 0750/1875 | Loss: 0.0132\n",
            "Epoch: 015/020 | Batch 1000/1875 | Loss: 0.0144\n",
            "Epoch: 015/020 | Batch 1250/1875 | Loss: 0.0117\n",
            "Epoch: 015/020 | Batch 1500/1875 | Loss: 0.0139\n",
            "Epoch: 015/020 | Batch 1750/1875 | Loss: 0.0143\n",
            "Time elapsed: 11.27 min\n",
            "Epoch: 016/020 | Batch 0000/1875 | Loss: 0.0124\n",
            "Epoch: 016/020 | Batch 0250/1875 | Loss: 0.0149\n",
            "Epoch: 016/020 | Batch 0500/1875 | Loss: 0.0132\n",
            "Epoch: 016/020 | Batch 0750/1875 | Loss: 0.0144\n",
            "Epoch: 016/020 | Batch 1000/1875 | Loss: 0.0136\n",
            "Epoch: 016/020 | Batch 1250/1875 | Loss: 0.0117\n",
            "Epoch: 016/020 | Batch 1500/1875 | Loss: 0.0148\n",
            "Epoch: 016/020 | Batch 1750/1875 | Loss: 0.0131\n",
            "Time elapsed: 12.01 min\n",
            "Epoch: 017/020 | Batch 0000/1875 | Loss: 0.0136\n",
            "Epoch: 017/020 | Batch 0250/1875 | Loss: 0.0114\n",
            "Epoch: 017/020 | Batch 0500/1875 | Loss: 0.0143\n",
            "Epoch: 017/020 | Batch 0750/1875 | Loss: 0.0142\n",
            "Epoch: 017/020 | Batch 1000/1875 | Loss: 0.0138\n",
            "Epoch: 017/020 | Batch 1250/1875 | Loss: 0.0140\n",
            "Epoch: 017/020 | Batch 1500/1875 | Loss: 0.0128\n",
            "Epoch: 017/020 | Batch 1750/1875 | Loss: 0.0143\n",
            "Time elapsed: 12.74 min\n",
            "Epoch: 018/020 | Batch 0000/1875 | Loss: 0.0138\n",
            "Epoch: 018/020 | Batch 0250/1875 | Loss: 0.0128\n",
            "Epoch: 018/020 | Batch 0500/1875 | Loss: 0.0106\n",
            "Epoch: 018/020 | Batch 0750/1875 | Loss: 0.0119\n",
            "Epoch: 018/020 | Batch 1000/1875 | Loss: 0.0137\n",
            "Epoch: 018/020 | Batch 1250/1875 | Loss: 0.0132\n",
            "Epoch: 018/020 | Batch 1500/1875 | Loss: 0.0140\n",
            "Epoch: 018/020 | Batch 1750/1875 | Loss: 0.0137\n",
            "Time elapsed: 13.49 min\n",
            "Epoch: 019/020 | Batch 0000/1875 | Loss: 0.0136\n",
            "Epoch: 019/020 | Batch 0250/1875 | Loss: 0.0126\n",
            "Epoch: 019/020 | Batch 0500/1875 | Loss: 0.0148\n",
            "Epoch: 019/020 | Batch 0750/1875 | Loss: 0.0152\n",
            "Epoch: 019/020 | Batch 1000/1875 | Loss: 0.0131\n",
            "Epoch: 019/020 | Batch 1250/1875 | Loss: 0.0141\n",
            "Epoch: 019/020 | Batch 1500/1875 | Loss: 0.0133\n",
            "Epoch: 019/020 | Batch 1750/1875 | Loss: 0.0130\n",
            "Time elapsed: 14.23 min\n",
            "Epoch: 020/020 | Batch 0000/1875 | Loss: 0.0144\n",
            "Epoch: 020/020 | Batch 0250/1875 | Loss: 0.0124\n",
            "Epoch: 020/020 | Batch 0500/1875 | Loss: 0.0130\n",
            "Epoch: 020/020 | Batch 0750/1875 | Loss: 0.0083\n",
            "Epoch: 020/020 | Batch 1000/1875 | Loss: 0.0148\n",
            "Epoch: 020/020 | Batch 1250/1875 | Loss: 0.0119\n",
            "Epoch: 020/020 | Batch 1500/1875 | Loss: 0.0133\n",
            "Epoch: 020/020 | Batch 1750/1875 | Loss: 0.0133\n",
            "Time elapsed: 14.99 min\n",
            "Total Training Time: 14.99 min\n"
          ]
        }
      ],
      "source": [
        "log_dict = train_autoencoder_v1(num_epochs=NUM_EPOCHS, model=model,\n",
        "                                optimizer=optimizer, device=DEVICE,\n",
        "                                train_loader=train_loader,\n",
        "                                skip_epoch_stats=True,\n",
        "                                logging_interval=250)"
      ]
    },
    {
      "cell_type": "markdown",
      "metadata": {
        "id": "9ePcBi5sD06_"
      },
      "source": [
        "## Evaluation"
      ]
    },
    {
      "cell_type": "code",
      "execution_count": null,
      "metadata": {
        "colab": {
          "base_uri": "https://localhost:8080/",
          "height": 297
        },
        "id": "4f60j0fpD06_",
        "outputId": "adf53a12-5af2-4312-8d94-328769f216d3"
      },
      "outputs": [
        {
          "output_type": "display_data",
          "data": {
            "text/plain": [
              "<Figure size 432x288 with 2 Axes>"
            ],
            "image/png": "[encoded data removed]"
          },
          "metadata": {
            "needs_background": "light"
          }
        }
      ],
      "source": [
        "plot_training_loss(log_dict['train_loss_per_batch'], NUM_EPOCHS)\n",
        "plt.show()"
      ]
    },
    {
      "cell_type": "code",
      "execution_count": null,
      "metadata": {
        "colab": {
          "base_uri": "https://localhost:8080/",
          "height": 157
        },
        "id": "ATuWv-VpD06_",
        "outputId": "567890ce-9e24-486e-ee62-d840c35c790c"
      },
      "outputs": [
        {
          "output_type": "display_data",
          "data": {
            "text/plain": [
              "<Figure size 1440x180 with 30 Axes>"
            ],
            "image/png": "[encoded data removed]"
          },
          "metadata": {
            "needs_background": "light"
          }
        }
      ],
      "source": [
        "plot_generated_images(data_loader=train_loader, model=model, device=DEVICE)"
      ]
    }
  ],
  "metadata": {
    "accelerator": "GPU",
    "colab": {
      "provenance": []
    },
    "kernelspec": {
      "display_name": "Python 3 (ipykernel)",
      "language": "python",
      "name": "python3"
    },
    "language_info": {
      "codemirror_mode": {
        "name": "ipython",
        "version": 3
      },
      "file_extension": ".py",
      "mimetype": "text/x-python",
      "name": "python",
      "nbconvert_exporter": "python",
      "pygments_lexer": "ipython3",
      "version": "3.10.6"
    },
    "toc": {
      "nav_menu": {},
      "number_sections": true,
      "sideBar": true,
      "skip_h1_title": false,
      "title_cell": "Table of Contents",
      "title_sidebar": "Contents",
      "toc_cell": true,
      "toc_position": {
        "height": "calc(100% - 180px)",
        "left": "10px",
        "top": "150px",
        "width": "371px"
      },
      "toc_section_display": true,
      "toc_window_display": true
    },
    "widgets": {
      "application/vnd.jupyter.widget-state+json": {
        "e3dec8b9a67f44a1bb279dcd1c50e867": {
          "model_module": "@jupyter-widgets/controls",
          "model_name": "HBoxModel",
          "model_module_version": "1.5.0",
          "state": {
            "_dom_classes": [],
            "_model_module": "@jupyter-widgets/controls",
            "_model_module_version": "1.5.0",
            "_model_name": "HBoxModel",
            "_view_count": null,
            "_view_module": "@jupyter-widgets/controls",
            "_view_module_version": "1.5.0",
            "_view_name": "HBoxView",
            "box_style": "",
            "children": [
              "IPY_MODEL_beae5f1774334c26bbe718acb2cd699f",
              "IPY_MODEL_2b2b7e62dc4846c7a776168c57f1ddf7",
              "IPY_MODEL_f65ea59aace34aa994fc90ff08deed3b"
            ],
            "layout": "IPY_MODEL_acef18ba59ea4a66b705cd6bd6a4ee6a"
          }
        },
        "beae5f1774334c26bbe718acb2cd699f": {
          "model_module": "@jupyter-widgets/controls",
          "model_name": "HTMLModel",
          "model_module_version": "1.5.0",
          "state": {
            "_dom_classes": [],
            "_model_module": "@jupyter-widgets/controls",
            "_model_module_version": "1.5.0",
            "_model_name": "HTMLModel",
            "_view_count": null,
            "_view_module": "@jupyter-widgets/controls",
            "_view_module_version": "1.5.0",
            "_view_name": "HTMLView",
            "description": "",
            "description_tooltip": null,
            "layout": "IPY_MODEL_b2e9a95b7fa343f29b241b024af7a3c3",
            "placeholder": "​",
            "style": "IPY_MODEL_17d8ab430d0c491f91ef77d5fb37aaf0",
            "value": "100%"
          }
        },
        "2b2b7e62dc4846c7a776168c57f1ddf7": {
          "model_module": "@jupyter-widgets/controls",
          "model_name": "FloatProgressModel",
          "model_module_version": "1.5.0",
          "state": {
            "_dom_classes": [],
            "_model_module": "@jupyter-widgets/controls",
            "_model_module_version": "1.5.0",
            "_model_name": "FloatProgressModel",
            "_view_count": null,
            "_view_module": "@jupyter-widgets/controls",
            "_view_module_version": "1.5.0",
            "_view_name": "ProgressView",
            "bar_style": "success",
            "description": "",
            "description_tooltip": null,
            "layout": "IPY_MODEL_7b25b761740a480ca29149ea2edbedc9",
            "max": 9912422,
            "min": 0,
            "orientation": "horizontal",
            "style": "IPY_MODEL_53ca03b6b28240ef8355c6c19c087a30",
            "value": 9912422
          }
        },
        "f65ea59aace34aa994fc90ff08deed3b": {
          "model_module": "@jupyter-widgets/controls",
          "model_name": "HTMLModel",
          "model_module_version": "1.5.0",
          "state": {
            "_dom_classes": [],
            "_model_module": "@jupyter-widgets/controls",
            "_model_module_version": "1.5.0",
            "_model_name": "HTMLModel",
            "_view_count": null,
            "_view_module": "@jupyter-widgets/controls",
            "_view_module_version": "1.5.0",
            "_view_name": "HTMLView",
            "description": "",
            "description_tooltip": null,
            "layout": "IPY_MODEL_53fafd776683469b93856f40481d4798",
            "placeholder": "​",
            "style": "IPY_MODEL_ea109d27475c47b9b4d2564010616b4b",
            "value": " 9912422/9912422 [00:00&lt;00:00, 100471018.55it/s]"
          }
        },
        "acef18ba59ea4a66b705cd6bd6a4ee6a": {
          "model_module": "@jupyter-widgets/base",
          "model_name": "LayoutModel",
          "model_module_version": "1.2.0",
          "state": {
            "_model_module": "@jupyter-widgets/base",
            "_model_module_version": "1.2.0",
            "_model_name": "LayoutModel",
            "_view_count": null,
            "_view_module": "@jupyter-widgets/base",
            "_view_module_version": "1.2.0",
            "_view_name": "LayoutView",
            "align_content": null,
            "align_items": null,
            "align_self": null,
            "border": null,
            "bottom": null,
            "display": null,
            "flex": null,
            "flex_flow": null,
            "grid_area": null,
            "grid_auto_columns": null,
            "grid_auto_flow": null,
            "grid_auto_rows": null,
            "grid_column": null,
            "grid_gap": null,
            "grid_row": null,
            "grid_template_areas": null,
            "grid_template_columns": null,
            "grid_template_rows": null,
            "height": null,
            "justify_content": null,
            "justify_items": null,
            "left": null,
            "margin": null,
            "max_height": null,
            "max_width": null,
            "min_height": null,
            "min_width": null,
            "object_fit": null,
            "object_position": null,
            "order": null,
            "overflow": null,
            "overflow_x": null,
            "overflow_y": null,
            "padding": null,
            "right": null,
            "top": null,
            "visibility": null,
            "width": null
          }
        },
        "b2e9a95b7fa343f29b241b024af7a3c3": {
          "model_module": "@jupyter-widgets/base",
          "model_name": "LayoutModel",
          "model_module_version": "1.2.0",
          "state": {
            "_model_module": "@jupyter-widgets/base",
            "_model_module_version": "1.2.0",
            "_model_name": "LayoutModel",
            "_view_count": null,
            "_view_module": "@jupyter-widgets/base",
            "_view_module_version": "1.2.0",
            "_view_name": "LayoutView",
            "align_content": null,
            "align_items": null,
            "align_self": null,
            "border": null,
            "bottom": null,
            "display": null,
            "flex": null,
            "flex_flow": null,
            "grid_area": null,
            "grid_auto_columns": null,
            "grid_auto_flow": null,
            "grid_auto_rows": null,
            "grid_column": null,
            "grid_gap": null,
            "grid_row": null,
            "grid_template_areas": null,
            "grid_template_columns": null,
            "grid_template_rows": null,
            "height": null,
            "justify_content": null,
            "justify_items": null,
            "left": null,
            "margin": null,
            "max_height": null,
            "max_width": null,
            "min_height": null,
            "min_width": null,
            "object_fit": null,
            "object_position": null,
            "order": null,
            "overflow": null,
            "overflow_x": null,
            "overflow_y": null,
            "padding": null,
            "right": null,
            "top": null,
            "visibility": null,
            "width": null
          }
        },
        "17d8ab430d0c491f91ef77d5fb37aaf0": {
          "model_module": "@jupyter-widgets/controls",
          "model_name": "DescriptionStyleModel",
          "model_module_version": "1.5.0",
          "state": {
            "_model_module": "@jupyter-widgets/controls",
            "_model_module_version": "1.5.0",
            "_model_name": "DescriptionStyleModel",
            "_view_count": null,
            "_view_module": "@jupyter-widgets/base",
            "_view_module_version": "1.2.0",
            "_view_name": "StyleView",
            "description_width": ""
          }
        },
        "7b25b761740a480ca29149ea2edbedc9": {
          "model_module": "@jupyter-widgets/base",
          "model_name": "LayoutModel",
          "model_module_version": "1.2.0",
          "state": {
            "_model_module": "@jupyter-widgets/base",
            "_model_module_version": "1.2.0",
            "_model_name": "LayoutModel",
            "_view_count": null,
            "_view_module": "@jupyter-widgets/base",
            "_view_module_version": "1.2.0",
            "_view_name": "LayoutView",
            "align_content": null,
            "align_items": null,
            "align_self": null,
            "border": null,
            "bottom": null,
            "display": null,
            "flex": null,
            "flex_flow": null,
            "grid_area": null,
            "grid_auto_columns": null,
            "grid_auto_flow": null,
            "grid_auto_rows": null,
            "grid_column": null,
            "grid_gap": null,
            "grid_row": null,
            "grid_template_areas": null,
            "grid_template_columns": null,
            "grid_template_rows": null,
            "height": null,
            "justify_content": null,
            "justify_items": null,
            "left": null,
            "margin": null,
            "max_height": null,
            "max_width": null,
            "min_height": null,
            "min_width": null,
            "object_fit": null,
            "object_position": null,
            "order": null,
            "overflow": null,
            "overflow_x": null,
            "overflow_y": null,
            "padding": null,
            "right": null,
            "top": null,
            "visibility": null,
            "width": null
          }
        },
        "53ca03b6b28240ef8355c6c19c087a30": {
          "model_module": "@jupyter-widgets/controls",
          "model_name": "ProgressStyleModel",
          "model_module_version": "1.5.0",
          "state": {
            "_model_module": "@jupyter-widgets/controls",
            "_model_module_version": "1.5.0",
            "_model_name": "ProgressStyleModel",
            "_view_count": null,
            "_view_module": "@jupyter-widgets/base",
            "_view_module_version": "1.2.0",
            "_view_name": "StyleView",
            "bar_color": null,
            "description_width": ""
          }
        },
        "53fafd776683469b93856f40481d4798": {
          "model_module": "@jupyter-widgets/base",
          "model_name": "LayoutModel",
          "model_module_version": "1.2.0",
          "state": {
            "_model_module": "@jupyter-widgets/base",
            "_model_module_version": "1.2.0",
            "_model_name": "LayoutModel",
            "_view_count": null,
            "_view_module": "@jupyter-widgets/base",
            "_view_module_version": "1.2.0",
            "_view_name": "LayoutView",
            "align_content": null,
            "align_items": null,
            "align_self": null,
            "border": null,
            "bottom": null,
            "display": null,
            "flex": null,
            "flex_flow": null,
            "grid_area": null,
            "grid_auto_columns": null,
            "grid_auto_flow": null,
            "grid_auto_rows": null,
            "grid_column": null,
            "grid_gap": null,
            "grid_row": null,
            "grid_template_areas": null,
            "grid_template_columns": null,
            "grid_template_rows": null,
            "height": null,
            "justify_content": null,
            "justify_items": null,
            "left": null,
            "margin": null,
            "max_height": null,
            "max_width": null,
            "min_height": null,
            "min_width": null,
            "object_fit": null,
            "object_position": null,
            "order": null,
            "overflow": null,
            "overflow_x": null,
            "overflow_y": null,
            "padding": null,
            "right": null,
            "top": null,
            "visibility": null,
            "width": null
          }
        },
        "ea109d27475c47b9b4d2564010616b4b": {
          "model_module": "@jupyter-widgets/controls",
          "model_name": "DescriptionStyleModel",
          "model_module_version": "1.5.0",
          "state": {
            "_model_module": "@jupyter-widgets/controls",
            "_model_module_version": "1.5.0",
            "_model_name": "DescriptionStyleModel",
            "_view_count": null,
            "_view_module": "@jupyter-widgets/base",
            "_view_module_version": "1.2.0",
            "_view_name": "StyleView",
            "description_width": ""
          }
        },
        "6404cc09caba4de1a80627d218760bb2": {
          "model_module": "@jupyter-widgets/controls",
          "model_name": "HBoxModel",
          "model_module_version": "1.5.0",
          "state": {
            "_dom_classes": [],
            "_model_module": "@jupyter-widgets/controls",
            "_model_module_version": "1.5.0",
            "_model_name": "HBoxModel",
            "_view_count": null,
            "_view_module": "@jupyter-widgets/controls",
            "_view_module_version": "1.5.0",
            "_view_name": "HBoxView",
            "box_style": "",
            "children": [
              "IPY_MODEL_0b4e4108807d45fc9c70d247a8432788",
              "IPY_MODEL_6d99c6d4056b44bc812eb140c1747875",
              "IPY_MODEL_a3466d4d740a4121ae56290fab936d41"
            ],
            "layout": "IPY_MODEL_87fd7d425a0f47cd88b027493ac8cbc4"
          }
        },
        "0b4e4108807d45fc9c70d247a8432788": {
          "model_module": "@jupyter-widgets/controls",
          "model_name": "HTMLModel",
          "model_module_version": "1.5.0",
          "state": {
            "_dom_classes": [],
            "_model_module": "@jupyter-widgets/controls",
            "_model_module_version": "1.5.0",
            "_model_name": "HTMLModel",
            "_view_count": null,
            "_view_module": "@jupyter-widgets/controls",
            "_view_module_version": "1.5.0",
            "_view_name": "HTMLView",
            "description": "",
            "description_tooltip": null,
            "layout": "IPY_MODEL_a33300fc8685486eb34b0c03c40eadf0",
            "placeholder": "​",
            "style": "IPY_MODEL_6cf7a3e220b24a1fa97db34ba5dd2ff4",
            "value": "100%"
          }
        },
        "6d99c6d4056b44bc812eb140c1747875": {
          "model_module": "@jupyter-widgets/controls",
          "model_name": "FloatProgressModel",
          "model_module_version": "1.5.0",
          "state": {
            "_dom_classes": [],
            "_model_module": "@jupyter-widgets/controls",
            "_model_module_version": "1.5.0",
            "_model_name": "FloatProgressModel",
            "_view_count": null,
            "_view_module": "@jupyter-widgets/controls",
            "_view_module_version": "1.5.0",
            "_view_name": "ProgressView",
            "bar_style": "success",
            "description": "",
            "description_tooltip": null,
            "layout": "IPY_MODEL_9b5677ce833e46bd85e319dabc2625cd",
            "max": 28881,
            "min": 0,
            "orientation": "horizontal",
            "style": "IPY_MODEL_53251df37da64d9a869cf4fbf18ef54b",
            "value": 28881
          }
        },
        "a3466d4d740a4121ae56290fab936d41": {
          "model_module": "@jupyter-widgets/controls",
          "model_name": "HTMLModel",
          "model_module_version": "1.5.0",
          "state": {
            "_dom_classes": [],
            "_model_module": "@jupyter-widgets/controls",
            "_model_module_version": "1.5.0",
            "_model_name": "HTMLModel",
            "_view_count": null,
            "_view_module": "@jupyter-widgets/controls",
            "_view_module_version": "1.5.0",
            "_view_name": "HTMLView",
            "description": "",
            "description_tooltip": null,
            "layout": "IPY_MODEL_2040c6b822e646dda6eabf898a0c7c5e",
            "placeholder": "​",
            "style": "IPY_MODEL_31c4de6a8d7e4c7186cbd2a2af0e8731",
            "value": " 28881/28881 [00:00&lt;00:00, 496585.98it/s]"
          }
        },
        "87fd7d425a0f47cd88b027493ac8cbc4": {
          "model_module": "@jupyter-widgets/base",
          "model_name": "LayoutModel",
          "model_module_version": "1.2.0",
          "state": {
            "_model_module": "@jupyter-widgets/base",
            "_model_module_version": "1.2.0",
            "_model_name": "LayoutModel",
            "_view_count": null,
            "_view_module": "@jupyter-widgets/base",
            "_view_module_version": "1.2.0",
            "_view_name": "LayoutView",
            "align_content": null,
            "align_items": null,
            "align_self": null,
            "border": null,
            "bottom": null,
            "display": null,
            "flex": null,
            "flex_flow": null,
            "grid_area": null,
            "grid_auto_columns": null,
            "grid_auto_flow": null,
            "grid_auto_rows": null,
            "grid_column": null,
            "grid_gap": null,
            "grid_row": null,
            "grid_template_areas": null,
            "grid_template_columns": null,
            "grid_template_rows": null,
            "height": null,
            "justify_content": null,
            "justify_items": null,
            "left": null,
            "margin": null,
            "max_height": null,
            "max_width": null,
            "min_height": null,
            "min_width": null,
            "object_fit": null,
            "object_position": null,
            "order": null,
            "overflow": null,
            "overflow_x": null,
            "overflow_y": null,
            "padding": null,
            "right": null,
            "top": null,
            "visibility": null,
            "width": null
          }
        },
        "a33300fc8685486eb34b0c03c40eadf0": {
          "model_module": "@jupyter-widgets/base",
          "model_name": "LayoutModel",
          "model_module_version": "1.2.0",
          "state": {
            "_model_module": "@jupyter-widgets/base",
            "_model_module_version": "1.2.0",
            "_model_name": "LayoutModel",
            "_view_count": null,
            "_view_module": "@jupyter-widgets/base",
            "_view_module_version": "1.2.0",
            "_view_name": "LayoutView",
            "align_content": null,
            "align_items": null,
            "align_self": null,
            "border": null,
            "bottom": null,
            "display": null,
            "flex": null,
            "flex_flow": null,
            "grid_area": null,
            "grid_auto_columns": null,
            "grid_auto_flow": null,
            "grid_auto_rows": null,
            "grid_column": null,
            "grid_gap": null,
            "grid_row": null,
            "grid_template_areas": null,
            "grid_template_columns": null,
            "grid_template_rows": null,
            "height": null,
            "justify_content": null,
            "justify_items": null,
            "left": null,
            "margin": null,
            "max_height": null,
            "max_width": null,
            "min_height": null,
            "min_width": null,
            "object_fit": null,
            "object_position": null,
            "order": null,
            "overflow": null,
            "overflow_x": null,
            "overflow_y": null,
            "padding": null,
            "right": null,
            "top": null,
            "visibility": null,
            "width": null
          }
        },
        "6cf7a3e220b24a1fa97db34ba5dd2ff4": {
          "model_module": "@jupyter-widgets/controls",
          "model_name": "DescriptionStyleModel",
          "model_module_version": "1.5.0",
          "state": {
            "_model_module": "@jupyter-widgets/controls",
            "_model_module_version": "1.5.0",
            "_model_name": "DescriptionStyleModel",
            "_view_count": null,
            "_view_module": "@jupyter-widgets/base",
            "_view_module_version": "1.2.0",
            "_view_name": "StyleView",
            "description_width": ""
          }
        },
        "9b5677ce833e46bd85e319dabc2625cd": {
          "model_module": "@jupyter-widgets/base",
          "model_name": "LayoutModel",
          "model_module_version": "1.2.0",
          "state": {
            "_model_module": "@jupyter-widgets/base",
            "_model_module_version": "1.2.0",
            "_model_name": "LayoutModel",
            "_view_count": null,
            "_view_module": "@jupyter-widgets/base",
            "_view_module_version": "1.2.0",
            "_view_name": "LayoutView",
            "align_content": null,
            "align_items": null,
            "align_self": null,
            "border": null,
            "bottom": null,
            "display": null,
            "flex": null,
            "flex_flow": null,
            "grid_area": null,
            "grid_auto_columns": null,
            "grid_auto_flow": null,
            "grid_auto_rows": null,
            "grid_column": null,
            "grid_gap": null,
            "grid_row": null,
            "grid_template_areas": null,
            "grid_template_columns": null,
            "grid_template_rows": null,
            "height": null,
            "justify_content": null,
            "justify_items": null,
            "left": null,
            "margin": null,
            "max_height": null,
            "max_width": null,
            "min_height": null,
            "min_width": null,
            "object_fit": null,
            "object_position": null,
            "order": null,
            "overflow": null,
            "overflow_x": null,
            "overflow_y": null,
            "padding": null,
            "right": null,
            "top": null,
            "visibility": null,
            "width": null
          }
        },
        "53251df37da64d9a869cf4fbf18ef54b": {
          "model_module": "@jupyter-widgets/controls",
          "model_name": "ProgressStyleModel",
          "model_module_version": "1.5.0",
          "state": {
            "_model_module": "@jupyter-widgets/controls",
            "_model_module_version": "1.5.0",
            "_model_name": "ProgressStyleModel",
            "_view_count": null,
            "_view_module": "@jupyter-widgets/base",
            "_view_module_version": "1.2.0",
            "_view_name": "StyleView",
            "bar_color": null,
            "description_width": ""
          }
        },
        "2040c6b822e646dda6eabf898a0c7c5e": {
          "model_module": "@jupyter-widgets/base",
          "model_name": "LayoutModel",
          "model_module_version": "1.2.0",
          "state": {
            "_model_module": "@jupyter-widgets/base",
            "_model_module_version": "1.2.0",
            "_model_name": "LayoutModel",
            "_view_count": null,
            "_view_module": "@jupyter-widgets/base",
            "_view_module_version": "1.2.0",
            "_view_name": "LayoutView",
            "align_content": null,
            "align_items": null,
            "align_self": null,
            "border": null,
            "bottom": null,
            "display": null,
            "flex": null,
            "flex_flow": null,
            "grid_area": null,
            "grid_auto_columns": null,
            "grid_auto_flow": null,
            "grid_auto_rows": null,
            "grid_column": null,
            "grid_gap": null,
            "grid_row": null,
            "grid_template_areas": null,
            "grid_template_columns": null,
            "grid_template_rows": null,
            "height": null,
            "justify_content": null,
            "justify_items": null,
            "left": null,
            "margin": null,
            "max_height": null,
            "max_width": null,
            "min_height": null,
            "min_width": null,
            "object_fit": null,
            "object_position": null,
            "order": null,
            "overflow": null,
            "overflow_x": null,
            "overflow_y": null,
            "padding": null,
            "right": null,
            "top": null,
            "visibility": null,
            "width": null
          }
        },
        "31c4de6a8d7e4c7186cbd2a2af0e8731": {
          "model_module": "@jupyter-widgets/controls",
          "model_name": "DescriptionStyleModel",
          "model_module_version": "1.5.0",
          "state": {
            "_model_module": "@jupyter-widgets/controls",
            "_model_module_version": "1.5.0",
            "_model_name": "DescriptionStyleModel",
            "_view_count": null,
            "_view_module": "@jupyter-widgets/base",
            "_view_module_version": "1.2.0",
            "_view_name": "StyleView",
            "description_width": ""
          }
        },
        "dee25744472747c0b866a751b71e7708": {
          "model_module": "@jupyter-widgets/controls",
          "model_name": "HBoxModel",
          "model_module_version": "1.5.0",
          "state": {
            "_dom_classes": [],
            "_model_module": "@jupyter-widgets/controls",
            "_model_module_version": "1.5.0",
            "_model_name": "HBoxModel",
            "_view_count": null,
            "_view_module": "@jupyter-widgets/controls",
            "_view_module_version": "1.5.0",
            "_view_name": "HBoxView",
            "box_style": "",
            "children": [
              "IPY_MODEL_d523d6eddcc147048fc9e8898675ee0f",
              "IPY_MODEL_e9d7a8741b8344fabe31a37439f2d550",
              "IPY_MODEL_58810a6d68d9462facc200cdd8fc560f"
            ],
            "layout": "IPY_MODEL_0fcae6b8e07b4bbf977e8eac45ea5488"
          }
        },
        "d523d6eddcc147048fc9e8898675ee0f": {
          "model_module": "@jupyter-widgets/controls",
          "model_name": "HTMLModel",
          "model_module_version": "1.5.0",
          "state": {
            "_dom_classes": [],
            "_model_module": "@jupyter-widgets/controls",
            "_model_module_version": "1.5.0",
            "_model_name": "HTMLModel",
            "_view_count": null,
            "_view_module": "@jupyter-widgets/controls",
            "_view_module_version": "1.5.0",
            "_view_name": "HTMLView",
            "description": "",
            "description_tooltip": null,
            "layout": "IPY_MODEL_7bd1659b6e484d4f92b173abdf3d4970",
            "placeholder": "​",
            "style": "IPY_MODEL_fec5042dcc6e46a09c6e0849acb15f11",
            "value": "100%"
          }
        },
        "e9d7a8741b8344fabe31a37439f2d550": {
          "model_module": "@jupyter-widgets/controls",
          "model_name": "FloatProgressModel",
          "model_module_version": "1.5.0",
          "state": {
            "_dom_classes": [],
            "_model_module": "@jupyter-widgets/controls",
            "_model_module_version": "1.5.0",
            "_model_name": "FloatProgressModel",
            "_view_count": null,
            "_view_module": "@jupyter-widgets/controls",
            "_view_module_version": "1.5.0",
            "_view_name": "ProgressView",
            "bar_style": "success",
            "description": "",
            "description_tooltip": null,
            "layout": "IPY_MODEL_a2f611ec1f144ad795ce93297d21d04d",
            "max": 1648877,
            "min": 0,
            "orientation": "horizontal",
            "style": "IPY_MODEL_6033857d58814162b99403071c1beb3f",
            "value": 1648877
          }
        },
        "58810a6d68d9462facc200cdd8fc560f": {
          "model_module": "@jupyter-widgets/controls",
          "model_name": "HTMLModel",
          "model_module_version": "1.5.0",
          "state": {
            "_dom_classes": [],
            "_model_module": "@jupyter-widgets/controls",
            "_model_module_version": "1.5.0",
            "_model_name": "HTMLModel",
            "_view_count": null,
            "_view_module": "@jupyter-widgets/controls",
            "_view_module_version": "1.5.0",
            "_view_name": "HTMLView",
            "description": "",
            "description_tooltip": null,
            "layout": "IPY_MODEL_45fdb0d77215449ca4562bb9baa99e36",
            "placeholder": "​",
            "style": "IPY_MODEL_a28346a2bcdc4e8faa205f5a61fd1013",
            "value": " 1648877/1648877 [00:00&lt;00:00, 24372927.85it/s]"
          }
        },
        "0fcae6b8e07b4bbf977e8eac45ea5488": {
          "model_module": "@jupyter-widgets/base",
          "model_name": "LayoutModel",
          "model_module_version": "1.2.0",
          "state": {
            "_model_module": "@jupyter-widgets/base",
            "_model_module_version": "1.2.0",
            "_model_name": "LayoutModel",
            "_view_count": null,
            "_view_module": "@jupyter-widgets/base",
            "_view_module_version": "1.2.0",
            "_view_name": "LayoutView",
            "align_content": null,
            "align_items": null,
            "align_self": null,
            "border": null,
            "bottom": null,
            "display": null,
            "flex": null,
            "flex_flow": null,
            "grid_area": null,
            "grid_auto_columns": null,
            "grid_auto_flow": null,
            "grid_auto_rows": null,
            "grid_column": null,
            "grid_gap": null,
            "grid_row": null,
            "grid_template_areas": null,
            "grid_template_columns": null,
            "grid_template_rows": null,
            "height": null,
            "justify_content": null,
            "justify_items": null,
            "left": null,
            "margin": null,
            "max_height": null,
            "max_width": null,
            "min_height": null,
            "min_width": null,
            "object_fit": null,
            "object_position": null,
            "order": null,
            "overflow": null,
            "overflow_x": null,
            "overflow_y": null,
            "padding": null,
            "right": null,
            "top": null,
            "visibility": null,
            "width": null
          }
        },
        "7bd1659b6e484d4f92b173abdf3d4970": {
          "model_module": "@jupyter-widgets/base",
          "model_name": "LayoutModel",
          "model_module_version": "1.2.0",
          "state": {
            "_model_module": "@jupyter-widgets/base",
            "_model_module_version": "1.2.0",
            "_model_name": "LayoutModel",
            "_view_count": null,
            "_view_module": "@jupyter-widgets/base",
            "_view_module_version": "1.2.0",
            "_view_name": "LayoutView",
            "align_content": null,
            "align_items": null,
            "align_self": null,
            "border": null,
            "bottom": null,
            "display": null,
            "flex": null,
            "flex_flow": null,
            "grid_area": null,
            "grid_auto_columns": null,
            "grid_auto_flow": null,
            "grid_auto_rows": null,
            "grid_column": null,
            "grid_gap": null,
            "grid_row": null,
            "grid_template_areas": null,
            "grid_template_columns": null,
            "grid_template_rows": null,
            "height": null,
            "justify_content": null,
            "justify_items": null,
            "left": null,
            "margin": null,
            "max_height": null,
            "max_width": null,
            "min_height": null,
            "min_width": null,
            "object_fit": null,
            "object_position": null,
            "order": null,
            "overflow": null,
            "overflow_x": null,
            "overflow_y": null,
            "padding": null,
            "right": null,
            "top": null,
            "visibility": null,
            "width": null
          }
        },
        "fec5042dcc6e46a09c6e0849acb15f11": {
          "model_module": "@jupyter-widgets/controls",
          "model_name": "DescriptionStyleModel",
          "model_module_version": "1.5.0",
          "state": {
            "_model_module": "@jupyter-widgets/controls",
            "_model_module_version": "1.5.0",
            "_model_name": "DescriptionStyleModel",
            "_view_count": null,
            "_view_module": "@jupyter-widgets/base",
            "_view_module_version": "1.2.0",
            "_view_name": "StyleView",
            "description_width": ""
          }
        },
        "a2f611ec1f144ad795ce93297d21d04d": {
          "model_module": "@jupyter-widgets/base",
          "model_name": "LayoutModel",
          "model_module_version": "1.2.0",
          "state": {
            "_model_module": "@jupyter-widgets/base",
            "_model_module_version": "1.2.0",
            "_model_name": "LayoutModel",
            "_view_count": null,
            "_view_module": "@jupyter-widgets/base",
            "_view_module_version": "1.2.0",
            "_view_name": "LayoutView",
            "align_content": null,
            "align_items": null,
            "align_self": null,
            "border": null,
            "bottom": null,
            "display": null,
            "flex": null,
            "flex_flow": null,
            "grid_area": null,
            "grid_auto_columns": null,
            "grid_auto_flow": null,
            "grid_auto_rows": null,
            "grid_column": null,
            "grid_gap": null,
            "grid_row": null,
            "grid_template_areas": null,
            "grid_template_columns": null,
            "grid_template_rows": null,
            "height": null,
            "justify_content": null,
            "justify_items": null,
            "left": null,
            "margin": null,
            "max_height": null,
            "max_width": null,
            "min_height": null,
            "min_width": null,
            "object_fit": null,
            "object_position": null,
            "order": null,
            "overflow": null,
            "overflow_x": null,
            "overflow_y": null,
            "padding": null,
            "right": null,
            "top": null,
            "visibility": null,
            "width": null
          }
        },
        "6033857d58814162b99403071c1beb3f": {
          "model_module": "@jupyter-widgets/controls",
          "model_name": "ProgressStyleModel",
          "model_module_version": "1.5.0",
          "state": {
            "_model_module": "@jupyter-widgets/controls",
            "_model_module_version": "1.5.0",
            "_model_name": "ProgressStyleModel",
            "_view_count": null,
            "_view_module": "@jupyter-widgets/base",
            "_view_module_version": "1.2.0",
            "_view_name": "StyleView",
            "bar_color": null,
            "description_width": ""
          }
        },
        "45fdb0d77215449ca4562bb9baa99e36": {
          "model_module": "@jupyter-widgets/base",
          "model_name": "LayoutModel",
          "model_module_version": "1.2.0",
          "state": {
            "_model_module": "@jupyter-widgets/base",
            "_model_module_version": "1.2.0",
            "_model_name": "LayoutModel",
            "_view_count": null,
            "_view_module": "@jupyter-widgets/base",
            "_view_module_version": "1.2.0",
            "_view_name": "LayoutView",
            "align_content": null,
            "align_items": null,
            "align_self": null,
            "border": null,
            "bottom": null,
            "display": null,
            "flex": null,
            "flex_flow": null,
            "grid_area": null,
            "grid_auto_columns": null,
            "grid_auto_flow": null,
            "grid_auto_rows": null,
            "grid_column": null,
            "grid_gap": null,
            "grid_row": null,
            "grid_template_areas": null,
            "grid_template_columns": null,
            "grid_template_rows": null,
            "height": null,
            "justify_content": null,
            "justify_items": null,
            "left": null,
            "margin": null,
            "max_height": null,
            "max_width": null,
            "min_height": null,
            "min_width": null,
            "object_fit": null,
            "object_position": null,
            "order": null,
            "overflow": null,
            "overflow_x": null,
            "overflow_y": null,
            "padding": null,
            "right": null,
            "top": null,
            "visibility": null,
            "width": null
          }
        },
        "a28346a2bcdc4e8faa205f5a61fd1013": {
          "model_module": "@jupyter-widgets/controls",
          "model_name": "DescriptionStyleModel",
          "model_module_version": "1.5.0",
          "state": {
            "_model_module": "@jupyter-widgets/controls",
            "_model_module_version": "1.5.0",
            "_model_name": "DescriptionStyleModel",
            "_view_count": null,
            "_view_module": "@jupyter-widgets/base",
            "_view_module_version": "1.2.0",
            "_view_name": "StyleView",
            "description_width": ""
          }
        },
        "58150e308d8040adb4e9a551c7822c71": {
          "model_module": "@jupyter-widgets/controls",
          "model_name": "HBoxModel",
          "model_module_version": "1.5.0",
          "state": {
            "_dom_classes": [],
            "_model_module": "@jupyter-widgets/controls",
            "_model_module_version": "1.5.0",
            "_model_name": "HBoxModel",
            "_view_count": null,
            "_view_module": "@jupyter-widgets/controls",
            "_view_module_version": "1.5.0",
            "_view_name": "HBoxView",
            "box_style": "",
            "children": [
              "IPY_MODEL_d4f2d44b30af4011a0fb494aeed260ce",
              "IPY_MODEL_85cecca64b5840899476da5649f42871",
              "IPY_MODEL_29a4b40e65394f4b92751af746faf525"
            ],
            "layout": "IPY_MODEL_cd208b501c7e430ea87faa12da3d984d"
          }
        },
        "d4f2d44b30af4011a0fb494aeed260ce": {
          "model_module": "@jupyter-widgets/controls",
          "model_name": "HTMLModel",
          "model_module_version": "1.5.0",
          "state": {
            "_dom_classes": [],
            "_model_module": "@jupyter-widgets/controls",
            "_model_module_version": "1.5.0",
            "_model_name": "HTMLModel",
            "_view_count": null,
            "_view_module": "@jupyter-widgets/controls",
            "_view_module_version": "1.5.0",
            "_view_name": "HTMLView",
            "description": "",
            "description_tooltip": null,
            "layout": "IPY_MODEL_f0920c3ce8574db6816832291964f3e5",
            "placeholder": "​",
            "style": "IPY_MODEL_32e055707c2a4d52b47170cf7f6b7d52",
            "value": "100%"
          }
        },
        "85cecca64b5840899476da5649f42871": {
          "model_module": "@jupyter-widgets/controls",
          "model_name": "FloatProgressModel",
          "model_module_version": "1.5.0",
          "state": {
            "_dom_classes": [],
            "_model_module": "@jupyter-widgets/controls",
            "_model_module_version": "1.5.0",
            "_model_name": "FloatProgressModel",
            "_view_count": null,
            "_view_module": "@jupyter-widgets/controls",
            "_view_module_version": "1.5.0",
            "_view_name": "ProgressView",
            "bar_style": "success",
            "description": "",
            "description_tooltip": null,
            "layout": "IPY_MODEL_b694f2cfd19049e890eb3c99aee2bbf2",
            "max": 4542,
            "min": 0,
            "orientation": "horizontal",
            "style": "IPY_MODEL_abdaee0eca4d4b19aaad3c7fe0079770",
            "value": 4542
          }
        },
        "29a4b40e65394f4b92751af746faf525": {
          "model_module": "@jupyter-widgets/controls",
          "model_name": "HTMLModel",
          "model_module_version": "1.5.0",
          "state": {
            "_dom_classes": [],
            "_model_module": "@jupyter-widgets/controls",
            "_model_module_version": "1.5.0",
            "_model_name": "HTMLModel",
            "_view_count": null,
            "_view_module": "@jupyter-widgets/controls",
            "_view_module_version": "1.5.0",
            "_view_name": "HTMLView",
            "description": "",
            "description_tooltip": null,
            "layout": "IPY_MODEL_b184d0c41ae6492781d4aae268b4aecf",
            "placeholder": "​",
            "style": "IPY_MODEL_63ac5606a89447418b3eaf0af126260e",
            "value": " 4542/4542 [00:00&lt;00:00, 152138.90it/s]"
          }
        },
        "cd208b501c7e430ea87faa12da3d984d": {
          "model_module": "@jupyter-widgets/base",
          "model_name": "LayoutModel",
          "model_module_version": "1.2.0",
          "state": {
            "_model_module": "@jupyter-widgets/base",
            "_model_module_version": "1.2.0",
            "_model_name": "LayoutModel",
            "_view_count": null,
            "_view_module": "@jupyter-widgets/base",
            "_view_module_version": "1.2.0",
            "_view_name": "LayoutView",
            "align_content": null,
            "align_items": null,
            "align_self": null,
            "border": null,
            "bottom": null,
            "display": null,
            "flex": null,
            "flex_flow": null,
            "grid_area": null,
            "grid_auto_columns": null,
            "grid_auto_flow": null,
            "grid_auto_rows": null,
            "grid_column": null,
            "grid_gap": null,
            "grid_row": null,
            "grid_template_areas": null,
            "grid_template_columns": null,
            "grid_template_rows": null,
            "height": null,
            "justify_content": null,
            "justify_items": null,
            "left": null,
            "margin": null,
            "max_height": null,
            "max_width": null,
            "min_height": null,
            "min_width": null,
            "object_fit": null,
            "object_position": null,
            "order": null,
            "overflow": null,
            "overflow_x": null,
            "overflow_y": null,
            "padding": null,
            "right": null,
            "top": null,
            "visibility": null,
            "width": null
          }
        },
        "f0920c3ce8574db6816832291964f3e5": {
          "model_module": "@jupyter-widgets/base",
          "model_name": "LayoutModel",
          "model_module_version": "1.2.0",
          "state": {
            "_model_module": "@jupyter-widgets/base",
            "_model_module_version": "1.2.0",
            "_model_name": "LayoutModel",
            "_view_count": null,
            "_view_module": "@jupyter-widgets/base",
            "_view_module_version": "1.2.0",
            "_view_name": "LayoutView",
            "align_content": null,
            "align_items": null,
            "align_self": null,
            "border": null,
            "bottom": null,
            "display": null,
            "flex": null,
            "flex_flow": null,
            "grid_area": null,
            "grid_auto_columns": null,
            "grid_auto_flow": null,
            "grid_auto_rows": null,
            "grid_column": null,
            "grid_gap": null,
            "grid_row": null,
            "grid_template_areas": null,
            "grid_template_columns": null,
            "grid_template_rows": null,
            "height": null,
            "justify_content": null,
            "justify_items": null,
            "left": null,
            "margin": null,
            "max_height": null,
            "max_width": null,
            "min_height": null,
            "min_width": null,
            "object_fit": null,
            "object_position": null,
            "order": null,
            "overflow": null,
            "overflow_x": null,
            "overflow_y": null,
            "padding": null,
            "right": null,
            "top": null,
            "visibility": null,
            "width": null
          }
        },
        "32e055707c2a4d52b47170cf7f6b7d52": {
          "model_module": "@jupyter-widgets/controls",
          "model_name": "DescriptionStyleModel",
          "model_module_version": "1.5.0",
          "state": {
            "_model_module": "@jupyter-widgets/controls",
            "_model_module_version": "1.5.0",
            "_model_name": "DescriptionStyleModel",
            "_view_count": null,
            "_view_module": "@jupyter-widgets/base",
            "_view_module_version": "1.2.0",
            "_view_name": "StyleView",
            "description_width": ""
          }
        },
        "b694f2cfd19049e890eb3c99aee2bbf2": {
          "model_module": "@jupyter-widgets/base",
          "model_name": "LayoutModel",
          "model_module_version": "1.2.0",
          "state": {
            "_model_module": "@jupyter-widgets/base",
            "_model_module_version": "1.2.0",
            "_model_name": "LayoutModel",
            "_view_count": null,
            "_view_module": "@jupyter-widgets/base",
            "_view_module_version": "1.2.0",
            "_view_name": "LayoutView",
            "align_content": null,
            "align_items": null,
            "align_self": null,
            "border": null,
            "bottom": null,
            "display": null,
            "flex": null,
            "flex_flow": null,
            "grid_area": null,
            "grid_auto_columns": null,
            "grid_auto_flow": null,
            "grid_auto_rows": null,
            "grid_column": null,
            "grid_gap": null,
            "grid_row": null,
            "grid_template_areas": null,
            "grid_template_columns": null,
            "grid_template_rows": null,
            "height": null,
            "justify_content": null,
            "justify_items": null,
            "left": null,
            "margin": null,
            "max_height": null,
            "max_width": null,
            "min_height": null,
            "min_width": null,
            "object_fit": null,
            "object_position": null,
            "order": null,
            "overflow": null,
            "overflow_x": null,
            "overflow_y": null,
            "padding": null,
            "right": null,
            "top": null,
            "visibility": null,
            "width": null
          }
        },
        "abdaee0eca4d4b19aaad3c7fe0079770": {
          "model_module": "@jupyter-widgets/controls",
          "model_name": "ProgressStyleModel",
          "model_module_version": "1.5.0",
          "state": {
            "_model_module": "@jupyter-widgets/controls",
            "_model_module_version": "1.5.0",
            "_model_name": "ProgressStyleModel",
            "_view_count": null,
            "_view_module": "@jupyter-widgets/base",
            "_view_module_version": "1.2.0",
            "_view_name": "StyleView",
            "bar_color": null,
            "description_width": ""
          }
        },
        "b184d0c41ae6492781d4aae268b4aecf": {
          "model_module": "@jupyter-widgets/base",
          "model_name": "LayoutModel",
          "model_module_version": "1.2.0",
          "state": {
            "_model_module": "@jupyter-widgets/base",
            "_model_module_version": "1.2.0",
            "_model_name": "LayoutModel",
            "_view_count": null,
            "_view_module": "@jupyter-widgets/base",
            "_view_module_version": "1.2.0",
            "_view_name": "LayoutView",
            "align_content": null,
            "align_items": null,
            "align_self": null,
            "border": null,
            "bottom": null,
            "display": null,
            "flex": null,
            "flex_flow": null,
            "grid_area": null,
            "grid_auto_columns": null,
            "grid_auto_flow": null,
            "grid_auto_rows": null,
            "grid_column": null,
            "grid_gap": null,
            "grid_row": null,
            "grid_template_areas": null,
            "grid_template_columns": null,
            "grid_template_rows": null,
            "height": null,
            "justify_content": null,
            "justify_items": null,
            "left": null,
            "margin": null,
            "max_height": null,
            "max_width": null,
            "min_height": null,
            "min_width": null,
            "object_fit": null,
            "object_position": null,
            "order": null,
            "overflow": null,
            "overflow_x": null,
            "overflow_y": null,
            "padding": null,
            "right": null,
            "top": null,
            "visibility": null,
            "width": null
          }
        },
        "63ac5606a89447418b3eaf0af126260e": {
          "model_module": "@jupyter-widgets/controls",
          "model_name": "DescriptionStyleModel",
          "model_module_version": "1.5.0",
          "state": {
            "_model_module": "@jupyter-widgets/controls",
            "_model_module_version": "1.5.0",
            "_model_name": "DescriptionStyleModel",
            "_view_count": null,
            "_view_module": "@jupyter-widgets/base",
            "_view_module_version": "1.2.0",
            "_view_name": "StyleView",
            "description_width": ""
          }
        }
      }
    }
  },
  "nbformat": 4,
  "nbformat_minor": 0
}