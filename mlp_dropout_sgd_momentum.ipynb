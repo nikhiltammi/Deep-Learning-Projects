{
  "cells": [
    {
      "cell_type": "markdown",
      "metadata": {
        "id": "UrXmoAXg5vM-"
      },
      "source": [
        "# MLP with Dropout "
      ]
    },
    {
      "cell_type": "markdown",
      "metadata": {
        "id": "VvKvUE9K5vM_"
      },
      "source": [
        "## Imports"
      ]
    },
    {
      "cell_type": "code",
      "execution_count": 3,
      "metadata": {
        "colab": {
          "base_uri": "https://localhost:8080/"
        },
        "id": "StWHGBIf5vNA",
        "outputId": "36614dcf-9a42-4636-95ce-d051e93e57e2"
      },
      "outputs": [
        {
          "output_type": "stream",
          "name": "stdout",
          "text": [
            "env: CUBLAS_WORKSPACE_CONFIG=:4096:8\n"
          ]
        }
      ],
      "source": [
        "import torch\n",
        "import numpy as np\n",
        "import matplotlib.pyplot as plt\n",
        "%env CUBLAS_WORKSPACE_CONFIG=:4096:8"
      ]
    },
    {
      "cell_type": "code",
      "execution_count": 4,
      "metadata": {
        "id": "7QLgCLaj5vNB"
      },
      "outputs": [],
      "source": [
        "# From local helper files\n",
        "from helper_evaluation import set_all_seeds, set_deterministic\n",
        "from helper_train import train_model\n",
        "from helper_plotting import plot_training_loss, plot_accuracy, show_examples\n",
        "from helper_dataset import get_dataloaders_mnist"
      ]
    },
    {
      "cell_type": "markdown",
      "metadata": {
        "id": "PsVVUZ6p5vNC"
      },
      "source": [
        "## Settings and Dataset"
      ]
    },
    {
      "cell_type": "code",
      "execution_count": 13,
      "metadata": {
        "id": "ITVZMstJ5vND"
      },
      "outputs": [],
      "source": [
        "##########################\n",
        "### SETTINGS\n",
        "##########################\n",
        "\n",
        "RANDOM_SEED = 123\n",
        "BATCH_SIZE = 256\n",
        "NUM_HIDDEN_1 = 75\n",
        "NUM_HIDDEN_2 = 45\n",
        "NUM_EPOCHS = 50\n",
        "DEVICE = torch.device('cuda:0' if torch.cuda.is_available() else 'cpu')"
      ]
    },
    {
      "cell_type": "code",
      "execution_count": 14,
      "metadata": {
        "id": "_4bfS3DK5vNE"
      },
      "outputs": [],
      "source": [
        "set_all_seeds(RANDOM_SEED)\n",
        "set_deterministic()"
      ]
    },
    {
      "cell_type": "code",
      "execution_count": 15,
      "metadata": {
        "colab": {
          "base_uri": "https://localhost:8080/"
        },
        "id": "16Lab1S95vNF",
        "outputId": "4c7871c6-9892-42e7-a816-1ea5b68e763d"
      },
      "outputs": [
        {
          "output_type": "stream",
          "name": "stdout",
          "text": [
            "Image batch dimensions: torch.Size([256, 1, 28, 28])\n",
            "Image label dimensions: torch.Size([256])\n",
            "Class labels of 10 examples: tensor([4, 5, 8, 9, 9, 4, 9, 9, 3, 9])\n"
          ]
        }
      ],
      "source": [
        "##########################\n",
        "### MNIST DATASET\n",
        "##########################\n",
        "\n",
        "train_loader, valid_loader, test_loader = get_dataloaders_mnist(\n",
        "    batch_size=BATCH_SIZE,\n",
        "    validation_fraction=0.1)\n",
        "\n",
        "# Checking the dataset\n",
        "for images, labels in train_loader:  \n",
        "    print('Image batch dimensions:', images.shape)\n",
        "    print('Image label dimensions:', labels.shape)\n",
        "    print('Class labels of 10 examples:', labels[:10])\n",
        "    break"
      ]
    },
    {
      "cell_type": "markdown",
      "metadata": {
        "id": "ZO8hLkyf5vNG"
      },
      "source": [
        "## Model"
      ]
    },
    {
      "cell_type": "code",
      "source": [
        "class MLPNet(torch.nn.Module):\n",
        "      def __init__(self):\n",
        "         super(MLPNet, self).__init__()\n",
        "         self.fc1 = torch.nn.Linear(784, 256)\n",
        "         self.fc2 = torch.nn.Linear(256, 256)\n",
        "         self.fc3 = torch.nn.Linear(256, 10)\n",
        "         \n",
        "      def forward(self, x):\n",
        "         x = x.view(-1, 28*28)\n",
        "         x = torch.nn.functional.relu(self.fc1(x))\n",
        "         x = torch.nn.functional.relu(self.fc2(x))\n",
        "         x = self.fc3(x)\n",
        "         return x\n",
        "         \n",
        "      def name(self):\n",
        "         return \"MLP\""
      ],
      "metadata": {
        "id": "gZtq6trLbKpl"
      },
      "execution_count": 19,
      "outputs": []
    },
    {
      "cell_type": "markdown",
      "source": [
        "##SGD with Momentum"
      ],
      "metadata": {
        "id": "jlFas0EViNLu"
      }
    },
    {
      "cell_type": "code",
      "execution_count": 20,
      "metadata": {
        "colab": {
          "base_uri": "https://localhost:8080/",
          "height": 1000
        },
        "id": "4t7VH-ne5vNJ",
        "outputId": "e441d04e-1e87-402f-eb14-df4214f61523"
      },
      "outputs": [
        {
          "output_type": "stream",
          "name": "stdout",
          "text": [
            "Epoch: 001/050 | Batch 0000/0210 | Loss: 2.2969\n",
            "Epoch: 001/050 | Batch 0100/0210 | Loss: 0.3839\n",
            "Epoch: 001/050 | Batch 0200/0210 | Loss: 0.1640\n",
            "Epoch: 001/050 | Train: 95.00% | Validation: 95.73%\n",
            "Time elapsed: 0.21 min\n",
            "Epoch: 002/050 | Batch 0000/0210 | Loss: 0.1669\n",
            "Epoch: 002/050 | Batch 0100/0210 | Loss: 0.1454\n",
            "Epoch: 002/050 | Batch 0200/0210 | Loss: 0.0987\n",
            "Epoch: 002/050 | Train: 97.62% | Validation: 97.57%\n",
            "Time elapsed: 0.42 min\n",
            "Epoch: 003/050 | Batch 0000/0210 | Loss: 0.1250\n",
            "Epoch: 003/050 | Batch 0100/0210 | Loss: 0.0638\n",
            "Epoch: 003/050 | Batch 0200/0210 | Loss: 0.0663\n",
            "Epoch: 003/050 | Train: 97.81% | Validation: 97.28%\n",
            "Time elapsed: 0.63 min\n",
            "Epoch: 004/050 | Batch 0000/0210 | Loss: 0.0855\n",
            "Epoch: 004/050 | Batch 0100/0210 | Loss: 0.0156\n",
            "Epoch: 004/050 | Batch 0200/0210 | Loss: 0.0850\n",
            "Epoch: 004/050 | Train: 98.57% | Validation: 97.90%\n",
            "Time elapsed: 0.84 min\n",
            "Epoch: 005/050 | Batch 0000/0210 | Loss: 0.0462\n",
            "Epoch: 005/050 | Batch 0100/0210 | Loss: 0.0375\n",
            "Epoch: 005/050 | Batch 0200/0210 | Loss: 0.0459\n",
            "Epoch: 005/050 | Train: 98.93% | Validation: 98.05%\n",
            "Time elapsed: 1.04 min\n",
            "Epoch: 006/050 | Batch 0000/0210 | Loss: 0.0117\n",
            "Epoch: 006/050 | Batch 0100/0210 | Loss: 0.0294\n",
            "Epoch: 006/050 | Batch 0200/0210 | Loss: 0.0352\n",
            "Epoch: 006/050 | Train: 99.42% | Validation: 98.23%\n",
            "Time elapsed: 1.25 min\n",
            "Epoch: 007/050 | Batch 0000/0210 | Loss: 0.0253\n",
            "Epoch: 007/050 | Batch 0100/0210 | Loss: 0.0396\n",
            "Epoch: 007/050 | Batch 0200/0210 | Loss: 0.0344\n",
            "Epoch: 007/050 | Train: 99.20% | Validation: 97.92%\n",
            "Time elapsed: 1.46 min\n",
            "Epoch: 008/050 | Batch 0000/0210 | Loss: 0.0311\n",
            "Epoch: 008/050 | Batch 0100/0210 | Loss: 0.0671\n",
            "Epoch: 008/050 | Batch 0200/0210 | Loss: 0.0232\n",
            "Epoch: 008/050 | Train: 99.52% | Validation: 98.35%\n",
            "Time elapsed: 1.67 min\n",
            "Epoch: 009/050 | Batch 0000/0210 | Loss: 0.0134\n",
            "Epoch: 009/050 | Batch 0100/0210 | Loss: 0.0077\n",
            "Epoch: 009/050 | Batch 0200/0210 | Loss: 0.0057\n",
            "Epoch: 009/050 | Train: 99.70% | Validation: 98.13%\n",
            "Time elapsed: 1.88 min\n",
            "Epoch: 010/050 | Batch 0000/0210 | Loss: 0.0047\n",
            "Epoch: 010/050 | Batch 0100/0210 | Loss: 0.0184\n",
            "Epoch: 010/050 | Batch 0200/0210 | Loss: 0.0195\n",
            "Epoch: 010/050 | Train: 99.69% | Validation: 98.28%\n",
            "Time elapsed: 2.09 min\n",
            "Epoch: 011/050 | Batch 0000/0210 | Loss: 0.0174\n",
            "Epoch: 011/050 | Batch 0100/0210 | Loss: 0.0163\n",
            "Epoch: 011/050 | Batch 0200/0210 | Loss: 0.0122\n",
            "Epoch: 011/050 | Train: 99.69% | Validation: 98.33%\n",
            "Time elapsed: 2.31 min\n",
            "Epoch: 012/050 | Batch 0000/0210 | Loss: 0.0090\n",
            "Epoch: 012/050 | Batch 0100/0210 | Loss: 0.0113\n",
            "Epoch: 012/050 | Batch 0200/0210 | Loss: 0.0173\n",
            "Epoch: 012/050 | Train: 99.80% | Validation: 98.10%\n",
            "Time elapsed: 2.52 min\n",
            "Epoch: 013/050 | Batch 0000/0210 | Loss: 0.0087\n",
            "Epoch: 013/050 | Batch 0100/0210 | Loss: 0.0040\n",
            "Epoch: 013/050 | Batch 0200/0210 | Loss: 0.0226\n",
            "Epoch: 013/050 | Train: 99.79% | Validation: 98.32%\n",
            "Time elapsed: 2.72 min\n",
            "Epoch: 014/050 | Batch 0000/0210 | Loss: 0.0066\n",
            "Epoch: 014/050 | Batch 0100/0210 | Loss: 0.0064\n",
            "Epoch: 014/050 | Batch 0200/0210 | Loss: 0.0053\n",
            "Epoch: 014/050 | Train: 99.96% | Validation: 98.35%\n",
            "Time elapsed: 2.93 min\n",
            "Epoch: 015/050 | Batch 0000/0210 | Loss: 0.0025\n",
            "Epoch: 015/050 | Batch 0100/0210 | Loss: 0.0049\n",
            "Epoch: 015/050 | Batch 0200/0210 | Loss: 0.0019\n",
            "Epoch: 015/050 | Train: 99.99% | Validation: 98.48%\n",
            "Time elapsed: 3.14 min\n",
            "Epoch: 016/050 | Batch 0000/0210 | Loss: 0.0020\n",
            "Epoch: 016/050 | Batch 0100/0210 | Loss: 0.0033\n",
            "Epoch: 016/050 | Batch 0200/0210 | Loss: 0.0012\n",
            "Epoch: 016/050 | Train: 100.00% | Validation: 98.45%\n",
            "Time elapsed: 3.34 min\n",
            "Epoch: 017/050 | Batch 0000/0210 | Loss: 0.0026\n",
            "Epoch: 017/050 | Batch 0100/0210 | Loss: 0.0013\n",
            "Epoch: 017/050 | Batch 0200/0210 | Loss: 0.0028\n",
            "Epoch: 017/050 | Train: 100.00% | Validation: 98.48%\n",
            "Time elapsed: 3.55 min\n",
            "Epoch: 018/050 | Batch 0000/0210 | Loss: 0.0038\n",
            "Epoch: 018/050 | Batch 0100/0210 | Loss: 0.0026\n",
            "Epoch: 018/050 | Batch 0200/0210 | Loss: 0.0030\n",
            "Epoch: 018/050 | Train: 100.00% | Validation: 98.42%\n",
            "Time elapsed: 3.75 min\n",
            "Epoch: 019/050 | Batch 0000/0210 | Loss: 0.0033\n",
            "Epoch: 019/050 | Batch 0100/0210 | Loss: 0.0013\n",
            "Epoch: 019/050 | Batch 0200/0210 | Loss: 0.0017\n",
            "Epoch: 019/050 | Train: 100.00% | Validation: 98.63%\n",
            "Time elapsed: 3.96 min\n",
            "Epoch: 020/050 | Batch 0000/0210 | Loss: 0.0015\n",
            "Epoch: 020/050 | Batch 0100/0210 | Loss: 0.0021\n",
            "Epoch: 020/050 | Batch 0200/0210 | Loss: 0.0022\n",
            "Epoch: 020/050 | Train: 100.00% | Validation: 98.58%\n",
            "Time elapsed: 4.17 min\n",
            "Epoch: 021/050 | Batch 0000/0210 | Loss: 0.0024\n",
            "Epoch: 021/050 | Batch 0100/0210 | Loss: 0.0028\n",
            "Epoch: 021/050 | Batch 0200/0210 | Loss: 0.0031\n",
            "Epoch: 021/050 | Train: 100.00% | Validation: 98.48%\n",
            "Time elapsed: 4.38 min\n",
            "Epoch: 022/050 | Batch 0000/0210 | Loss: 0.0028\n",
            "Epoch: 022/050 | Batch 0100/0210 | Loss: 0.0013\n",
            "Epoch: 022/050 | Batch 0200/0210 | Loss: 0.0025\n",
            "Epoch: 022/050 | Train: 100.00% | Validation: 98.52%\n",
            "Time elapsed: 4.58 min\n",
            "Epoch: 023/050 | Batch 0000/0210 | Loss: 0.0021\n",
            "Epoch: 023/050 | Batch 0100/0210 | Loss: 0.0028\n",
            "Epoch: 023/050 | Batch 0200/0210 | Loss: 0.0025\n",
            "Epoch: 023/050 | Train: 100.00% | Validation: 98.50%\n",
            "Time elapsed: 4.79 min\n",
            "Epoch: 024/050 | Batch 0000/0210 | Loss: 0.0025\n",
            "Epoch: 024/050 | Batch 0100/0210 | Loss: 0.0023\n",
            "Epoch: 024/050 | Batch 0200/0210 | Loss: 0.0014\n",
            "Epoch: 024/050 | Train: 100.00% | Validation: 98.53%\n",
            "Time elapsed: 5.00 min\n",
            "Epoch: 025/050 | Batch 0000/0210 | Loss: 0.0018\n",
            "Epoch: 025/050 | Batch 0100/0210 | Loss: 0.0012\n",
            "Epoch: 025/050 | Batch 0200/0210 | Loss: 0.0014\n",
            "Epoch: 025/050 | Train: 100.00% | Validation: 98.55%\n",
            "Time elapsed: 5.21 min\n",
            "Epoch: 026/050 | Batch 0000/0210 | Loss: 0.0020\n",
            "Epoch: 026/050 | Batch 0100/0210 | Loss: 0.0020\n",
            "Epoch: 026/050 | Batch 0200/0210 | Loss: 0.0040\n",
            "Epoch: 026/050 | Train: 100.00% | Validation: 98.40%\n",
            "Time elapsed: 5.43 min\n",
            "Epoch: 027/050 | Batch 0000/0210 | Loss: 0.0017\n",
            "Epoch: 027/050 | Batch 0100/0210 | Loss: 0.0029\n",
            "Epoch: 027/050 | Batch 0200/0210 | Loss: 0.0037\n",
            "Epoch: 027/050 | Train: 100.00% | Validation: 98.47%\n",
            "Time elapsed: 5.63 min\n",
            "Epoch: 028/050 | Batch 0000/0210 | Loss: 0.0014\n",
            "Epoch: 028/050 | Batch 0100/0210 | Loss: 0.0025\n",
            "Epoch: 028/050 | Batch 0200/0210 | Loss: 0.0017\n",
            "Epoch: 028/050 | Train: 100.00% | Validation: 98.50%\n",
            "Time elapsed: 5.84 min\n",
            "Epoch: 029/050 | Batch 0000/0210 | Loss: 0.0026\n",
            "Epoch: 029/050 | Batch 0100/0210 | Loss: 0.0015\n",
            "Epoch: 029/050 | Batch 0200/0210 | Loss: 0.0043\n",
            "Epoch: 029/050 | Train: 100.00% | Validation: 98.42%\n",
            "Time elapsed: 6.05 min\n",
            "Epoch: 030/050 | Batch 0000/0210 | Loss: 0.0021\n",
            "Epoch: 030/050 | Batch 0100/0210 | Loss: 0.0033\n",
            "Epoch: 030/050 | Batch 0200/0210 | Loss: 0.0018\n",
            "Epoch: 030/050 | Train: 100.00% | Validation: 98.47%\n",
            "Time elapsed: 6.26 min\n",
            "Epoch: 031/050 | Batch 0000/0210 | Loss: 0.0016\n",
            "Epoch: 031/050 | Batch 0100/0210 | Loss: 0.0037\n",
            "Epoch: 031/050 | Batch 0200/0210 | Loss: 0.0026\n",
            "Epoch: 031/050 | Train: 100.00% | Validation: 98.53%\n",
            "Time elapsed: 6.46 min\n",
            "Epoch: 032/050 | Batch 0000/0210 | Loss: 0.0016\n",
            "Epoch: 032/050 | Batch 0100/0210 | Loss: 0.0023\n",
            "Epoch: 032/050 | Batch 0200/0210 | Loss: 0.0022\n",
            "Epoch: 032/050 | Train: 100.00% | Validation: 98.47%\n",
            "Time elapsed: 6.67 min\n",
            "Epoch: 033/050 | Batch 0000/0210 | Loss: 0.0032\n",
            "Epoch: 033/050 | Batch 0100/0210 | Loss: 0.0026\n",
            "Epoch: 033/050 | Batch 0200/0210 | Loss: 0.0047\n",
            "Epoch: 033/050 | Train: 100.00% | Validation: 98.50%\n",
            "Time elapsed: 6.88 min\n",
            "Epoch 00033: reducing learning rate of group 0 to 1.0000e-02.\n",
            "Epoch: 034/050 | Batch 0000/0210 | Loss: 0.0034\n",
            "Epoch: 034/050 | Batch 0100/0210 | Loss: 0.0015\n",
            "Epoch: 034/050 | Batch 0200/0210 | Loss: 0.0015\n",
            "Epoch: 034/050 | Train: 100.00% | Validation: 98.48%\n",
            "Time elapsed: 7.09 min\n",
            "Epoch: 035/050 | Batch 0000/0210 | Loss: 0.0019\n",
            "Epoch: 035/050 | Batch 0100/0210 | Loss: 0.0022\n",
            "Epoch: 035/050 | Batch 0200/0210 | Loss: 0.0011\n",
            "Epoch: 035/050 | Train: 100.00% | Validation: 98.48%\n",
            "Time elapsed: 7.30 min\n",
            "Epoch: 036/050 | Batch 0000/0210 | Loss: 0.0010\n",
            "Epoch: 036/050 | Batch 0100/0210 | Loss: 0.0020\n",
            "Epoch: 036/050 | Batch 0200/0210 | Loss: 0.0018\n",
            "Epoch: 036/050 | Train: 100.00% | Validation: 98.50%\n",
            "Time elapsed: 7.51 min\n",
            "Epoch: 037/050 | Batch 0000/0210 | Loss: 0.0021\n",
            "Epoch: 037/050 | Batch 0100/0210 | Loss: 0.0018\n",
            "Epoch: 037/050 | Batch 0200/0210 | Loss: 0.0013\n",
            "Epoch: 037/050 | Train: 100.00% | Validation: 98.48%\n",
            "Time elapsed: 7.71 min\n",
            "Epoch: 038/050 | Batch 0000/0210 | Loss: 0.0015\n",
            "Epoch: 038/050 | Batch 0100/0210 | Loss: 0.0012\n",
            "Epoch: 038/050 | Batch 0200/0210 | Loss: 0.0022\n",
            "Epoch: 038/050 | Train: 100.00% | Validation: 98.52%\n",
            "Time elapsed: 7.91 min\n",
            "Epoch: 039/050 | Batch 0000/0210 | Loss: 0.0015\n",
            "Epoch: 039/050 | Batch 0100/0210 | Loss: 0.0013\n",
            "Epoch: 039/050 | Batch 0200/0210 | Loss: 0.0024\n",
            "Epoch: 039/050 | Train: 100.00% | Validation: 98.48%\n",
            "Time elapsed: 8.12 min\n",
            "Epoch: 040/050 | Batch 0000/0210 | Loss: 0.0016\n",
            "Epoch: 040/050 | Batch 0100/0210 | Loss: 0.0022\n",
            "Epoch: 040/050 | Batch 0200/0210 | Loss: 0.0022\n",
            "Epoch: 040/050 | Train: 100.00% | Validation: 98.50%\n",
            "Time elapsed: 8.33 min\n",
            "Epoch: 041/050 | Batch 0000/0210 | Loss: 0.0018\n",
            "Epoch: 041/050 | Batch 0100/0210 | Loss: 0.0017\n",
            "Epoch: 041/050 | Batch 0200/0210 | Loss: 0.0015\n",
            "Epoch: 041/050 | Train: 100.00% | Validation: 98.53%\n",
            "Time elapsed: 8.55 min\n",
            "Epoch: 042/050 | Batch 0000/0210 | Loss: 0.0032\n",
            "Epoch: 042/050 | Batch 0100/0210 | Loss: 0.0016\n",
            "Epoch: 042/050 | Batch 0200/0210 | Loss: 0.0015\n",
            "Epoch: 042/050 | Train: 100.00% | Validation: 98.52%\n",
            "Time elapsed: 8.75 min\n",
            "Epoch: 043/050 | Batch 0000/0210 | Loss: 0.0023\n",
            "Epoch: 043/050 | Batch 0100/0210 | Loss: 0.0016\n",
            "Epoch: 043/050 | Batch 0200/0210 | Loss: 0.0018\n",
            "Epoch: 043/050 | Train: 100.00% | Validation: 98.55%\n",
            "Time elapsed: 8.96 min\n",
            "Epoch: 044/050 | Batch 0000/0210 | Loss: 0.0015\n",
            "Epoch: 044/050 | Batch 0100/0210 | Loss: 0.0017\n",
            "Epoch: 044/050 | Batch 0200/0210 | Loss: 0.0032\n",
            "Epoch: 044/050 | Train: 100.00% | Validation: 98.52%\n",
            "Time elapsed: 9.17 min\n",
            "Epoch 00044: reducing learning rate of group 0 to 1.0000e-03.\n",
            "Epoch: 045/050 | Batch 0000/0210 | Loss: 0.0015\n",
            "Epoch: 045/050 | Batch 0100/0210 | Loss: 0.0018\n",
            "Epoch: 045/050 | Batch 0200/0210 | Loss: 0.0025\n",
            "Epoch: 045/050 | Train: 100.00% | Validation: 98.50%\n",
            "Time elapsed: 9.37 min\n",
            "Epoch: 046/050 | Batch 0000/0210 | Loss: 0.0027\n",
            "Epoch: 046/050 | Batch 0100/0210 | Loss: 0.0016\n",
            "Epoch: 046/050 | Batch 0200/0210 | Loss: 0.0021\n",
            "Epoch: 046/050 | Train: 100.00% | Validation: 98.50%\n",
            "Time elapsed: 9.58 min\n",
            "Epoch: 047/050 | Batch 0000/0210 | Loss: 0.0025\n",
            "Epoch: 047/050 | Batch 0100/0210 | Loss: 0.0018\n",
            "Epoch: 047/050 | Batch 0200/0210 | Loss: 0.0013\n",
            "Epoch: 047/050 | Train: 100.00% | Validation: 98.50%\n",
            "Time elapsed: 9.79 min\n",
            "Epoch: 048/050 | Batch 0000/0210 | Loss: 0.0023\n",
            "Epoch: 048/050 | Batch 0100/0210 | Loss: 0.0011\n",
            "Epoch: 048/050 | Batch 0200/0210 | Loss: 0.0023\n",
            "Epoch: 048/050 | Train: 100.00% | Validation: 98.50%\n",
            "Time elapsed: 9.99 min\n",
            "Epoch: 049/050 | Batch 0000/0210 | Loss: 0.0023\n",
            "Epoch: 049/050 | Batch 0100/0210 | Loss: 0.0024\n",
            "Epoch: 049/050 | Batch 0200/0210 | Loss: 0.0021\n",
            "Epoch: 049/050 | Train: 100.00% | Validation: 98.50%\n",
            "Time elapsed: 10.20 min\n",
            "Epoch: 050/050 | Batch 0000/0210 | Loss: 0.0022\n",
            "Epoch: 050/050 | Batch 0100/0210 | Loss: 0.0009\n",
            "Epoch: 050/050 | Batch 0200/0210 | Loss: 0.0021\n",
            "Epoch: 050/050 | Train: 100.00% | Validation: 98.50%\n",
            "Time elapsed: 10.41 min\n",
            "Total Training Time: 10.41 min\n",
            "Test accuracy 98.35%\n"
          ]
        },
        {
          "output_type": "display_data",
          "data": {
            "text/plain": [
              "<Figure size 432x288 with 2 Axes>"
            ],
            "image/png": "[encoded data removed]"
          },
          "metadata": {
            "needs_background": "light"
          }
        },
        {
          "output_type": "display_data",
          "data": {
            "text/plain": [
              "<Figure size 432x288 with 1 Axes>"
            ],
            "image/png": "[encoded data removed]"
          },
          "metadata": {
            "needs_background": "light"
          }
        }
      ],
      "source": [
        "torch.manual_seed(RANDOM_SEED)\n",
        "model = MLPNet()\n",
        "model = model.to(DEVICE)\n",
        "\n",
        "optimizer = torch.optim.SGD(model.parameters(), lr=0.1, momentum=0.9, weight_decay=0.0001)\n",
        "\n",
        "scheduler = torch.optim.lr_scheduler.ReduceLROnPlateau(optimizer,\n",
        "                                                       factor=0.1,\n",
        "                                                       mode='min',\n",
        "                                                       verbose=True)\n",
        "\n",
        "minibatch_loss_list, train_acc_list, valid_acc_list = train_model(\n",
        "    model=model,\n",
        "    num_epochs=NUM_EPOCHS,\n",
        "    train_loader=train_loader,\n",
        "    valid_loader=valid_loader,\n",
        "    test_loader=test_loader,\n",
        "    optimizer=optimizer,\n",
        "    device=DEVICE,\n",
        "    logging_interval=100,\n",
        "    scheduler=scheduler,\n",
        "    scheduler_on='minibatch_loss')\n",
        "\n",
        "plot_training_loss(minibatch_loss_list=minibatch_loss_list,\n",
        "                   num_epochs=NUM_EPOCHS,\n",
        "                   iter_per_epoch=len(train_loader),\n",
        "                   results_dir=None,\n",
        "                   averaging_iterations=20)\n",
        "plt.show()\n",
        "\n",
        "plot_accuracy(train_acc_list=train_acc_list,\n",
        "              valid_acc_list=valid_acc_list,\n",
        "              results_dir=None)\n",
        "plt.ylim([80, 100])\n",
        "plt.show()"
      ]
    },
    {
      "cell_type": "code",
      "source": [],
      "metadata": {
        "id": "08qjYfACSZ4E"
      },
      "execution_count": null,
      "outputs": []
    }
  ],
  "metadata": {
    "kernelspec": {
      "display_name": "Python 3",
      "language": "python",
      "name": "python3"
    },
    "language_info": {
      "codemirror_mode": {
        "name": "ipython",
        "version": 3
      },
      "file_extension": ".py",
      "mimetype": "text/x-python",
      "name": "python",
      "nbconvert_exporter": "python",
      "pygments_lexer": "ipython3",
      "version": "3.9.2"
    },
    "toc": {
      "nav_menu": {},
      "number_sections": true,
      "sideBar": true,
      "skip_h1_title": false,
      "title_cell": "Table of Contents",
      "title_sidebar": "Contents",
      "toc_cell": false,
      "toc_position": {},
      "toc_section_display": true,
      "toc_window_display": false
    },
    "colab": {
      "provenance": []
    }
  },
  "nbformat": 4,
  "nbformat_minor": 0
}